{
  "nbformat": 4,
  "nbformat_minor": 0,
  "metadata": {
    "kernelspec": {
      "display_name": "Python 3",
      "language": "python",
      "name": "python3"
    },
    "language_info": {
      "codemirror_mode": {
        "name": "ipython",
        "version": 3
      },
      "file_extension": ".py",
      "mimetype": "text/x-python",
      "name": "python",
      "nbconvert_exporter": "python",
      "pygments_lexer": "ipython3",
      "version": "3.8.5"
    },
    "colab": {
      "name": "MLP_classifier.ipynb",
      "provenance": [],
      "collapsed_sections": [
        "np8Vjdo01ovT",
        "I0SU3PbV1ovW"
      ]
    }
  },
  "cells": [
    {
      "cell_type": "code",
      "metadata": {
        "colab": {
          "base_uri": "https://localhost:8080/"
        },
        "id": "lFjyQ_rU2FpG",
        "outputId": "ba09ecf7-5898-4c84-abaa-fdd40acbca8f"
      },
      "source": [
        "from google.colab import drive\n",
        "drive.mount('/content/drive')"
      ],
      "execution_count": null,
      "outputs": [
        {
          "output_type": "stream",
          "text": [
            "Drive already mounted at /content/drive; to attempt to forcibly remount, call drive.mount(\"/content/drive\", force_remount=True).\n"
          ],
          "name": "stdout"
        }
      ]
    },
    {
      "cell_type": "code",
      "metadata": {
        "id": "PYUwtBMH1ou0"
      },
      "source": [
        "import os\n",
        "from os import path\n",
        "import numpy as np\n",
        "import torch\n",
        "import torch.nn as nn\n",
        "import torch.optim as optim\n",
        "import torch.autograd as autograd\n",
        "from torch.autograd import Variable\n",
        "from torch.utils.data import Dataset, DataLoader\n",
        "from torchvision import datasets, transforms, models\n",
        "import datetime\n",
        "import socket\n",
        "import random\n",
        "import easydict\n",
        "from pytz import timezone\n",
        "import operator\n",
        "import pandas as pd\n",
        "\n",
        "import matplotlib\n",
        "matplotlib.use('Agg')\n",
        "import matplotlib.pyplot as plt\n",
        "from IPython.display import Image\n",
        "\n",
        "import seaborn as sns\n",
        "from tqdm.notebook import tqdm\n",
        "import matplotlib.pyplot as plt\n",
        "from sklearn import preprocessing\n",
        "from sklearn.preprocessing import MinMaxScaler    \n",
        "from sklearn.model_selection import train_test_split\n",
        "from sklearn.metrics import confusion_matrix, classification_report\n",
        "\n",
        "%matplotlib inline\n"
      ],
      "execution_count": null,
      "outputs": []
    },
    {
      "cell_type": "code",
      "metadata": {
        "id": "WUC9LOxQ1ovA"
      },
      "source": [
        "tz = timezone('US/Eastern')\n",
        "\n",
        "path = \"/content/drive/MyDrive/d3_data/\" # data directory\n",
        "\n",
        "# train data\n",
        "train_wo_file = \"train_without_missing.txt\"\n",
        "train_w_file = \"train_with_missing.txt\"\n",
        "train_meta = \"train.meta\"\n",
        "\n",
        "# validation data\n",
        "validation_wo_file = \"validation_without_missing.txt\"\n",
        "validation_w_file = \"validation_with_missing.txt\"\n",
        "validation_meta = \"validation.meta\"\n",
        "\n",
        "# test data\n",
        "test_wo_file = \"test_without_missing.txt\"\n",
        "test_w_file = \"test_with_missing.txt\"\n",
        "test_meta = \"test.meta\"\n",
        "\n",
        "# checkpoint_epoch = 10\n",
        "checkpoint = None\n",
        "\n",
        "args = easydict.EasyDict({\n",
        "    \"log_name\": \"imputation_model\",\n",
        "    \"model_type\": \"mlp\",\n",
        "    \"nb_epochs\":500,\n",
        "    \"bottleneck_dim\":1024,\n",
        "    \"encoder_dim\":6,\n",
        "    \"dencoder_dim\":6,\n",
        "    \"encoder_dim\":0,\n",
        "    \"dencoder_dim\":0,\n",
        "    \"batch_size\":64,\n",
        "    \"seq_len\":137,\n",
        "    \"learning_rate\":0.0001,\n",
        "    \"betal\":0.5,\n",
        "    \"seed\":1,\n",
        "    \"missing_char\":\".\",\n",
        "    \"resnet_mix\":0.5,\n",
        "    \"optimizer\":\"adam\",\n",
        "    \"haplotype_cutoff\":1.0,\n",
        "    \"filter_size\":7,\n",
        "    \"with_region_metadata\":True,\n",
        "    \"continent\": False,\n",
        "    \"save_model\": True,\n",
        "    \"latent_dim\":64,\n",
        "    \"gen_dim\": 16,\n",
        "    \"disc_dim\": 16,\n",
        "    \"gen_layers\":1,\n",
        "    \"disc_layers\": 1,\n",
        "    \"beta1\": 0.5,\n",
        "    \"save_embedded_haplotypes\": True,\n",
        "    \"vocab_size\": 5,\n",
        "    \"train\": True\n",
        "})\n",
        "\n",
        "os.environ[\"CUDA_VISIBLE_DEVICES\"]=\"0\"\n",
        "device = torch.device(\"cuda\" if torch.cuda.is_available() else \"cpu\")\n",
        "\n",
        "seed = args.seed\n",
        "torch.backends.cudnn.deterministic = True\n",
        "torch.manual_seed(seed)\n",
        "np.random.seed(seed)\n",
        "random.seed(seed)\n",
        "\n",
        "charmap = {\"A\":0, \"C\":1, \"G\":2, \"T\":3, args.missing_char:4}\n",
        "charmap_rev = {0:\"A\", 1:\"C\", 2:\"G\", 3:\"T\"}\n",
        "\n",
        "\n",
        "\n"
      ],
      "execution_count": null,
      "outputs": []
    },
    {
      "cell_type": "markdown",
      "metadata": {
        "id": "tNumWwCp1ovC"
      },
      "source": [
        "Collect metadata info"
      ]
    },
    {
      "cell_type": "code",
      "metadata": {
        "id": "g2eJBMnZ1ovC"
      },
      "source": [
        "df_train = pd.read_csv(path + train_meta, sep = '\\t',header=None)\n",
        "df_validation = pd.read_csv(path +validation_meta, sep='\\t', header=None)\n",
        "df_test = pd.read_csv(path+ test_meta, sep='\\t', header=None)"
      ],
      "execution_count": null,
      "outputs": []
    },
    {
      "cell_type": "code",
      "metadata": {
        "id": "JfVZS4nr1ovD"
      },
      "source": [
        "df_train=df_train.fillna(\"NaN\")\n",
        "df_validation=df_validation.fillna(\"NaN\")\n",
        "df_test=df_test.fillna(\"NaN\")"
      ],
      "execution_count": null,
      "outputs": []
    },
    {
      "cell_type": "code",
      "metadata": {
        "colab": {
          "base_uri": "https://localhost:8080/",
          "height": 204
        },
        "id": "RsNHyEC-YBXQ",
        "outputId": "ce3394d0-abb4-4b17-d31e-5b096dc17bef"
      },
      "source": [
        "df_validation.head()"
      ],
      "execution_count": null,
      "outputs": [
        {
          "output_type": "execute_result",
          "data": {
            "text/html": [
              "<div>\n",
              "<style scoped>\n",
              "    .dataframe tbody tr th:only-of-type {\n",
              "        vertical-align: middle;\n",
              "    }\n",
              "\n",
              "    .dataframe tbody tr th {\n",
              "        vertical-align: top;\n",
              "    }\n",
              "\n",
              "    .dataframe thead th {\n",
              "        text-align: right;\n",
              "    }\n",
              "</style>\n",
              "<table border=\"1\" class=\"dataframe\">\n",
              "  <thead>\n",
              "    <tr style=\"text-align: right;\">\n",
              "      <th></th>\n",
              "      <th>0</th>\n",
              "      <th>1</th>\n",
              "      <th>2</th>\n",
              "    </tr>\n",
              "  </thead>\n",
              "  <tbody>\n",
              "    <tr>\n",
              "      <th>0</th>\n",
              "      <td>SRR11578295</td>\n",
              "      <td>Oceania</td>\n",
              "      <td>Australia</td>\n",
              "    </tr>\n",
              "    <tr>\n",
              "      <th>1</th>\n",
              "      <td>SRR12188714</td>\n",
              "      <td>North America</td>\n",
              "      <td>USA</td>\n",
              "    </tr>\n",
              "    <tr>\n",
              "      <th>2</th>\n",
              "      <td>ERR4238223</td>\n",
              "      <td>Europe</td>\n",
              "      <td>United Kingdom</td>\n",
              "    </tr>\n",
              "    <tr>\n",
              "      <th>3</th>\n",
              "      <td>ERR4305391</td>\n",
              "      <td>Europe</td>\n",
              "      <td>United Kingdom</td>\n",
              "    </tr>\n",
              "    <tr>\n",
              "      <th>4</th>\n",
              "      <td>ERR4306402</td>\n",
              "      <td>Europe</td>\n",
              "      <td>United Kingdom</td>\n",
              "    </tr>\n",
              "  </tbody>\n",
              "</table>\n",
              "</div>"
            ],
            "text/plain": [
              "             0              1               2\n",
              "0  SRR11578295        Oceania       Australia\n",
              "1  SRR12188714  North America             USA\n",
              "2   ERR4238223         Europe  United Kingdom\n",
              "3   ERR4305391         Europe  United Kingdom\n",
              "4   ERR4306402         Europe  United Kingdom"
            ]
          },
          "metadata": {
            "tags": []
          },
          "execution_count": 6
        }
      ]
    },
    {
      "cell_type": "code",
      "metadata": {
        "colab": {
          "base_uri": "https://localhost:8080/"
        },
        "id": "1rijN1iphV4s",
        "outputId": "c754e9af-a9c5-4c6a-9b10-c07f061f2bdd"
      },
      "source": [
        "df_train[1].value_counts()"
      ],
      "execution_count": null,
      "outputs": [
        {
          "output_type": "execute_result",
          "data": {
            "text/plain": [
              "Europe           4798\n",
              "Oceania           915\n",
              "North America     898\n",
              "Name: 1, dtype: int64"
            ]
          },
          "metadata": {
            "tags": []
          },
          "execution_count": 7
        }
      ]
    },
    {
      "cell_type": "code",
      "metadata": {
        "colab": {
          "base_uri": "https://localhost:8080/"
        },
        "id": "n8_g10_uhcs3",
        "outputId": "dc3f28c5-49c0-4938-f84b-8706f3f73ea5"
      },
      "source": [
        "df_validation[1].value_counts()"
      ],
      "execution_count": null,
      "outputs": [
        {
          "output_type": "execute_result",
          "data": {
            "text/plain": [
              "Europe           1592\n",
              "Oceania           319\n",
              "North America     293\n",
              "Name: 1, dtype: int64"
            ]
          },
          "metadata": {
            "tags": []
          },
          "execution_count": 8
        }
      ]
    },
    {
      "cell_type": "code",
      "metadata": {
        "colab": {
          "base_uri": "https://localhost:8080/"
        },
        "id": "qfOS7VcbhdNq",
        "outputId": "08a28c10-161f-4587-d037-c769ffaa786d"
      },
      "source": [
        "df_test[1].value_counts()"
      ],
      "execution_count": null,
      "outputs": [
        {
          "output_type": "execute_result",
          "data": {
            "text/plain": [
              "Europe           1631\n",
              "Oceania           287\n",
              "North America     286\n",
              "Name: 1, dtype: int64"
            ]
          },
          "metadata": {
            "tags": []
          },
          "execution_count": 9
        }
      ]
    },
    {
      "cell_type": "code",
      "metadata": {
        "colab": {
          "base_uri": "https://localhost:8080/"
        },
        "id": "bGfVxx6s1ovE",
        "outputId": "5126eb21-433a-4aa1-b90c-b49df3686a22"
      },
      "source": [
        "countries = {region:i for i, region in enumerate(sorted(set(df_train[1])|set(df_validation[1])|set(df_test[1])))}\n",
        "countries['NaN'] = len(countries) \n",
        "print(countries)"
      ],
      "execution_count": null,
      "outputs": [
        {
          "output_type": "stream",
          "text": [
            "{'Europe': 0, 'North America': 1, 'Oceania': 2, 'NaN': 3}\n"
          ],
          "name": "stdout"
        }
      ]
    },
    {
      "cell_type": "code",
      "metadata": {
        "id": "PsQzRHIY1ovG"
      },
      "source": [
        "if args.continent:\n",
        "    meta_region = continents\n",
        "else:\n",
        "    meta_region = countries"
      ],
      "execution_count": null,
      "outputs": []
    },
    {
      "cell_type": "code",
      "metadata": {
        "id": "zw4VsTQP1ovG"
      },
      "source": [
        "def charmap_to_onehots(chars, charmap, model_type=\"resnet2d\"):\n",
        "    onehots = np.int_(np.zeros([len(chars),len(charmap)]))\n",
        "    I = np.eye(len(charmap))\n",
        "    for i, char in enumerate(chars):\n",
        "        onehots[i] = I[charmap[char]]\n",
        "        \n",
        "    if model_type == \"mlp\":\n",
        "        onehots = np.reshape(onehots, [-1])\n",
        "    if model_type == \"resnet1d\" or model_type == \"resnet2d\":\n",
        "        onehots = onehots.T\n",
        "    return onehots\n",
        "\n",
        "def metadata_to_one_hot(data, nb_classes, model_type = \"resnet2d\"):\n",
        "    targets = np.array(data).reshape(-1)\n",
        "    return np.eye(nb_classes)[targets].astype(int)[0]\n",
        "\n",
        "def listToDict(lst):\n",
        "    op = {lst[i].strip(): lst[i+1].strip() for i in range(0,len(lst), 2)}\n",
        "    return op\n",
        "        \n",
        "    \n",
        "# for GANs\n",
        "\n",
        "def get_generator_block(input_dim, output_dim):\n",
        "    return nn.Sequential(\n",
        "        nn.Linear(input_dim, output_dim),\n",
        "        nn.BatchNorm1d(output_dim),\n",
        "        nn.ReLU(inplace=True)\n",
        "    )\n",
        "\n",
        "def get_noise(n_samples, z_dim, device='cpu'):\n",
        "    return torch.randn(n_samples, z_dim, device=device)\n",
        "\n",
        "def get_discriminator_block(input_dim, output_dim):\n",
        "    return nn.Sequential(\n",
        "        nn.Linear(input_dim, output_dim),\n",
        "        nn.LeakyReLU(0.2, inplace=True)\n",
        "    )\n",
        "\n",
        "def get_disc_loss(gen, disc, criterion, real, num_images, z_dim, device):\n",
        "    fake_noise = get_noise(num_images, z_dim, device=device)\n",
        "    fake = gen(fake_noise)\n",
        "    disc_fake_pred = disc(fake.detach())\n",
        "    disc_fake_loss = criterion(disc_fake_pred, torch.zeros_like(disc_fake_pred))\n",
        "    disc_real_pred = disc(real)\n",
        "    disc_real_loss = criterion(disc_real_pred, torch.ones_like(disc_real_pred))\n",
        "    disc_loss = (disc_fake_loss + disc_real_loss) / 2\n",
        "    return disc_loss\n",
        "\n",
        "def get_gen_loss(gen, disc, criterion, num_images, z_dim, device):\n",
        "    fake_noise = get_noise(num_images, z_dim, device=device)\n",
        "    fake = gen(fake_noise)\n",
        "    disc_fake_pred = disc(fake)\n",
        "    gen_loss = criterion(disc_fake_pred, torch.ones_like(disc_fake_pred))\n",
        "    return gen_loss"
      ],
      "execution_count": null,
      "outputs": []
    },
    {
      "cell_type": "markdown",
      "metadata": {
        "id": "6I70XejI1ovH"
      },
      "source": [
        "## Initiate the Dataset Class:"
      ]
    },
    {
      "cell_type": "code",
      "metadata": {
        "id": "4XvOiCYe1ovI"
      },
      "source": [
        "class CovidDataset(Dataset):\n",
        "    def __init__(self, path, files, model, split=\"train\", \n",
        "                 charmap=charmap, haplotype_cutoff=args.haplotype_cutoff, \n",
        "                 meta_continent=args.continent, meta_region=meta_region):\n",
        "        \"\"\"\n",
        "        Args:\n",
        "            :param path: path to dataset file\n",
        "            :param file: dataset file name\n",
        "            :param model: model of interest to work with\n",
        "            :charmap: dict that maps nucleotides into digits which represet indexes of vectors in one-hot matrix\n",
        "            ...\n",
        "        \"\"\"        \n",
        "        self.dataset = {}\n",
        "        for file in files[0]:\n",
        "            with open(os.path.join(path, file), 'r') as f:\n",
        "                content = f.readlines()\n",
        "                templist = []\n",
        "                for line in content:\n",
        "                    seq_id, seq = line.strip().split(\"\\t\",1)\n",
        "                    templist.append(seq_id)\n",
        "                    templist.append(seq.replace(\"\\t\", \"\"))\n",
        "                self.dataset = {**self.dataset, **listToDict(templist)}\n",
        "                print(\"number of samples with duplication:\", len(list(self.dataset.values())))\n",
        "                print(\"number of samples without duplication:\", len(set(list(self.dataset.values()))))\n",
        "                #self.dataset = {**self.dataset, **listToDict(content)}\n",
        "        self.dataset_new = {}\n",
        "        for k, v in self.dataset.items(): # not including seq. with many miss. val. (based on haplotype_cutoff)\n",
        "            if '.' in v:\n",
        "                if v.count('.')/len(v) <= args.haplotype_cutoff: \n",
        "                    self.dataset_new[k] = v\n",
        "            else:\n",
        "                self.dataset_new[k] = v\n",
        "        self.dataset = self.dataset_new\n",
        "        #print(self.dataset)\n",
        "        \n",
        "        self.sequences = [charmap_to_onehots(sequence, charmap, model) for sequence in list(self.dataset.values())]\n",
        "        self.ids = list(range(len(list(self.dataset))))\n",
        "        \n",
        "        index = 0\n",
        "        if args.continent: index = 2 # for continent\n",
        "        else: index = 1 # for country\n",
        "            \n",
        "        meta_place = {}        \n",
        "        for file in files[1]:\n",
        "            df = pd.read_csv(path + file, sep='\\t', lineterminator='\\n', header=None)\n",
        "            df = df.fillna(\"NaN\")\n",
        "            meta_temp = {name:place for name, place in zip(list(df[0]), list(df[index]))}\n",
        "            meta_place = {**meta_place, **meta_temp}\n",
        "            \n",
        "        self.meta_place = {}\n",
        "        for i, name in enumerate(self.dataset):\n",
        "            self.meta_place[i] = metadata_to_one_hot(meta_region[meta_place[name]], len(meta_region)+1)\n",
        "            \n",
        "    def __getitem__(self, i):\n",
        "        id = self.ids[i]\n",
        "        return self.sequences[id], self.meta_place[id]\n",
        "    \n",
        "    def __len__(self):\n",
        "        return len(self.ids)"
      ],
      "execution_count": null,
      "outputs": []
    },
    {
      "cell_type": "code",
      "metadata": {
        "id": "e7d-j_qW1ovJ",
        "colab": {
          "base_uri": "https://localhost:8080/"
        },
        "outputId": "33c86aa3-1600-4456-ccdd-25a9dfb6f480"
      },
      "source": [
        "dataset_train = CovidDataset(path, [[train_w_file], [train_meta]], args.model_type)\n",
        "dataset_validation = CovidDataset(path, [[validation_w_file], [validation_meta]], args.model_type)\n",
        "dataset_test = CovidDataset(path, [[test_w_file], [test_meta]], args.model_type)"
      ],
      "execution_count": null,
      "outputs": [
        {
          "output_type": "stream",
          "text": [
            "number of samples with duplication: 6611\n",
            "number of samples without duplication: 1779\n",
            "number of samples with duplication: 2204\n",
            "number of samples without duplication: 697\n",
            "number of samples with duplication: 2204\n",
            "number of samples without duplication: 710\n"
          ],
          "name": "stdout"
        }
      ]
    },
    {
      "cell_type": "code",
      "metadata": {
        "id": "WY-LVDHA1ovK"
      },
      "source": [
        "dataloader_train = DataLoader(dataset_train, args.batch_size, drop_last = True, shuffle = True)\n",
        "dataloader_validation = DataLoader(dataset_validation, args.batch_size,drop_last=False,shuffle= False)\n",
        "dataloader_test = DataLoader(dataset_test, args.batch_size,drop_last=False,shuffle= False)"
      ],
      "execution_count": null,
      "outputs": []
    },
    {
      "cell_type": "code",
      "metadata": {
        "colab": {
          "base_uri": "https://localhost:8080/"
        },
        "id": "KlqRtMzS1ovK",
        "outputId": "64f0440e-068a-4619-8f29-4303913d0d5b"
      },
      "source": [
        "len(dataloader_train)\n",
        "# dataloader -> model -> criterion -> optimizer -> training loop"
      ],
      "execution_count": null,
      "outputs": [
        {
          "output_type": "execute_result",
          "data": {
            "text/plain": [
              "103"
            ]
          },
          "metadata": {
            "tags": []
          },
          "execution_count": 16
        }
      ]
    },
    {
      "cell_type": "code",
      "metadata": {
        "colab": {
          "base_uri": "https://localhost:8080/"
        },
        "id": "s5fIRqk61ovL",
        "outputId": "9ac517aa-0804-40a8-fa9b-be1a150bba6b"
      },
      "source": [
        "len(dataloader_validation)"
      ],
      "execution_count": null,
      "outputs": [
        {
          "output_type": "execute_result",
          "data": {
            "text/plain": [
              "35"
            ]
          },
          "metadata": {
            "tags": []
          },
          "execution_count": 17
        }
      ]
    },
    {
      "cell_type": "code",
      "metadata": {
        "colab": {
          "base_uri": "https://localhost:8080/"
        },
        "id": "SGYFB6iy1ovM",
        "outputId": "85897ffc-ec77-4dae-b3c0-ef35f7b0b275"
      },
      "source": [
        "examples = iter(dataloader_train)\n",
        "samples, labels = examples.next()\n",
        "print(samples.shape, labels.shape)"
      ],
      "execution_count": null,
      "outputs": [
        {
          "output_type": "stream",
          "text": [
            "torch.Size([64, 685]) torch.Size([64, 5])\n"
          ],
          "name": "stdout"
        }
      ]
    },
    {
      "cell_type": "code",
      "metadata": {
        "id": "Z_NvPcw0MDBA"
      },
      "source": [
        "class EarlyStopping(object):\n",
        "    def __init__(self, mode='min', min_delta=0, patience=10, percentage=False):\n",
        "        self.mode = mode\n",
        "        self.min_delta = min_delta\n",
        "        self.patience = patience\n",
        "        self.best = None\n",
        "        self.num_bad_epochs = 0\n",
        "        self.is_better = None\n",
        "        self._init_is_better(mode, min_delta, percentage)\n",
        "\n",
        "        if patience == 0:\n",
        "            self.is_better = lambda a, b: True\n",
        "            self.step = lambda a: False\n",
        "\n",
        "    def step(self, metrics):\n",
        "        if self.best is None:\n",
        "            self.best = metrics\n",
        "            return False\n",
        "\n",
        "        if torch.isnan(metrics):\n",
        "            return True\n",
        "\n",
        "        if self.is_better(metrics, self.best):\n",
        "            self.num_bad_epochs = 0\n",
        "            self.best = metrics\n",
        "        else:\n",
        "            self.num_bad_epochs += 1\n",
        "\n",
        "        if self.num_bad_epochs >= self.patience:\n",
        "            return True\n",
        "\n",
        "        return False\n",
        "\n",
        "    def _init_is_better(self, mode, min_delta, percentage):\n",
        "        if mode not in {'min', 'max'}:\n",
        "            raise ValueError('mode ' + mode + ' is unknown!')\n",
        "        if not percentage:\n",
        "            if mode == 'min':\n",
        "                self.is_better = lambda a, best: a < best - min_delta\n",
        "            if mode == 'max':\n",
        "                self.is_better = lambda a, best: a > best + min_delta\n",
        "        else:\n",
        "            if mode == 'min':\n",
        "                self.is_better = lambda a, best: a < best - (\n",
        "                            best * min_delta / 100)\n",
        "            if mode == 'max':\n",
        "                self.is_better = lambda a, best: a > best + (\n",
        "                            best * min_delta / 100)\n"
      ],
      "execution_count": null,
      "outputs": []
    },
    {
      "cell_type": "markdown",
      "metadata": {
        "id": "eiqrizBo1ovN"
      },
      "source": [
        "# Model: Multi-Layer Perceptron"
      ]
    },
    {
      "cell_type": "code",
      "metadata": {
        "id": "QNytn8p81ovO"
      },
      "source": [
        "class mlp_generator(nn.Module):\n",
        "    \"\"\" Multi-Layer Perceptron for generating sequences.\n",
        "\n",
        "    Parameters:\n",
        "        inputs (tensor):Batch of noises inputed to the network.\n",
        "        dim (int):Generator dimension parameter (in each middle layer).\n",
        "        input_size (int):Size of latent space (i.e., the first layer dimension).\n",
        "        output_size (int):Size of the last layer (=max_seq_len*vocab_size).\n",
        "        num_layers (int):How many middle or hidden layers for generator.\n",
        "\n",
        "    Returns:\n",
        "        outputs (tensor):Batch of lists of values (each `vocab_size` interval represents one nucleotide).   \n",
        "\n",
        "    \"\"\"\n",
        "    def __init__(self, dim=64, input_size=685, output_size=3, num_layers=4): # 5 x 137\n",
        "        super(mlp_generator, self).__init__()\n",
        "\n",
        "        num_layers = num_layers + 2  # add 2 for the 1st and the last layers\n",
        "        modules = []\n",
        "        for layer in range(num_layers): \n",
        "            in_size = input_size if layer == 0 else dim\n",
        "            out_size = output_size if layer == num_layers - 1 else dim\n",
        "            if layer < num_layers - 1:\n",
        "                modules.append(\n",
        "                    nn.Sequential(\n",
        "                        nn.Linear(in_size, out_size),\n",
        "                        nn.ReLU(True),\n",
        "                    )\n",
        "                )\n",
        "            else:\n",
        "                modules.append(\n",
        "                    nn.Sequential(\n",
        "                        nn.Linear(in_size, out_size),\n",
        "                        nn.Sigmoid()\n",
        "                    )\n",
        "                )\n",
        "        self.layers = nn.Sequential(*modules)\n",
        "        \n",
        "    def forward(self, x):\n",
        "        x = x.view(x.size(0), -1)\n",
        "        x = self.layers(x)\n",
        "        return x\n",
        "\n",
        "# rename to mlp_classifier\n",
        "# outsize of disc = 17 (for countries)\n",
        "class mlp_classifier(nn.Module):\n",
        "    \"\"\" Multi-Layer Perceptron for discriminating real vs generated sequences.\n",
        "\n",
        "    Parameters:\n",
        "        inputs (tensor):Tensor of size (batch_size, vocab_size*max_seq_len) containing real or generated sequences.\n",
        "        dim (int):Discriminator dimension parameter (in each middle layer).\n",
        "        input_size (int):Size of the first layer (vocab_size*max_seq_len).\n",
        "        num_layers (int):How many middle or hidden layers for discriminator.\n",
        "\n",
        "    Returns:\n",
        "        outputs (tensor):Batch of (single) values for real or generated inputs.   \n",
        "\n",
        "    \"\"\"\n",
        "    def __init__(self, dim, input_size, num_layers=4):\n",
        "        super(mlp_classifier, self).__init__()\n",
        "        \n",
        "        num_layers = num_layers + 2  # add 2 for the 1st and the last layers\n",
        "        modules = []\n",
        "        for layer in range(num_layers):\n",
        "            in_size = input_size if layer == 0 else dim\n",
        "            out_size = 4 if layer == num_layers - 1 else dim # if not last layer then uses dim size\n",
        "            if layer < num_layers - 1:\n",
        "                modules.append(\n",
        "                    nn.Sequential(\n",
        "                        nn.Linear(in_size, out_size),\n",
        "                        nn.LeakyReLU(True),\n",
        "                    )\n",
        "                )\n",
        "            else:\n",
        "                modules.append(\n",
        "                    nn.Sequential(\n",
        "                        nn.Linear(in_size, out_size),\n",
        "                    )\n",
        "                )\n",
        "        self.layers = nn.Sequential(*modules)\n",
        "        \n",
        "    def forward(self, inputs):\n",
        "        inputs = inputs.view(inputs.size(0), -1)\n",
        "        outputs = self.layers(inputs)\n",
        "        return outputs"
      ],
      "execution_count": null,
      "outputs": []
    },
    {
      "cell_type": "markdown",
      "metadata": {
        "id": "tVapHZhR1ovP"
      },
      "source": [
        "# Criterion + Optimizer:"
      ]
    },
    {
      "cell_type": "code",
      "metadata": {
        "colab": {
          "base_uri": "https://localhost:8080/"
        },
        "id": "lY6AXMce1ovQ",
        "outputId": "9acef14d-c810-477a-96ea-5fcf8a757c02"
      },
      "source": [
        "vocab_size = 5# instantiate models\n",
        "if args.model_type==\"mlp\":\n",
        "   # netC = mlp_classifier(args.gen_dim, args.latent_dim, args.seq_len*args.vocab_size, args.gen_layers).to(device)\n",
        "  #  netD = mlp_discriminator(args.disc_dim, args.seq_len*vocab_size, args.disc_layers).to(device) #fix max_seq_len\n",
        "    model = mlp_classifier(args.disc_dim, args.seq_len*vocab_size, args.disc_layers).to(device)\n",
        "print(\"test\")\n",
        "print(\"{}\\nClassifier Network Architecture:\\n{}\\n{}\\n\".format(\"=\"*31, \"~\"*31, model))\n",
        "# print(\"{}\\nDiscriminator Network Architecture:\\n{}\\n{}\\n\".format(\"=\"*35, \"~\"*35, netD))\n",
        "\n",
        "# cost function (for discriminator prediction)\n",
        "# criterion = nn.BCEWithLogitsLoss() # use CE loss for classifier\n",
        "criterion = nn.CrossEntropyLoss()\n",
        "\n",
        "# setup optimizer\n",
        "# optimizerG = optim.Adam(list(netG.parameters()), lr=args.learning_rate)\n",
        "# optimizerD = optim.Adam(list(netD.parameters()), lr=args.learning_rate)\n",
        "optimizerM = optim.Adam(list(model.parameters()), lr=args.learning_rate, betas=(args.beta1, 0.999))\n"
      ],
      "execution_count": null,
      "outputs": [
        {
          "output_type": "stream",
          "text": [
            "test\n",
            "===============================\n",
            "Classifier Network Architecture:\n",
            "~~~~~~~~~~~~~~~~~~~~~~~~~~~~~~~\n",
            "mlp_classifier(\n",
            "  (layers): Sequential(\n",
            "    (0): Sequential(\n",
            "      (0): Linear(in_features=685, out_features=16, bias=True)\n",
            "      (1): LeakyReLU(negative_slope=True)\n",
            "    )\n",
            "    (1): Sequential(\n",
            "      (0): Linear(in_features=16, out_features=16, bias=True)\n",
            "      (1): LeakyReLU(negative_slope=True)\n",
            "    )\n",
            "    (2): Sequential(\n",
            "      (0): Linear(in_features=16, out_features=4, bias=True)\n",
            "    )\n",
            "  )\n",
            ")\n",
            "\n"
          ],
          "name": "stdout"
        }
      ]
    },
    {
      "cell_type": "markdown",
      "metadata": {
        "id": "ldRXDJuV1ovR"
      },
      "source": [
        "# Training Loop + Metrics:"
      ]
    },
    {
      "cell_type": "code",
      "metadata": {
        "colab": {
          "base_uri": "https://localhost:8080/"
        },
        "id": "KCW4EXMl1ovR",
        "outputId": "a394974f-61ed-4e37-f420-aec615b50b57"
      },
      "source": [
        "es = EarlyStopping(patience=5)\n",
        "epochs = args.nb_epochs\n",
        "steps = 0\n",
        "running_loss = 0\n",
        "print_every = 10\n",
        "train_losses, validation_losses = [], []\n",
        "train_accuracies, valid_accuracies = [], []\n",
        "for epoch in range(epochs):\n",
        "    correct = 0\n",
        "    total = 0\n",
        "    for inputs, labels in dataloader_train:\n",
        "        steps += 1\n",
        "        inputs, labels = inputs.to(device), labels.to(device)\n",
        "        optimizerM.zero_grad()\n",
        "        logps = model.forward(inputs.float())\n",
        "        #print(logps.shape)\n",
        "        loss = criterion(logps, torch.argmax(labels, 1))\n",
        "        loss.backward()\n",
        "        optimizerM.step()\n",
        "        running_loss += loss.item()*inputs.shape[0]\n",
        "        for pred, true in zip(torch.argmax(logps, 1), torch.argmax(labels, 1)):\n",
        "            if pred == true: correct += 1\n",
        "            total += 1\n",
        "\n",
        "    train_accuracy = np.round((correct/total)*100, 3) \n",
        "\n",
        "    #if steps % print_every == 0:\n",
        "    validation_loss = 0\n",
        "    accuracy = 0\n",
        "    model.eval()\n",
        "    with torch.no_grad():\n",
        "        correct = 0\n",
        "        total = 0\n",
        "        for inputs, labels in dataloader_validation:\n",
        "            inputs, labels = inputs.to(device), labels.to(device)\n",
        "            logps = model.forward(inputs.float())\n",
        "            #print(logps)\n",
        "            batch_loss = criterion(logps, torch.argmax(labels, 1))\n",
        "            validation_loss += batch_loss.item()*inputs.shape[0]\n",
        "\n",
        "            for pred, true in zip(torch.argmax(logps, 1), torch.argmax(labels, 1)):\n",
        "                if pred == true: correct += 1\n",
        "                total += 1\n",
        "        validation_accuracy = np.round((correct/total)*100, 3)\n",
        "\n",
        "        train_losses.append(running_loss/len(dataset_train))\n",
        "        validation_losses.append(validation_loss/len(dataset_validation))\n",
        "        train_accuracies.append(train_accuracy)\n",
        "        valid_accuracies.append(validation_accuracy)                      \n",
        "        print(f\"Epoch {epoch+1}/{epochs} | \"\n",
        "              f\"Train loss: {running_loss/len(dataset_train):.5f} | \"\n",
        "              f\"validation loss: {validation_loss/len(dataset_validation):.5f} | \"\n",
        "              f\"train accuracy: {train_accuracy}% | \" \n",
        "              f\"validation accuracy: {validation_accuracy}%\")\n",
        "        running_loss = 0\n",
        "        model.train()\n",
        "#        metric = eval(model, dataloader_test)\n",
        "#        if es.step(metric):\n",
        "#                break  # early stop criterion is met, we can stop now\n",
        "torch.save(model.state_dict(), \"/content/drive/MyDrive/d3_data/classifier_test.pth\")"
      ],
      "execution_count": null,
      "outputs": [
        {
          "output_type": "stream",
          "text": [
            "Epoch 1/500 | Train loss: 1.14258 | validation loss: 0.89797 | train accuracy: 59.906% | validation accuracy: 72.232%\n",
            "Epoch 2/500 | Train loss: 0.82859 | validation loss: 0.80137 | train accuracy: 72.633% | validation accuracy: 72.232%\n",
            "Epoch 3/500 | Train loss: 0.77923 | validation loss: 0.77123 | train accuracy: 72.542% | validation accuracy: 72.232%\n",
            "Epoch 4/500 | Train loss: 0.75504 | validation loss: 0.75101 | train accuracy: 72.588% | validation accuracy: 72.232%\n",
            "Epoch 5/500 | Train loss: 0.73710 | validation loss: 0.73398 | train accuracy: 72.573% | validation accuracy: 72.232%\n",
            "Epoch 6/500 | Train loss: 0.72101 | validation loss: 0.71584 | train accuracy: 72.558% | validation accuracy: 72.414%\n",
            "Epoch 7/500 | Train loss: 0.70294 | validation loss: 0.69876 | train accuracy: 73.073% | validation accuracy: 73.775%\n",
            "Epoch 8/500 | Train loss: 0.68654 | validation loss: 0.68041 | train accuracy: 73.771% | validation accuracy: 74.546%\n",
            "Epoch 9/500 | Train loss: 0.66850 | validation loss: 0.66365 | train accuracy: 74.712% | validation accuracy: 75.454%\n",
            "Epoch 10/500 | Train loss: 0.65258 | validation loss: 0.64924 | train accuracy: 75.743% | validation accuracy: 76.951%\n",
            "Epoch 11/500 | Train loss: 0.63752 | validation loss: 0.63481 | train accuracy: 76.896% | validation accuracy: 76.724%\n",
            "Epoch 12/500 | Train loss: 0.62512 | validation loss: 0.62676 | train accuracy: 77.018% | validation accuracy: 76.815%\n",
            "Epoch 13/500 | Train loss: 0.61383 | validation loss: 0.61363 | train accuracy: 77.215% | validation accuracy: 76.951%\n",
            "Epoch 14/500 | Train loss: 0.60468 | validation loss: 0.60559 | train accuracy: 77.275% | validation accuracy: 76.906%\n",
            "Epoch 15/500 | Train loss: 0.59709 | validation loss: 0.59871 | train accuracy: 77.306% | validation accuracy: 76.996%\n",
            "Epoch 16/500 | Train loss: 0.58979 | validation loss: 0.59426 | train accuracy: 77.427% | validation accuracy: 77.223%\n",
            "Epoch 17/500 | Train loss: 0.58348 | validation loss: 0.58809 | train accuracy: 77.533% | validation accuracy: 77.314%\n",
            "Epoch 18/500 | Train loss: 0.57835 | validation loss: 0.58355 | train accuracy: 77.609% | validation accuracy: 77.405%\n",
            "Epoch 19/500 | Train loss: 0.57497 | validation loss: 0.57840 | train accuracy: 77.655% | validation accuracy: 77.45%\n",
            "Epoch 20/500 | Train loss: 0.56962 | validation loss: 0.57463 | train accuracy: 77.731% | validation accuracy: 77.541%\n",
            "Epoch 21/500 | Train loss: 0.56503 | validation loss: 0.57148 | train accuracy: 77.852% | validation accuracy: 77.677%\n",
            "Epoch 22/500 | Train loss: 0.56123 | validation loss: 0.56914 | train accuracy: 77.867% | validation accuracy: 77.768%\n",
            "Epoch 23/500 | Train loss: 0.55757 | validation loss: 0.57055 | train accuracy: 78.049% | validation accuracy: 77.768%\n",
            "Epoch 24/500 | Train loss: 0.55606 | validation loss: 0.56262 | train accuracy: 78.383% | validation accuracy: 77.904%\n",
            "Epoch 25/500 | Train loss: 0.55088 | validation loss: 0.55988 | train accuracy: 78.838% | validation accuracy: 78.766%\n",
            "Epoch 26/500 | Train loss: 0.54912 | validation loss: 0.55792 | train accuracy: 78.899% | validation accuracy: 78.766%\n",
            "Epoch 27/500 | Train loss: 0.54651 | validation loss: 0.55584 | train accuracy: 79.081% | validation accuracy: 78.721%\n",
            "Epoch 28/500 | Train loss: 0.54423 | validation loss: 0.55308 | train accuracy: 79.263% | validation accuracy: 78.902%\n",
            "Epoch 29/500 | Train loss: 0.54178 | validation loss: 0.55241 | train accuracy: 79.202% | validation accuracy: 78.721%\n",
            "Epoch 30/500 | Train loss: 0.53922 | validation loss: 0.55082 | train accuracy: 79.339% | validation accuracy: 78.902%\n",
            "Epoch 31/500 | Train loss: 0.53765 | validation loss: 0.55075 | train accuracy: 79.293% | validation accuracy: 78.811%\n",
            "Epoch 32/500 | Train loss: 0.53533 | validation loss: 0.54599 | train accuracy: 79.505% | validation accuracy: 78.947%\n",
            "Epoch 33/500 | Train loss: 0.53348 | validation loss: 0.54465 | train accuracy: 79.46% | validation accuracy: 78.811%\n",
            "Epoch 34/500 | Train loss: 0.53159 | validation loss: 0.54462 | train accuracy: 79.475% | validation accuracy: 78.947%\n",
            "Epoch 35/500 | Train loss: 0.53033 | validation loss: 0.54452 | train accuracy: 79.505% | validation accuracy: 79.174%\n",
            "Epoch 36/500 | Train loss: 0.52928 | validation loss: 0.54424 | train accuracy: 79.596% | validation accuracy: 79.038%\n",
            "Epoch 37/500 | Train loss: 0.52785 | validation loss: 0.54431 | train accuracy: 79.475% | validation accuracy: 78.993%\n",
            "Epoch 38/500 | Train loss: 0.52593 | validation loss: 0.53850 | train accuracy: 79.612% | validation accuracy: 79.083%\n",
            "Epoch 39/500 | Train loss: 0.52385 | validation loss: 0.53698 | train accuracy: 79.642% | validation accuracy: 78.993%\n",
            "Epoch 40/500 | Train loss: 0.52286 | validation loss: 0.53605 | train accuracy: 79.688% | validation accuracy: 79.129%\n",
            "Epoch 41/500 | Train loss: 0.52085 | validation loss: 0.53484 | train accuracy: 79.672% | validation accuracy: 79.083%\n",
            "Epoch 42/500 | Train loss: 0.51997 | validation loss: 0.53351 | train accuracy: 79.839% | validation accuracy: 79.038%\n",
            "Epoch 43/500 | Train loss: 0.51707 | validation loss: 0.53257 | train accuracy: 79.809% | validation accuracy: 79.038%\n",
            "Epoch 44/500 | Train loss: 0.51619 | validation loss: 0.53212 | train accuracy: 79.854% | validation accuracy: 79.129%\n",
            "Epoch 45/500 | Train loss: 0.51653 | validation loss: 0.53082 | train accuracy: 79.763% | validation accuracy: 79.129%\n",
            "Epoch 46/500 | Train loss: 0.51449 | validation loss: 0.53039 | train accuracy: 79.9% | validation accuracy: 79.22%\n",
            "Epoch 47/500 | Train loss: 0.51440 | validation loss: 0.52929 | train accuracy: 79.839% | validation accuracy: 79.038%\n",
            "Epoch 48/500 | Train loss: 0.51244 | validation loss: 0.52961 | train accuracy: 79.87% | validation accuracy: 79.038%\n",
            "Epoch 49/500 | Train loss: 0.51121 | validation loss: 0.52934 | train accuracy: 79.945% | validation accuracy: 79.083%\n",
            "Epoch 50/500 | Train loss: 0.50969 | validation loss: 0.53216 | train accuracy: 80.052% | validation accuracy: 79.129%\n",
            "Epoch 51/500 | Train loss: 0.50946 | validation loss: 0.52905 | train accuracy: 79.991% | validation accuracy: 79.083%\n",
            "Epoch 52/500 | Train loss: 0.50891 | validation loss: 0.52573 | train accuracy: 79.976% | validation accuracy: 79.083%\n",
            "Epoch 53/500 | Train loss: 0.50864 | validation loss: 0.52553 | train accuracy: 79.961% | validation accuracy: 79.083%\n",
            "Epoch 54/500 | Train loss: 0.50755 | validation loss: 0.52523 | train accuracy: 79.991% | validation accuracy: 79.174%\n",
            "Epoch 55/500 | Train loss: 0.50684 | validation loss: 0.52434 | train accuracy: 79.991% | validation accuracy: 79.083%\n",
            "Epoch 56/500 | Train loss: 0.50524 | validation loss: 0.52823 | train accuracy: 80.082% | validation accuracy: 79.083%\n",
            "Epoch 57/500 | Train loss: 0.50518 | validation loss: 0.52726 | train accuracy: 80.052% | validation accuracy: 79.083%\n",
            "Epoch 58/500 | Train loss: 0.50468 | validation loss: 0.52336 | train accuracy: 80.158% | validation accuracy: 79.129%\n",
            "Epoch 59/500 | Train loss: 0.50438 | validation loss: 0.52199 | train accuracy: 80.082% | validation accuracy: 79.038%\n",
            "Epoch 60/500 | Train loss: 0.50337 | validation loss: 0.52342 | train accuracy: 80.082% | validation accuracy: 79.129%\n",
            "Epoch 61/500 | Train loss: 0.50215 | validation loss: 0.52259 | train accuracy: 80.112% | validation accuracy: 79.038%\n",
            "Epoch 62/500 | Train loss: 0.50302 | validation loss: 0.52090 | train accuracy: 80.082% | validation accuracy: 79.038%\n",
            "Epoch 63/500 | Train loss: 0.49959 | validation loss: 0.52138 | train accuracy: 80.249% | validation accuracy: 79.174%\n",
            "Epoch 64/500 | Train loss: 0.50015 | validation loss: 0.52061 | train accuracy: 80.249% | validation accuracy: 78.993%\n",
            "Epoch 65/500 | Train loss: 0.50028 | validation loss: 0.52344 | train accuracy: 80.203% | validation accuracy: 79.129%\n",
            "Epoch 66/500 | Train loss: 0.49957 | validation loss: 0.51944 | train accuracy: 80.173% | validation accuracy: 79.038%\n",
            "Epoch 67/500 | Train loss: 0.49871 | validation loss: 0.52000 | train accuracy: 80.203% | validation accuracy: 79.129%\n",
            "Epoch 68/500 | Train loss: 0.49729 | validation loss: 0.51934 | train accuracy: 80.294% | validation accuracy: 79.174%\n",
            "Epoch 69/500 | Train loss: 0.49730 | validation loss: 0.51849 | train accuracy: 80.355% | validation accuracy: 79.038%\n",
            "Epoch 70/500 | Train loss: 0.49637 | validation loss: 0.51998 | train accuracy: 80.355% | validation accuracy: 79.038%\n",
            "Epoch 71/500 | Train loss: 0.49713 | validation loss: 0.51905 | train accuracy: 80.325% | validation accuracy: 79.083%\n",
            "Epoch 72/500 | Train loss: 0.49619 | validation loss: 0.52069 | train accuracy: 80.4% | validation accuracy: 79.038%\n",
            "Epoch 73/500 | Train loss: 0.49550 | validation loss: 0.51881 | train accuracy: 80.294% | validation accuracy: 79.038%\n",
            "Epoch 74/500 | Train loss: 0.49566 | validation loss: 0.51709 | train accuracy: 80.279% | validation accuracy: 79.083%\n",
            "Epoch 75/500 | Train loss: 0.49407 | validation loss: 0.51677 | train accuracy: 80.4% | validation accuracy: 79.129%\n",
            "Epoch 76/500 | Train loss: 0.49438 | validation loss: 0.51954 | train accuracy: 80.264% | validation accuracy: 79.038%\n",
            "Epoch 77/500 | Train loss: 0.49332 | validation loss: 0.51917 | train accuracy: 80.4% | validation accuracy: 79.174%\n",
            "Epoch 78/500 | Train loss: 0.49367 | validation loss: 0.51633 | train accuracy: 80.385% | validation accuracy: 79.174%\n",
            "Epoch 79/500 | Train loss: 0.49253 | validation loss: 0.51577 | train accuracy: 80.416% | validation accuracy: 79.038%\n",
            "Epoch 80/500 | Train loss: 0.49211 | validation loss: 0.51874 | train accuracy: 80.567% | validation accuracy: 78.993%\n",
            "Epoch 81/500 | Train loss: 0.49179 | validation loss: 0.52104 | train accuracy: 80.567% | validation accuracy: 78.947%\n",
            "Epoch 82/500 | Train loss: 0.49225 | validation loss: 0.51533 | train accuracy: 80.385% | validation accuracy: 79.083%\n",
            "Epoch 83/500 | Train loss: 0.49131 | validation loss: 0.51512 | train accuracy: 80.431% | validation accuracy: 79.038%\n",
            "Epoch 84/500 | Train loss: 0.49056 | validation loss: 0.51614 | train accuracy: 80.583% | validation accuracy: 79.038%\n",
            "Epoch 85/500 | Train loss: 0.49064 | validation loss: 0.51613 | train accuracy: 80.492% | validation accuracy: 79.038%\n",
            "Epoch 86/500 | Train loss: 0.49029 | validation loss: 0.51479 | train accuracy: 80.658% | validation accuracy: 78.993%\n",
            "Epoch 87/500 | Train loss: 0.49089 | validation loss: 0.51476 | train accuracy: 80.476% | validation accuracy: 78.993%\n",
            "Epoch 88/500 | Train loss: 0.48867 | validation loss: 0.51677 | train accuracy: 80.628% | validation accuracy: 78.947%\n",
            "Epoch 89/500 | Train loss: 0.48974 | validation loss: 0.51466 | train accuracy: 80.628% | validation accuracy: 79.083%\n",
            "Epoch 90/500 | Train loss: 0.48967 | validation loss: 0.51451 | train accuracy: 80.613% | validation accuracy: 79.038%\n",
            "Epoch 91/500 | Train loss: 0.48929 | validation loss: 0.51532 | train accuracy: 80.567% | validation accuracy: 78.993%\n",
            "Epoch 92/500 | Train loss: 0.48859 | validation loss: 0.51472 | train accuracy: 80.613% | validation accuracy: 78.993%\n",
            "Epoch 93/500 | Train loss: 0.48747 | validation loss: 0.51955 | train accuracy: 80.674% | validation accuracy: 78.766%\n",
            "Epoch 94/500 | Train loss: 0.48786 | validation loss: 0.51377 | train accuracy: 80.628% | validation accuracy: 79.038%\n",
            "Epoch 95/500 | Train loss: 0.48793 | validation loss: 0.51386 | train accuracy: 80.704% | validation accuracy: 79.083%\n",
            "Epoch 96/500 | Train loss: 0.48700 | validation loss: 0.52177 | train accuracy: 80.704% | validation accuracy: 79.265%\n",
            "Epoch 97/500 | Train loss: 0.48779 | validation loss: 0.51324 | train accuracy: 80.719% | validation accuracy: 79.174%\n",
            "Epoch 98/500 | Train loss: 0.48545 | validation loss: 0.51496 | train accuracy: 80.78% | validation accuracy: 78.947%\n",
            "Epoch 99/500 | Train loss: 0.48748 | validation loss: 0.51362 | train accuracy: 80.689% | validation accuracy: 79.129%\n",
            "Epoch 100/500 | Train loss: 0.48648 | validation loss: 0.51321 | train accuracy: 80.719% | validation accuracy: 79.174%\n",
            "Epoch 101/500 | Train loss: 0.48649 | validation loss: 0.51330 | train accuracy: 80.598% | validation accuracy: 79.22%\n",
            "Epoch 102/500 | Train loss: 0.48595 | validation loss: 0.51459 | train accuracy: 80.795% | validation accuracy: 79.22%\n",
            "Epoch 103/500 | Train loss: 0.48586 | validation loss: 0.51523 | train accuracy: 80.749% | validation accuracy: 78.993%\n",
            "Epoch 104/500 | Train loss: 0.48617 | validation loss: 0.51616 | train accuracy: 80.734% | validation accuracy: 78.993%\n",
            "Epoch 105/500 | Train loss: 0.48476 | validation loss: 0.52031 | train accuracy: 80.704% | validation accuracy: 79.129%\n",
            "Epoch 106/500 | Train loss: 0.48316 | validation loss: 0.51622 | train accuracy: 80.825% | validation accuracy: 79.265%\n",
            "Epoch 107/500 | Train loss: 0.48506 | validation loss: 0.51761 | train accuracy: 80.689% | validation accuracy: 79.401%\n",
            "Epoch 108/500 | Train loss: 0.48457 | validation loss: 0.51448 | train accuracy: 80.825% | validation accuracy: 79.31%\n",
            "Epoch 109/500 | Train loss: 0.48351 | validation loss: 0.51276 | train accuracy: 80.765% | validation accuracy: 79.22%\n",
            "Epoch 110/500 | Train loss: 0.48350 | validation loss: 0.51352 | train accuracy: 80.81% | validation accuracy: 79.356%\n",
            "Epoch 111/500 | Train loss: 0.48403 | validation loss: 0.51281 | train accuracy: 80.795% | validation accuracy: 79.174%\n",
            "Epoch 112/500 | Train loss: 0.48370 | validation loss: 0.51492 | train accuracy: 80.81% | validation accuracy: 79.446%\n",
            "Epoch 113/500 | Train loss: 0.48294 | validation loss: 0.51387 | train accuracy: 80.886% | validation accuracy: 79.129%\n",
            "Epoch 114/500 | Train loss: 0.48342 | validation loss: 0.51228 | train accuracy: 80.84% | validation accuracy: 79.31%\n",
            "Epoch 115/500 | Train loss: 0.48409 | validation loss: 0.51237 | train accuracy: 80.795% | validation accuracy: 79.174%\n",
            "Epoch 116/500 | Train loss: 0.48200 | validation loss: 0.51283 | train accuracy: 80.886% | validation accuracy: 79.492%\n",
            "Epoch 117/500 | Train loss: 0.48259 | validation loss: 0.51655 | train accuracy: 80.81% | validation accuracy: 79.537%\n",
            "Epoch 118/500 | Train loss: 0.48258 | validation loss: 0.51351 | train accuracy: 80.962% | validation accuracy: 79.174%\n",
            "Epoch 119/500 | Train loss: 0.48193 | validation loss: 0.51909 | train accuracy: 80.916% | validation accuracy: 79.356%\n",
            "Epoch 120/500 | Train loss: 0.48099 | validation loss: 0.52043 | train accuracy: 80.78% | validation accuracy: 79.22%\n",
            "Epoch 121/500 | Train loss: 0.48194 | validation loss: 0.51513 | train accuracy: 80.856% | validation accuracy: 79.401%\n",
            "Epoch 122/500 | Train loss: 0.48178 | validation loss: 0.51529 | train accuracy: 80.856% | validation accuracy: 79.537%\n",
            "Epoch 123/500 | Train loss: 0.48083 | validation loss: 0.51242 | train accuracy: 80.916% | validation accuracy: 79.537%\n",
            "Epoch 124/500 | Train loss: 0.48014 | validation loss: 0.51741 | train accuracy: 80.947% | validation accuracy: 79.265%\n",
            "Epoch 125/500 | Train loss: 0.48014 | validation loss: 0.51224 | train accuracy: 80.931% | validation accuracy: 79.492%\n",
            "Epoch 126/500 | Train loss: 0.48077 | validation loss: 0.51570 | train accuracy: 80.871% | validation accuracy: 79.446%\n",
            "Epoch 127/500 | Train loss: 0.48053 | validation loss: 0.51384 | train accuracy: 80.901% | validation accuracy: 79.537%\n",
            "Epoch 128/500 | Train loss: 0.48028 | validation loss: 0.51306 | train accuracy: 80.931% | validation accuracy: 79.446%\n",
            "Epoch 129/500 | Train loss: 0.48056 | validation loss: 0.51656 | train accuracy: 80.856% | validation accuracy: 79.446%\n",
            "Epoch 130/500 | Train loss: 0.48032 | validation loss: 0.51556 | train accuracy: 80.977% | validation accuracy: 79.129%\n",
            "Epoch 131/500 | Train loss: 0.48015 | validation loss: 0.51206 | train accuracy: 80.916% | validation accuracy: 79.537%\n",
            "Epoch 132/500 | Train loss: 0.48012 | validation loss: 0.51287 | train accuracy: 80.901% | validation accuracy: 79.446%\n",
            "Epoch 133/500 | Train loss: 0.48025 | validation loss: 0.51438 | train accuracy: 80.977% | validation accuracy: 79.537%\n",
            "Epoch 134/500 | Train loss: 0.47974 | validation loss: 0.51354 | train accuracy: 80.977% | validation accuracy: 79.492%\n",
            "Epoch 135/500 | Train loss: 0.47987 | validation loss: 0.51347 | train accuracy: 80.947% | validation accuracy: 79.401%\n",
            "Epoch 136/500 | Train loss: 0.48000 | validation loss: 0.51271 | train accuracy: 80.931% | validation accuracy: 79.446%\n",
            "Epoch 137/500 | Train loss: 0.47863 | validation loss: 0.51212 | train accuracy: 80.931% | validation accuracy: 79.492%\n",
            "Epoch 138/500 | Train loss: 0.47870 | validation loss: 0.51247 | train accuracy: 80.901% | validation accuracy: 79.492%\n",
            "Epoch 139/500 | Train loss: 0.47869 | validation loss: 0.51235 | train accuracy: 81.007% | validation accuracy: 79.764%\n",
            "Epoch 140/500 | Train loss: 0.47778 | validation loss: 0.52009 | train accuracy: 80.977% | validation accuracy: 79.537%\n",
            "Epoch 141/500 | Train loss: 0.47922 | validation loss: 0.51564 | train accuracy: 80.901% | validation accuracy: 79.492%\n",
            "Epoch 142/500 | Train loss: 0.47812 | validation loss: 0.51375 | train accuracy: 80.977% | validation accuracy: 79.628%\n",
            "Epoch 143/500 | Train loss: 0.47800 | validation loss: 0.51353 | train accuracy: 80.992% | validation accuracy: 79.537%\n",
            "Epoch 144/500 | Train loss: 0.47897 | validation loss: 0.51204 | train accuracy: 81.007% | validation accuracy: 79.537%\n",
            "Epoch 145/500 | Train loss: 0.47820 | validation loss: 0.51397 | train accuracy: 80.977% | validation accuracy: 79.628%\n",
            "Epoch 146/500 | Train loss: 0.47815 | validation loss: 0.51296 | train accuracy: 80.947% | validation accuracy: 79.492%\n",
            "Epoch 147/500 | Train loss: 0.47777 | validation loss: 0.51507 | train accuracy: 80.901% | validation accuracy: 79.628%\n",
            "Epoch 148/500 | Train loss: 0.47826 | validation loss: 0.51233 | train accuracy: 80.886% | validation accuracy: 79.583%\n",
            "Epoch 149/500 | Train loss: 0.47776 | validation loss: 0.51217 | train accuracy: 81.022% | validation accuracy: 79.446%\n",
            "Epoch 150/500 | Train loss: 0.47669 | validation loss: 0.51514 | train accuracy: 80.992% | validation accuracy: 79.537%\n",
            "Epoch 151/500 | Train loss: 0.47762 | validation loss: 0.51480 | train accuracy: 80.886% | validation accuracy: 79.537%\n",
            "Epoch 152/500 | Train loss: 0.47798 | validation loss: 0.51470 | train accuracy: 80.916% | validation accuracy: 79.719%\n",
            "Epoch 153/500 | Train loss: 0.47741 | validation loss: 0.51238 | train accuracy: 80.856% | validation accuracy: 79.719%\n",
            "Epoch 154/500 | Train loss: 0.47680 | validation loss: 0.51240 | train accuracy: 80.962% | validation accuracy: 79.583%\n",
            "Epoch 155/500 | Train loss: 0.47813 | validation loss: 0.51221 | train accuracy: 80.947% | validation accuracy: 79.537%\n",
            "Epoch 156/500 | Train loss: 0.47488 | validation loss: 0.51644 | train accuracy: 81.022% | validation accuracy: 79.764%\n",
            "Epoch 157/500 | Train loss: 0.47638 | validation loss: 0.51243 | train accuracy: 80.947% | validation accuracy: 79.719%\n",
            "Epoch 158/500 | Train loss: 0.47630 | validation loss: 0.51755 | train accuracy: 80.992% | validation accuracy: 79.537%\n",
            "Epoch 159/500 | Train loss: 0.47696 | validation loss: 0.51225 | train accuracy: 80.947% | validation accuracy: 79.764%\n",
            "Epoch 160/500 | Train loss: 0.47606 | validation loss: 0.51395 | train accuracy: 80.992% | validation accuracy: 79.583%\n",
            "Epoch 161/500 | Train loss: 0.47533 | validation loss: 0.51271 | train accuracy: 81.098% | validation accuracy: 79.719%\n",
            "Epoch 162/500 | Train loss: 0.47597 | validation loss: 0.51500 | train accuracy: 80.962% | validation accuracy: 79.537%\n",
            "Epoch 163/500 | Train loss: 0.47500 | validation loss: 0.51576 | train accuracy: 80.977% | validation accuracy: 79.537%\n",
            "Epoch 164/500 | Train loss: 0.47537 | validation loss: 0.51553 | train accuracy: 80.992% | validation accuracy: 79.628%\n",
            "Epoch 165/500 | Train loss: 0.47556 | validation loss: 0.51329 | train accuracy: 81.159% | validation accuracy: 79.628%\n",
            "Epoch 166/500 | Train loss: 0.47543 | validation loss: 0.51416 | train accuracy: 81.007% | validation accuracy: 79.537%\n",
            "Epoch 167/500 | Train loss: 0.47601 | validation loss: 0.51766 | train accuracy: 81.053% | validation accuracy: 79.492%\n",
            "Epoch 168/500 | Train loss: 0.47477 | validation loss: 0.51295 | train accuracy: 81.022% | validation accuracy: 79.764%\n",
            "Epoch 169/500 | Train loss: 0.47419 | validation loss: 0.51875 | train accuracy: 81.038% | validation accuracy: 79.492%\n",
            "Epoch 170/500 | Train loss: 0.47455 | validation loss: 0.51293 | train accuracy: 81.098% | validation accuracy: 79.719%\n",
            "Epoch 171/500 | Train loss: 0.47500 | validation loss: 0.51284 | train accuracy: 81.083% | validation accuracy: 79.809%\n",
            "Epoch 172/500 | Train loss: 0.47467 | validation loss: 0.51727 | train accuracy: 81.053% | validation accuracy: 79.492%\n",
            "Epoch 173/500 | Train loss: 0.47514 | validation loss: 0.51404 | train accuracy: 81.068% | validation accuracy: 79.673%\n",
            "Epoch 174/500 | Train loss: 0.47553 | validation loss: 0.51419 | train accuracy: 81.129% | validation accuracy: 79.583%\n",
            "Epoch 175/500 | Train loss: 0.47486 | validation loss: 0.51294 | train accuracy: 81.129% | validation accuracy: 79.764%\n",
            "Epoch 176/500 | Train loss: 0.47422 | validation loss: 0.51670 | train accuracy: 81.204% | validation accuracy: 79.628%\n",
            "Epoch 177/500 | Train loss: 0.47320 | validation loss: 0.51587 | train accuracy: 81.204% | validation accuracy: 79.492%\n",
            "Epoch 178/500 | Train loss: 0.47528 | validation loss: 0.51278 | train accuracy: 81.053% | validation accuracy: 79.809%\n",
            "Epoch 179/500 | Train loss: 0.47410 | validation loss: 0.51484 | train accuracy: 81.098% | validation accuracy: 79.628%\n",
            "Epoch 180/500 | Train loss: 0.47362 | validation loss: 0.51588 | train accuracy: 81.053% | validation accuracy: 79.764%\n",
            "Epoch 181/500 | Train loss: 0.47444 | validation loss: 0.51376 | train accuracy: 81.144% | validation accuracy: 79.673%\n",
            "Epoch 182/500 | Train loss: 0.47448 | validation loss: 0.52165 | train accuracy: 81.083% | validation accuracy: 79.356%\n",
            "Epoch 183/500 | Train loss: 0.47358 | validation loss: 0.51480 | train accuracy: 81.098% | validation accuracy: 79.583%\n",
            "Epoch 184/500 | Train loss: 0.47297 | validation loss: 0.51339 | train accuracy: 81.22% | validation accuracy: 79.809%\n",
            "Epoch 185/500 | Train loss: 0.47455 | validation loss: 0.51360 | train accuracy: 81.068% | validation accuracy: 79.764%\n",
            "Epoch 186/500 | Train loss: 0.47363 | validation loss: 0.51317 | train accuracy: 81.144% | validation accuracy: 79.855%\n",
            "Epoch 187/500 | Train loss: 0.47353 | validation loss: 0.51431 | train accuracy: 81.068% | validation accuracy: 79.764%\n",
            "Epoch 188/500 | Train loss: 0.47364 | validation loss: 0.51530 | train accuracy: 81.083% | validation accuracy: 79.628%\n",
            "Epoch 189/500 | Train loss: 0.47389 | validation loss: 0.52113 | train accuracy: 81.068% | validation accuracy: 79.401%\n",
            "Epoch 190/500 | Train loss: 0.47419 | validation loss: 0.51566 | train accuracy: 81.098% | validation accuracy: 79.719%\n",
            "Epoch 191/500 | Train loss: 0.47426 | validation loss: 0.51718 | train accuracy: 81.113% | validation accuracy: 79.446%\n",
            "Epoch 192/500 | Train loss: 0.47421 | validation loss: 0.51346 | train accuracy: 81.083% | validation accuracy: 79.809%\n",
            "Epoch 193/500 | Train loss: 0.47240 | validation loss: 0.51478 | train accuracy: 81.144% | validation accuracy: 79.719%\n",
            "Epoch 194/500 | Train loss: 0.47334 | validation loss: 0.51362 | train accuracy: 81.129% | validation accuracy: 79.855%\n",
            "Epoch 195/500 | Train loss: 0.47392 | validation loss: 0.51413 | train accuracy: 81.189% | validation accuracy: 79.764%\n",
            "Epoch 196/500 | Train loss: 0.47287 | validation loss: 0.52061 | train accuracy: 81.083% | validation accuracy: 79.492%\n",
            "Epoch 197/500 | Train loss: 0.47237 | validation loss: 0.51400 | train accuracy: 81.144% | validation accuracy: 79.809%\n",
            "Epoch 198/500 | Train loss: 0.47235 | validation loss: 0.51394 | train accuracy: 81.083% | validation accuracy: 79.764%\n",
            "Epoch 199/500 | Train loss: 0.47310 | validation loss: 0.51663 | train accuracy: 81.098% | validation accuracy: 79.537%\n",
            "Epoch 200/500 | Train loss: 0.47302 | validation loss: 0.51394 | train accuracy: 81.144% | validation accuracy: 79.855%\n",
            "Epoch 201/500 | Train loss: 0.47242 | validation loss: 0.51591 | train accuracy: 81.159% | validation accuracy: 79.719%\n",
            "Epoch 202/500 | Train loss: 0.47299 | validation loss: 0.51460 | train accuracy: 81.204% | validation accuracy: 79.719%\n",
            "Epoch 203/500 | Train loss: 0.47243 | validation loss: 0.51597 | train accuracy: 81.098% | validation accuracy: 79.719%\n",
            "Epoch 204/500 | Train loss: 0.47326 | validation loss: 0.51515 | train accuracy: 81.098% | validation accuracy: 79.764%\n",
            "Epoch 205/500 | Train loss: 0.47224 | validation loss: 0.51441 | train accuracy: 81.174% | validation accuracy: 79.809%\n",
            "Epoch 206/500 | Train loss: 0.47152 | validation loss: 0.51451 | train accuracy: 81.204% | validation accuracy: 79.809%\n",
            "Epoch 207/500 | Train loss: 0.47200 | validation loss: 0.51441 | train accuracy: 81.129% | validation accuracy: 79.764%\n",
            "Epoch 208/500 | Train loss: 0.47127 | validation loss: 0.51439 | train accuracy: 81.189% | validation accuracy: 79.809%\n",
            "Epoch 209/500 | Train loss: 0.47317 | validation loss: 0.51495 | train accuracy: 81.144% | validation accuracy: 79.764%\n",
            "Epoch 210/500 | Train loss: 0.47240 | validation loss: 0.51446 | train accuracy: 81.159% | validation accuracy: 79.673%\n",
            "Epoch 211/500 | Train loss: 0.47145 | validation loss: 0.51856 | train accuracy: 81.144% | validation accuracy: 79.537%\n",
            "Epoch 212/500 | Train loss: 0.47182 | validation loss: 0.51957 | train accuracy: 81.235% | validation accuracy: 79.446%\n",
            "Epoch 213/500 | Train loss: 0.47110 | validation loss: 0.52283 | train accuracy: 81.174% | validation accuracy: 79.356%\n",
            "Epoch 214/500 | Train loss: 0.47101 | validation loss: 0.51463 | train accuracy: 81.129% | validation accuracy: 79.719%\n",
            "Epoch 215/500 | Train loss: 0.47312 | validation loss: 0.51470 | train accuracy: 81.22% | validation accuracy: 79.719%\n",
            "Epoch 216/500 | Train loss: 0.47201 | validation loss: 0.51599 | train accuracy: 81.083% | validation accuracy: 79.719%\n",
            "Epoch 217/500 | Train loss: 0.47016 | validation loss: 0.51900 | train accuracy: 81.235% | validation accuracy: 79.446%\n",
            "Epoch 218/500 | Train loss: 0.47174 | validation loss: 0.51757 | train accuracy: 81.22% | validation accuracy: 79.719%\n",
            "Epoch 219/500 | Train loss: 0.47180 | validation loss: 0.51618 | train accuracy: 81.098% | validation accuracy: 79.673%\n",
            "Epoch 220/500 | Train loss: 0.47188 | validation loss: 0.51540 | train accuracy: 81.189% | validation accuracy: 79.719%\n",
            "Epoch 221/500 | Train loss: 0.47216 | validation loss: 0.51518 | train accuracy: 81.189% | validation accuracy: 79.673%\n",
            "Epoch 222/500 | Train loss: 0.47209 | validation loss: 0.51784 | train accuracy: 81.22% | validation accuracy: 79.719%\n",
            "Epoch 223/500 | Train loss: 0.47129 | validation loss: 0.51652 | train accuracy: 81.159% | validation accuracy: 79.719%\n",
            "Epoch 224/500 | Train loss: 0.47205 | validation loss: 0.51952 | train accuracy: 81.204% | validation accuracy: 79.446%\n",
            "Epoch 225/500 | Train loss: 0.47261 | validation loss: 0.51640 | train accuracy: 81.113% | validation accuracy: 79.764%\n",
            "Epoch 226/500 | Train loss: 0.47093 | validation loss: 0.51539 | train accuracy: 81.235% | validation accuracy: 79.719%\n",
            "Epoch 227/500 | Train loss: 0.47011 | validation loss: 0.51689 | train accuracy: 81.189% | validation accuracy: 79.583%\n",
            "Epoch 228/500 | Train loss: 0.47080 | validation loss: 0.51541 | train accuracy: 81.235% | validation accuracy: 79.764%\n",
            "Epoch 229/500 | Train loss: 0.47086 | validation loss: 0.51820 | train accuracy: 81.235% | validation accuracy: 79.719%\n",
            "Epoch 230/500 | Train loss: 0.47024 | validation loss: 0.52086 | train accuracy: 81.235% | validation accuracy: 79.537%\n",
            "Epoch 231/500 | Train loss: 0.47185 | validation loss: 0.51555 | train accuracy: 81.083% | validation accuracy: 79.764%\n",
            "Epoch 232/500 | Train loss: 0.47106 | validation loss: 0.51692 | train accuracy: 81.144% | validation accuracy: 79.719%\n",
            "Epoch 233/500 | Train loss: 0.47011 | validation loss: 0.51868 | train accuracy: 81.296% | validation accuracy: 79.809%\n",
            "Epoch 234/500 | Train loss: 0.47089 | validation loss: 0.51640 | train accuracy: 81.25% | validation accuracy: 79.719%\n",
            "Epoch 235/500 | Train loss: 0.47122 | validation loss: 0.51868 | train accuracy: 81.144% | validation accuracy: 79.764%\n",
            "Epoch 236/500 | Train loss: 0.47005 | validation loss: 0.51716 | train accuracy: 81.174% | validation accuracy: 79.809%\n",
            "Epoch 237/500 | Train loss: 0.47111 | validation loss: 0.51599 | train accuracy: 81.159% | validation accuracy: 79.855%\n",
            "Epoch 238/500 | Train loss: 0.47030 | validation loss: 0.51699 | train accuracy: 81.204% | validation accuracy: 79.583%\n",
            "Epoch 239/500 | Train loss: 0.47038 | validation loss: 0.51622 | train accuracy: 81.25% | validation accuracy: 79.764%\n",
            "Epoch 240/500 | Train loss: 0.46973 | validation loss: 0.51646 | train accuracy: 81.311% | validation accuracy: 79.719%\n",
            "Epoch 241/500 | Train loss: 0.46965 | validation loss: 0.51830 | train accuracy: 81.22% | validation accuracy: 79.719%\n",
            "Epoch 242/500 | Train loss: 0.47011 | validation loss: 0.51799 | train accuracy: 81.22% | validation accuracy: 79.855%\n",
            "Epoch 243/500 | Train loss: 0.47096 | validation loss: 0.51918 | train accuracy: 81.189% | validation accuracy: 79.628%\n",
            "Epoch 244/500 | Train loss: 0.47036 | validation loss: 0.52095 | train accuracy: 81.235% | validation accuracy: 79.446%\n",
            "Epoch 245/500 | Train loss: 0.47078 | validation loss: 0.51799 | train accuracy: 81.25% | validation accuracy: 79.855%\n",
            "Epoch 246/500 | Train loss: 0.47103 | validation loss: 0.52256 | train accuracy: 81.22% | validation accuracy: 79.446%\n",
            "Epoch 247/500 | Train loss: 0.47009 | validation loss: 0.51714 | train accuracy: 81.22% | validation accuracy: 79.809%\n",
            "Epoch 248/500 | Train loss: 0.47015 | validation loss: 0.51755 | train accuracy: 81.265% | validation accuracy: 79.855%\n",
            "Epoch 249/500 | Train loss: 0.46998 | validation loss: 0.51772 | train accuracy: 81.22% | validation accuracy: 79.673%\n",
            "Epoch 250/500 | Train loss: 0.46989 | validation loss: 0.51680 | train accuracy: 81.189% | validation accuracy: 79.946%\n",
            "Epoch 251/500 | Train loss: 0.47043 | validation loss: 0.51694 | train accuracy: 81.204% | validation accuracy: 79.809%\n",
            "Epoch 252/500 | Train loss: 0.46861 | validation loss: 0.52555 | train accuracy: 81.204% | validation accuracy: 79.673%\n",
            "Epoch 253/500 | Train loss: 0.46895 | validation loss: 0.52026 | train accuracy: 81.22% | validation accuracy: 79.809%\n",
            "Epoch 254/500 | Train loss: 0.46998 | validation loss: 0.51918 | train accuracy: 81.174% | validation accuracy: 79.855%\n",
            "Epoch 255/500 | Train loss: 0.46941 | validation loss: 0.52072 | train accuracy: 81.235% | validation accuracy: 79.764%\n",
            "Epoch 256/500 | Train loss: 0.46914 | validation loss: 0.51922 | train accuracy: 81.265% | validation accuracy: 79.946%\n",
            "Epoch 257/500 | Train loss: 0.46964 | validation loss: 0.51988 | train accuracy: 81.265% | validation accuracy: 79.855%\n",
            "Epoch 258/500 | Train loss: 0.46896 | validation loss: 0.51831 | train accuracy: 81.235% | validation accuracy: 79.946%\n",
            "Epoch 259/500 | Train loss: 0.46936 | validation loss: 0.51830 | train accuracy: 81.159% | validation accuracy: 79.809%\n",
            "Epoch 260/500 | Train loss: 0.46952 | validation loss: 0.51826 | train accuracy: 81.25% | validation accuracy: 79.946%\n",
            "Epoch 261/500 | Train loss: 0.46888 | validation loss: 0.52131 | train accuracy: 81.28% | validation accuracy: 79.673%\n",
            "Epoch 262/500 | Train loss: 0.46768 | validation loss: 0.51768 | train accuracy: 81.311% | validation accuracy: 79.855%\n",
            "Epoch 263/500 | Train loss: 0.46850 | validation loss: 0.51778 | train accuracy: 81.265% | validation accuracy: 79.855%\n",
            "Epoch 264/500 | Train loss: 0.46964 | validation loss: 0.51842 | train accuracy: 81.129% | validation accuracy: 79.809%\n",
            "Epoch 265/500 | Train loss: 0.46966 | validation loss: 0.51847 | train accuracy: 81.22% | validation accuracy: 79.809%\n",
            "Epoch 266/500 | Train loss: 0.46898 | validation loss: 0.51887 | train accuracy: 81.265% | validation accuracy: 79.809%\n",
            "Epoch 267/500 | Train loss: 0.46937 | validation loss: 0.51847 | train accuracy: 81.22% | validation accuracy: 79.764%\n",
            "Epoch 268/500 | Train loss: 0.46780 | validation loss: 0.51988 | train accuracy: 81.417% | validation accuracy: 79.764%\n",
            "Epoch 269/500 | Train loss: 0.46861 | validation loss: 0.51897 | train accuracy: 81.296% | validation accuracy: 79.855%\n",
            "Epoch 270/500 | Train loss: 0.46904 | validation loss: 0.52428 | train accuracy: 81.22% | validation accuracy: 79.719%\n",
            "Epoch 271/500 | Train loss: 0.46872 | validation loss: 0.52282 | train accuracy: 81.174% | validation accuracy: 79.809%\n",
            "Epoch 272/500 | Train loss: 0.46829 | validation loss: 0.51873 | train accuracy: 81.296% | validation accuracy: 79.809%\n",
            "Epoch 273/500 | Train loss: 0.46728 | validation loss: 0.51977 | train accuracy: 81.28% | validation accuracy: 79.809%\n",
            "Epoch 274/500 | Train loss: 0.46977 | validation loss: 0.51868 | train accuracy: 81.204% | validation accuracy: 79.946%\n",
            "Epoch 275/500 | Train loss: 0.46825 | validation loss: 0.52236 | train accuracy: 81.265% | validation accuracy: 79.855%\n",
            "Epoch 276/500 | Train loss: 0.46838 | validation loss: 0.51939 | train accuracy: 81.22% | validation accuracy: 79.809%\n",
            "Epoch 277/500 | Train loss: 0.46800 | validation loss: 0.52156 | train accuracy: 81.235% | validation accuracy: 79.809%\n",
            "Epoch 278/500 | Train loss: 0.46954 | validation loss: 0.52073 | train accuracy: 81.22% | validation accuracy: 79.809%\n",
            "Epoch 279/500 | Train loss: 0.46887 | validation loss: 0.52445 | train accuracy: 81.28% | validation accuracy: 79.764%\n",
            "Epoch 280/500 | Train loss: 0.46979 | validation loss: 0.52104 | train accuracy: 81.22% | validation accuracy: 79.855%\n",
            "Epoch 281/500 | Train loss: 0.46768 | validation loss: 0.52575 | train accuracy: 81.25% | validation accuracy: 79.719%\n",
            "Epoch 282/500 | Train loss: 0.46889 | validation loss: 0.52086 | train accuracy: 81.204% | validation accuracy: 79.764%\n",
            "Epoch 283/500 | Train loss: 0.46825 | validation loss: 0.51914 | train accuracy: 81.265% | validation accuracy: 79.9%\n",
            "Epoch 284/500 | Train loss: 0.46828 | validation loss: 0.51915 | train accuracy: 81.326% | validation accuracy: 79.809%\n",
            "Epoch 285/500 | Train loss: 0.46910 | validation loss: 0.51945 | train accuracy: 81.311% | validation accuracy: 79.946%\n",
            "Epoch 286/500 | Train loss: 0.46816 | validation loss: 0.52096 | train accuracy: 81.204% | validation accuracy: 79.809%\n",
            "Epoch 287/500 | Train loss: 0.46874 | validation loss: 0.52650 | train accuracy: 81.174% | validation accuracy: 79.673%\n",
            "Epoch 288/500 | Train loss: 0.46715 | validation loss: 0.52487 | train accuracy: 81.265% | validation accuracy: 79.764%\n",
            "Epoch 289/500 | Train loss: 0.46796 | validation loss: 0.52137 | train accuracy: 81.326% | validation accuracy: 79.809%\n",
            "Epoch 290/500 | Train loss: 0.46794 | validation loss: 0.52206 | train accuracy: 81.265% | validation accuracy: 79.9%\n",
            "Epoch 291/500 | Train loss: 0.46817 | validation loss: 0.52153 | train accuracy: 81.371% | validation accuracy: 79.809%\n",
            "Epoch 292/500 | Train loss: 0.46815 | validation loss: 0.52096 | train accuracy: 81.204% | validation accuracy: 79.855%\n",
            "Epoch 293/500 | Train loss: 0.46746 | validation loss: 0.52137 | train accuracy: 81.25% | validation accuracy: 79.809%\n",
            "Epoch 294/500 | Train loss: 0.46735 | validation loss: 0.52093 | train accuracy: 81.235% | validation accuracy: 79.855%\n",
            "Epoch 295/500 | Train loss: 0.46864 | validation loss: 0.52273 | train accuracy: 81.265% | validation accuracy: 79.855%\n",
            "Epoch 296/500 | Train loss: 0.46826 | validation loss: 0.52111 | train accuracy: 81.25% | validation accuracy: 79.855%\n",
            "Epoch 297/500 | Train loss: 0.46882 | validation loss: 0.52103 | train accuracy: 81.28% | validation accuracy: 79.855%\n",
            "Epoch 298/500 | Train loss: 0.46714 | validation loss: 0.52421 | train accuracy: 81.235% | validation accuracy: 79.855%\n",
            "Epoch 299/500 | Train loss: 0.46817 | validation loss: 0.52176 | train accuracy: 81.28% | validation accuracy: 79.809%\n",
            "Epoch 300/500 | Train loss: 0.46825 | validation loss: 0.52511 | train accuracy: 81.265% | validation accuracy: 79.9%\n",
            "Epoch 301/500 | Train loss: 0.46626 | validation loss: 0.52770 | train accuracy: 81.28% | validation accuracy: 79.764%\n",
            "Epoch 302/500 | Train loss: 0.46790 | validation loss: 0.52266 | train accuracy: 81.204% | validation accuracy: 79.809%\n",
            "Epoch 303/500 | Train loss: 0.46803 | validation loss: 0.52165 | train accuracy: 81.22% | validation accuracy: 79.855%\n",
            "Epoch 304/500 | Train loss: 0.46845 | validation loss: 0.52207 | train accuracy: 81.22% | validation accuracy: 79.9%\n",
            "Epoch 305/500 | Train loss: 0.46727 | validation loss: 0.52094 | train accuracy: 81.296% | validation accuracy: 79.855%\n",
            "Epoch 306/500 | Train loss: 0.46723 | validation loss: 0.52345 | train accuracy: 81.265% | validation accuracy: 79.764%\n",
            "Epoch 307/500 | Train loss: 0.46749 | validation loss: 0.52145 | train accuracy: 81.159% | validation accuracy: 79.855%\n",
            "Epoch 308/500 | Train loss: 0.46798 | validation loss: 0.52169 | train accuracy: 81.25% | validation accuracy: 79.9%\n",
            "Epoch 309/500 | Train loss: 0.46644 | validation loss: 0.52116 | train accuracy: 81.326% | validation accuracy: 79.855%\n",
            "Epoch 310/500 | Train loss: 0.46743 | validation loss: 0.52202 | train accuracy: 81.356% | validation accuracy: 79.855%\n",
            "Epoch 311/500 | Train loss: 0.46693 | validation loss: 0.52351 | train accuracy: 81.265% | validation accuracy: 79.809%\n",
            "Epoch 312/500 | Train loss: 0.46812 | validation loss: 0.52135 | train accuracy: 81.265% | validation accuracy: 79.855%\n",
            "Epoch 313/500 | Train loss: 0.46638 | validation loss: 0.52686 | train accuracy: 81.22% | validation accuracy: 79.855%\n",
            "Epoch 314/500 | Train loss: 0.46685 | validation loss: 0.52756 | train accuracy: 81.311% | validation accuracy: 79.719%\n",
            "Epoch 315/500 | Train loss: 0.46724 | validation loss: 0.52342 | train accuracy: 81.265% | validation accuracy: 79.809%\n",
            "Epoch 316/500 | Train loss: 0.46810 | validation loss: 0.52375 | train accuracy: 81.22% | validation accuracy: 79.946%\n",
            "Epoch 317/500 | Train loss: 0.46791 | validation loss: 0.52286 | train accuracy: 81.28% | validation accuracy: 79.764%\n",
            "Epoch 318/500 | Train loss: 0.46759 | validation loss: 0.52939 | train accuracy: 81.25% | validation accuracy: 79.855%\n",
            "Epoch 319/500 | Train loss: 0.46676 | validation loss: 0.52412 | train accuracy: 81.265% | validation accuracy: 79.9%\n",
            "Epoch 320/500 | Train loss: 0.46654 | validation loss: 0.52303 | train accuracy: 81.371% | validation accuracy: 79.855%\n",
            "Epoch 321/500 | Train loss: 0.46771 | validation loss: 0.52384 | train accuracy: 81.235% | validation accuracy: 79.9%\n",
            "Epoch 322/500 | Train loss: 0.46721 | validation loss: 0.52316 | train accuracy: 81.326% | validation accuracy: 79.764%\n",
            "Epoch 323/500 | Train loss: 0.46759 | validation loss: 0.52512 | train accuracy: 81.265% | validation accuracy: 79.764%\n",
            "Epoch 324/500 | Train loss: 0.46741 | validation loss: 0.52344 | train accuracy: 81.189% | validation accuracy: 79.9%\n",
            "Epoch 325/500 | Train loss: 0.46696 | validation loss: 0.52389 | train accuracy: 81.174% | validation accuracy: 79.855%\n",
            "Epoch 326/500 | Train loss: 0.46668 | validation loss: 0.52589 | train accuracy: 81.356% | validation accuracy: 79.764%\n",
            "Epoch 327/500 | Train loss: 0.46739 | validation loss: 0.52590 | train accuracy: 81.189% | validation accuracy: 79.764%\n",
            "Epoch 328/500 | Train loss: 0.46690 | validation loss: 0.52277 | train accuracy: 81.265% | validation accuracy: 79.809%\n",
            "Epoch 329/500 | Train loss: 0.46703 | validation loss: 0.52347 | train accuracy: 81.296% | validation accuracy: 79.764%\n",
            "Epoch 330/500 | Train loss: 0.46677 | validation loss: 0.52499 | train accuracy: 81.22% | validation accuracy: 79.764%\n",
            "Epoch 331/500 | Train loss: 0.46529 | validation loss: 0.52420 | train accuracy: 81.341% | validation accuracy: 79.855%\n",
            "Epoch 332/500 | Train loss: 0.46665 | validation loss: 0.52547 | train accuracy: 81.341% | validation accuracy: 79.9%\n",
            "Epoch 333/500 | Train loss: 0.46804 | validation loss: 0.52428 | train accuracy: 81.296% | validation accuracy: 79.809%\n",
            "Epoch 334/500 | Train loss: 0.46655 | validation loss: 0.52742 | train accuracy: 81.371% | validation accuracy: 79.764%\n",
            "Epoch 335/500 | Train loss: 0.46663 | validation loss: 0.52826 | train accuracy: 81.265% | validation accuracy: 79.855%\n",
            "Epoch 336/500 | Train loss: 0.46714 | validation loss: 0.52395 | train accuracy: 81.296% | validation accuracy: 79.809%\n",
            "Epoch 337/500 | Train loss: 0.46608 | validation loss: 0.52456 | train accuracy: 81.265% | validation accuracy: 79.809%\n",
            "Epoch 338/500 | Train loss: 0.46596 | validation loss: 0.52493 | train accuracy: 81.28% | validation accuracy: 79.855%\n",
            "Epoch 339/500 | Train loss: 0.46704 | validation loss: 0.52621 | train accuracy: 81.204% | validation accuracy: 79.719%\n",
            "Epoch 340/500 | Train loss: 0.46642 | validation loss: 0.52352 | train accuracy: 81.341% | validation accuracy: 79.855%\n",
            "Epoch 341/500 | Train loss: 0.46717 | validation loss: 0.52458 | train accuracy: 81.265% | validation accuracy: 79.946%\n",
            "Epoch 342/500 | Train loss: 0.46653 | validation loss: 0.52894 | train accuracy: 81.341% | validation accuracy: 79.764%\n",
            "Epoch 343/500 | Train loss: 0.46588 | validation loss: 0.53095 | train accuracy: 81.356% | validation accuracy: 79.809%\n",
            "Epoch 344/500 | Train loss: 0.46662 | validation loss: 0.52459 | train accuracy: 81.28% | validation accuracy: 79.946%\n",
            "Epoch 345/500 | Train loss: 0.46673 | validation loss: 0.52405 | train accuracy: 81.28% | validation accuracy: 79.9%\n",
            "Epoch 346/500 | Train loss: 0.46775 | validation loss: 0.52504 | train accuracy: 81.25% | validation accuracy: 79.9%\n",
            "Epoch 347/500 | Train loss: 0.46739 | validation loss: 0.52538 | train accuracy: 81.311% | validation accuracy: 79.764%\n",
            "Epoch 348/500 | Train loss: 0.46651 | validation loss: 0.52680 | train accuracy: 81.326% | validation accuracy: 79.9%\n",
            "Epoch 349/500 | Train loss: 0.46658 | validation loss: 0.52415 | train accuracy: 81.341% | validation accuracy: 79.9%\n",
            "Epoch 350/500 | Train loss: 0.46685 | validation loss: 0.52643 | train accuracy: 81.189% | validation accuracy: 79.855%\n",
            "Epoch 351/500 | Train loss: 0.46657 | validation loss: 0.52456 | train accuracy: 81.22% | validation accuracy: 79.9%\n",
            "Epoch 352/500 | Train loss: 0.46624 | validation loss: 0.52606 | train accuracy: 81.371% | validation accuracy: 79.9%\n",
            "Epoch 353/500 | Train loss: 0.46670 | validation loss: 0.52596 | train accuracy: 81.432% | validation accuracy: 79.9%\n",
            "Epoch 354/500 | Train loss: 0.46716 | validation loss: 0.52506 | train accuracy: 81.326% | validation accuracy: 79.809%\n",
            "Epoch 355/500 | Train loss: 0.46698 | validation loss: 0.52778 | train accuracy: 81.371% | validation accuracy: 79.855%\n",
            "Epoch 356/500 | Train loss: 0.46616 | validation loss: 0.52517 | train accuracy: 81.356% | validation accuracy: 79.809%\n",
            "Epoch 357/500 | Train loss: 0.46566 | validation loss: 0.52658 | train accuracy: 81.402% | validation accuracy: 79.719%\n",
            "Epoch 358/500 | Train loss: 0.46526 | validation loss: 0.52527 | train accuracy: 81.296% | validation accuracy: 79.9%\n",
            "Epoch 359/500 | Train loss: 0.46544 | validation loss: 0.52699 | train accuracy: 81.326% | validation accuracy: 79.9%\n",
            "Epoch 360/500 | Train loss: 0.46611 | validation loss: 0.52752 | train accuracy: 81.265% | validation accuracy: 79.809%\n",
            "Epoch 361/500 | Train loss: 0.46637 | validation loss: 0.52527 | train accuracy: 81.22% | validation accuracy: 79.946%\n",
            "Epoch 362/500 | Train loss: 0.46578 | validation loss: 0.52522 | train accuracy: 81.265% | validation accuracy: 79.9%\n",
            "Epoch 363/500 | Train loss: 0.46552 | validation loss: 0.52796 | train accuracy: 81.28% | validation accuracy: 79.9%\n",
            "Epoch 364/500 | Train loss: 0.46590 | validation loss: 0.52921 | train accuracy: 81.356% | validation accuracy: 79.855%\n",
            "Epoch 365/500 | Train loss: 0.46496 | validation loss: 0.52675 | train accuracy: 81.387% | validation accuracy: 79.9%\n",
            "Epoch 366/500 | Train loss: 0.46629 | validation loss: 0.52941 | train accuracy: 81.296% | validation accuracy: 79.764%\n",
            "Epoch 367/500 | Train loss: 0.46447 | validation loss: 0.52563 | train accuracy: 81.28% | validation accuracy: 79.809%\n",
            "Epoch 368/500 | Train loss: 0.46570 | validation loss: 0.52582 | train accuracy: 81.265% | validation accuracy: 79.855%\n",
            "Epoch 369/500 | Train loss: 0.46564 | validation loss: 0.52767 | train accuracy: 81.25% | validation accuracy: 79.946%\n",
            "Epoch 370/500 | Train loss: 0.46546 | validation loss: 0.52613 | train accuracy: 81.387% | validation accuracy: 79.946%\n",
            "Epoch 371/500 | Train loss: 0.46523 | validation loss: 0.52620 | train accuracy: 81.326% | validation accuracy: 79.9%\n",
            "Epoch 372/500 | Train loss: 0.46657 | validation loss: 0.52588 | train accuracy: 81.25% | validation accuracy: 79.855%\n",
            "Epoch 373/500 | Train loss: 0.46629 | validation loss: 0.52771 | train accuracy: 81.22% | validation accuracy: 79.809%\n",
            "Epoch 374/500 | Train loss: 0.46655 | validation loss: 0.52939 | train accuracy: 81.356% | validation accuracy: 79.764%\n",
            "Epoch 375/500 | Train loss: 0.46580 | validation loss: 0.52607 | train accuracy: 81.371% | validation accuracy: 79.9%\n",
            "Epoch 376/500 | Train loss: 0.46382 | validation loss: 0.52651 | train accuracy: 81.326% | validation accuracy: 79.855%\n",
            "Epoch 377/500 | Train loss: 0.46576 | validation loss: 0.52650 | train accuracy: 81.296% | validation accuracy: 79.809%\n",
            "Epoch 378/500 | Train loss: 0.46536 | validation loss: 0.52634 | train accuracy: 81.296% | validation accuracy: 79.764%\n",
            "Epoch 379/500 | Train loss: 0.46635 | validation loss: 0.52872 | train accuracy: 81.25% | validation accuracy: 79.855%\n",
            "Epoch 380/500 | Train loss: 0.46538 | validation loss: 0.53136 | train accuracy: 81.326% | validation accuracy: 79.719%\n",
            "Epoch 381/500 | Train loss: 0.46522 | validation loss: 0.52825 | train accuracy: 81.311% | validation accuracy: 79.809%\n",
            "Epoch 382/500 | Train loss: 0.46584 | validation loss: 0.52725 | train accuracy: 81.25% | validation accuracy: 79.764%\n",
            "Epoch 383/500 | Train loss: 0.46488 | validation loss: 0.52798 | train accuracy: 81.356% | validation accuracy: 79.855%\n",
            "Epoch 384/500 | Train loss: 0.46543 | validation loss: 0.52730 | train accuracy: 81.265% | validation accuracy: 79.809%\n",
            "Epoch 385/500 | Train loss: 0.46543 | validation loss: 0.52700 | train accuracy: 81.265% | validation accuracy: 79.855%\n",
            "Epoch 386/500 | Train loss: 0.46516 | validation loss: 0.53146 | train accuracy: 81.296% | validation accuracy: 79.9%\n",
            "Epoch 387/500 | Train loss: 0.46634 | validation loss: 0.52893 | train accuracy: 81.296% | validation accuracy: 79.855%\n",
            "Epoch 388/500 | Train loss: 0.46662 | validation loss: 0.52855 | train accuracy: 81.311% | validation accuracy: 79.9%\n",
            "Epoch 389/500 | Train loss: 0.46581 | validation loss: 0.52730 | train accuracy: 81.28% | validation accuracy: 79.9%\n",
            "Epoch 390/500 | Train loss: 0.46535 | validation loss: 0.53218 | train accuracy: 81.296% | validation accuracy: 79.809%\n",
            "Epoch 391/500 | Train loss: 0.46538 | validation loss: 0.53103 | train accuracy: 81.265% | validation accuracy: 79.855%\n",
            "Epoch 392/500 | Train loss: 0.46556 | validation loss: 0.53220 | train accuracy: 81.265% | validation accuracy: 79.809%\n",
            "Epoch 393/500 | Train loss: 0.46521 | validation loss: 0.52901 | train accuracy: 81.311% | validation accuracy: 79.673%\n",
            "Epoch 394/500 | Train loss: 0.46663 | validation loss: 0.52940 | train accuracy: 81.28% | validation accuracy: 79.764%\n",
            "Epoch 395/500 | Train loss: 0.46521 | validation loss: 0.53012 | train accuracy: 81.28% | validation accuracy: 79.9%\n",
            "Epoch 396/500 | Train loss: 0.46532 | validation loss: 0.52941 | train accuracy: 81.356% | validation accuracy: 79.9%\n",
            "Epoch 397/500 | Train loss: 0.46469 | validation loss: 0.52748 | train accuracy: 81.432% | validation accuracy: 79.809%\n",
            "Epoch 398/500 | Train loss: 0.46653 | validation loss: 0.53224 | train accuracy: 81.25% | validation accuracy: 79.9%\n",
            "Epoch 399/500 | Train loss: 0.46487 | validation loss: 0.52855 | train accuracy: 81.356% | validation accuracy: 79.809%\n",
            "Epoch 400/500 | Train loss: 0.46522 | validation loss: 0.53309 | train accuracy: 81.144% | validation accuracy: 79.719%\n",
            "Epoch 401/500 | Train loss: 0.46539 | validation loss: 0.53009 | train accuracy: 81.28% | validation accuracy: 79.764%\n",
            "Epoch 402/500 | Train loss: 0.46515 | validation loss: 0.53030 | train accuracy: 81.387% | validation accuracy: 79.719%\n",
            "Epoch 403/500 | Train loss: 0.46578 | validation loss: 0.53009 | train accuracy: 81.387% | validation accuracy: 79.764%\n",
            "Epoch 404/500 | Train loss: 0.46425 | validation loss: 0.53071 | train accuracy: 81.356% | validation accuracy: 79.809%\n",
            "Epoch 405/500 | Train loss: 0.46477 | validation loss: 0.53061 | train accuracy: 81.356% | validation accuracy: 79.855%\n",
            "Epoch 406/500 | Train loss: 0.46536 | validation loss: 0.52885 | train accuracy: 81.296% | validation accuracy: 79.809%\n",
            "Epoch 407/500 | Train loss: 0.46467 | validation loss: 0.52815 | train accuracy: 81.326% | validation accuracy: 79.855%\n",
            "Epoch 408/500 | Train loss: 0.46533 | validation loss: 0.52872 | train accuracy: 81.311% | validation accuracy: 79.855%\n",
            "Epoch 409/500 | Train loss: 0.46547 | validation loss: 0.53334 | train accuracy: 81.326% | validation accuracy: 79.764%\n",
            "Epoch 410/500 | Train loss: 0.46400 | validation loss: 0.52851 | train accuracy: 81.371% | validation accuracy: 79.9%\n",
            "Epoch 411/500 | Train loss: 0.46533 | validation loss: 0.53422 | train accuracy: 81.356% | validation accuracy: 79.809%\n",
            "Epoch 412/500 | Train loss: 0.46525 | validation loss: 0.53029 | train accuracy: 81.311% | validation accuracy: 79.809%\n",
            "Epoch 413/500 | Train loss: 0.46563 | validation loss: 0.53351 | train accuracy: 81.22% | validation accuracy: 79.809%\n",
            "Epoch 414/500 | Train loss: 0.46608 | validation loss: 0.52868 | train accuracy: 81.265% | validation accuracy: 79.855%\n",
            "Epoch 415/500 | Train loss: 0.46546 | validation loss: 0.53080 | train accuracy: 81.296% | validation accuracy: 79.855%\n",
            "Epoch 416/500 | Train loss: 0.46617 | validation loss: 0.52971 | train accuracy: 81.326% | validation accuracy: 79.719%\n",
            "Epoch 417/500 | Train loss: 0.46617 | validation loss: 0.52974 | train accuracy: 81.311% | validation accuracy: 79.719%\n",
            "Epoch 418/500 | Train loss: 0.46475 | validation loss: 0.53014 | train accuracy: 81.28% | validation accuracy: 79.9%\n",
            "Epoch 419/500 | Train loss: 0.46545 | validation loss: 0.52962 | train accuracy: 81.326% | validation accuracy: 79.719%\n",
            "Epoch 420/500 | Train loss: 0.46481 | validation loss: 0.53044 | train accuracy: 81.356% | validation accuracy: 79.764%\n",
            "Epoch 421/500 | Train loss: 0.46529 | validation loss: 0.53072 | train accuracy: 81.356% | validation accuracy: 79.764%\n",
            "Epoch 422/500 | Train loss: 0.46544 | validation loss: 0.53289 | train accuracy: 81.296% | validation accuracy: 79.719%\n",
            "Epoch 423/500 | Train loss: 0.46427 | validation loss: 0.53206 | train accuracy: 81.356% | validation accuracy: 79.764%\n",
            "Epoch 424/500 | Train loss: 0.46535 | validation loss: 0.52963 | train accuracy: 81.341% | validation accuracy: 79.855%\n",
            "Epoch 425/500 | Train loss: 0.46395 | validation loss: 0.53001 | train accuracy: 81.296% | validation accuracy: 79.809%\n",
            "Epoch 426/500 | Train loss: 0.46432 | validation loss: 0.53148 | train accuracy: 81.387% | validation accuracy: 79.809%\n",
            "Epoch 427/500 | Train loss: 0.46512 | validation loss: 0.53490 | train accuracy: 81.326% | validation accuracy: 79.719%\n",
            "Epoch 428/500 | Train loss: 0.46495 | validation loss: 0.52988 | train accuracy: 81.326% | validation accuracy: 79.809%\n",
            "Epoch 429/500 | Train loss: 0.46516 | validation loss: 0.52978 | train accuracy: 81.311% | validation accuracy: 79.764%\n",
            "Epoch 430/500 | Train loss: 0.46670 | validation loss: 0.53675 | train accuracy: 81.28% | validation accuracy: 79.809%\n",
            "Epoch 431/500 | Train loss: 0.46446 | validation loss: 0.53303 | train accuracy: 81.356% | validation accuracy: 79.764%\n",
            "Epoch 432/500 | Train loss: 0.46516 | validation loss: 0.53181 | train accuracy: 81.22% | validation accuracy: 79.9%\n",
            "Epoch 433/500 | Train loss: 0.46524 | validation loss: 0.52971 | train accuracy: 81.235% | validation accuracy: 79.855%\n",
            "Epoch 434/500 | Train loss: 0.46449 | validation loss: 0.52974 | train accuracy: 81.28% | validation accuracy: 79.946%\n",
            "Epoch 435/500 | Train loss: 0.46479 | validation loss: 0.53034 | train accuracy: 81.371% | validation accuracy: 79.809%\n",
            "Epoch 436/500 | Train loss: 0.46490 | validation loss: 0.53075 | train accuracy: 81.28% | validation accuracy: 79.946%\n",
            "Epoch 437/500 | Train loss: 0.46388 | validation loss: 0.53081 | train accuracy: 81.341% | validation accuracy: 79.809%\n",
            "Epoch 438/500 | Train loss: 0.46462 | validation loss: 0.53255 | train accuracy: 81.326% | validation accuracy: 79.855%\n",
            "Epoch 439/500 | Train loss: 0.46408 | validation loss: 0.53012 | train accuracy: 81.356% | validation accuracy: 79.9%\n",
            "Epoch 440/500 | Train loss: 0.46446 | validation loss: 0.54084 | train accuracy: 81.371% | validation accuracy: 79.764%\n",
            "Epoch 441/500 | Train loss: 0.46314 | validation loss: 0.53682 | train accuracy: 81.341% | validation accuracy: 79.719%\n",
            "Epoch 442/500 | Train loss: 0.46469 | validation loss: 0.53155 | train accuracy: 81.387% | validation accuracy: 79.809%\n",
            "Epoch 443/500 | Train loss: 0.46433 | validation loss: 0.53571 | train accuracy: 81.356% | validation accuracy: 79.764%\n",
            "Epoch 444/500 | Train loss: 0.46407 | validation loss: 0.53250 | train accuracy: 81.387% | validation accuracy: 79.719%\n",
            "Epoch 445/500 | Train loss: 0.46439 | validation loss: 0.53132 | train accuracy: 81.387% | validation accuracy: 79.719%\n",
            "Epoch 446/500 | Train loss: 0.46341 | validation loss: 0.53239 | train accuracy: 81.417% | validation accuracy: 79.809%\n",
            "Epoch 447/500 | Train loss: 0.46451 | validation loss: 0.54142 | train accuracy: 81.371% | validation accuracy: 79.764%\n",
            "Epoch 448/500 | Train loss: 0.46502 | validation loss: 0.53141 | train accuracy: 81.371% | validation accuracy: 79.764%\n",
            "Epoch 449/500 | Train loss: 0.46449 | validation loss: 0.53074 | train accuracy: 81.371% | validation accuracy: 79.809%\n",
            "Epoch 450/500 | Train loss: 0.46440 | validation loss: 0.53142 | train accuracy: 81.356% | validation accuracy: 79.809%\n",
            "Epoch 451/500 | Train loss: 0.46383 | validation loss: 0.53211 | train accuracy: 81.402% | validation accuracy: 79.9%\n",
            "Epoch 452/500 | Train loss: 0.46423 | validation loss: 0.53615 | train accuracy: 81.326% | validation accuracy: 79.9%\n",
            "Epoch 453/500 | Train loss: 0.46504 | validation loss: 0.53093 | train accuracy: 81.25% | validation accuracy: 79.809%\n",
            "Epoch 454/500 | Train loss: 0.46513 | validation loss: 0.53133 | train accuracy: 81.387% | validation accuracy: 79.855%\n",
            "Epoch 455/500 | Train loss: 0.46359 | validation loss: 0.53125 | train accuracy: 81.387% | validation accuracy: 79.809%\n",
            "Epoch 456/500 | Train loss: 0.46506 | validation loss: 0.53243 | train accuracy: 81.311% | validation accuracy: 79.946%\n",
            "Epoch 457/500 | Train loss: 0.46369 | validation loss: 0.53253 | train accuracy: 81.371% | validation accuracy: 79.719%\n",
            "Epoch 458/500 | Train loss: 0.46584 | validation loss: 0.53265 | train accuracy: 81.311% | validation accuracy: 79.809%\n",
            "Epoch 459/500 | Train loss: 0.46425 | validation loss: 0.53204 | train accuracy: 81.417% | validation accuracy: 79.855%\n",
            "Epoch 460/500 | Train loss: 0.46463 | validation loss: 0.53474 | train accuracy: 81.326% | validation accuracy: 79.719%\n",
            "Epoch 461/500 | Train loss: 0.46384 | validation loss: 0.53178 | train accuracy: 81.447% | validation accuracy: 79.809%\n",
            "Epoch 462/500 | Train loss: 0.46453 | validation loss: 0.53670 | train accuracy: 81.356% | validation accuracy: 79.855%\n",
            "Epoch 463/500 | Train loss: 0.46405 | validation loss: 0.53586 | train accuracy: 81.402% | validation accuracy: 79.764%\n",
            "Epoch 464/500 | Train loss: 0.46372 | validation loss: 0.53320 | train accuracy: 81.432% | validation accuracy: 79.719%\n",
            "Epoch 465/500 | Train loss: 0.46483 | validation loss: 0.53185 | train accuracy: 81.296% | validation accuracy: 79.809%\n",
            "Epoch 466/500 | Train loss: 0.46483 | validation loss: 0.54131 | train accuracy: 81.296% | validation accuracy: 79.764%\n",
            "Epoch 467/500 | Train loss: 0.46489 | validation loss: 0.53218 | train accuracy: 81.432% | validation accuracy: 79.809%\n",
            "Epoch 468/500 | Train loss: 0.46393 | validation loss: 0.53397 | train accuracy: 81.432% | validation accuracy: 79.719%\n",
            "Epoch 469/500 | Train loss: 0.46231 | validation loss: 0.53294 | train accuracy: 81.387% | validation accuracy: 79.809%\n",
            "Epoch 470/500 | Train loss: 0.46245 | validation loss: 0.53363 | train accuracy: 81.296% | validation accuracy: 79.855%\n",
            "Epoch 471/500 | Train loss: 0.46435 | validation loss: 0.53584 | train accuracy: 81.296% | validation accuracy: 79.809%\n",
            "Epoch 472/500 | Train loss: 0.46376 | validation loss: 0.53424 | train accuracy: 81.265% | validation accuracy: 79.855%\n",
            "Epoch 473/500 | Train loss: 0.46404 | validation loss: 0.53794 | train accuracy: 81.387% | validation accuracy: 79.855%\n",
            "Epoch 474/500 | Train loss: 0.46475 | validation loss: 0.53280 | train accuracy: 81.326% | validation accuracy: 79.855%\n",
            "Epoch 475/500 | Train loss: 0.46470 | validation loss: 0.53273 | train accuracy: 81.326% | validation accuracy: 79.9%\n",
            "Epoch 476/500 | Train loss: 0.46444 | validation loss: 0.53250 | train accuracy: 81.341% | validation accuracy: 79.9%\n",
            "Epoch 477/500 | Train loss: 0.46405 | validation loss: 0.54431 | train accuracy: 81.25% | validation accuracy: 79.9%\n",
            "Epoch 478/500 | Train loss: 0.46438 | validation loss: 0.53448 | train accuracy: 81.387% | validation accuracy: 79.855%\n",
            "Epoch 479/500 | Train loss: 0.46429 | validation loss: 0.53577 | train accuracy: 81.356% | validation accuracy: 79.809%\n",
            "Epoch 480/500 | Train loss: 0.46564 | validation loss: 0.53948 | train accuracy: 81.265% | validation accuracy: 79.809%\n",
            "Epoch 481/500 | Train loss: 0.46456 | validation loss: 0.53382 | train accuracy: 81.356% | validation accuracy: 79.946%\n",
            "Epoch 482/500 | Train loss: 0.46378 | validation loss: 0.53532 | train accuracy: 81.402% | validation accuracy: 79.809%\n",
            "Epoch 483/500 | Train loss: 0.46406 | validation loss: 0.53707 | train accuracy: 81.356% | validation accuracy: 79.809%\n",
            "Epoch 484/500 | Train loss: 0.46418 | validation loss: 0.53539 | train accuracy: 81.341% | validation accuracy: 79.9%\n",
            "Epoch 485/500 | Train loss: 0.46402 | validation loss: 0.53342 | train accuracy: 81.371% | validation accuracy: 79.855%\n",
            "Epoch 486/500 | Train loss: 0.46339 | validation loss: 0.53301 | train accuracy: 81.371% | validation accuracy: 79.991%\n",
            "Epoch 487/500 | Train loss: 0.46355 | validation loss: 0.53380 | train accuracy: 81.432% | validation accuracy: 79.9%\n",
            "Epoch 488/500 | Train loss: 0.46445 | validation loss: 0.53417 | train accuracy: 81.341% | validation accuracy: 79.9%\n",
            "Epoch 489/500 | Train loss: 0.46455 | validation loss: 0.53525 | train accuracy: 81.311% | validation accuracy: 79.809%\n",
            "Epoch 490/500 | Train loss: 0.46433 | validation loss: 0.53630 | train accuracy: 81.311% | validation accuracy: 79.9%\n",
            "Epoch 491/500 | Train loss: 0.46372 | validation loss: 0.53341 | train accuracy: 81.402% | validation accuracy: 79.9%\n",
            "Epoch 492/500 | Train loss: 0.46394 | validation loss: 0.53933 | train accuracy: 81.387% | validation accuracy: 79.764%\n",
            "Epoch 493/500 | Train loss: 0.46390 | validation loss: 0.53340 | train accuracy: 81.311% | validation accuracy: 79.991%\n",
            "Epoch 494/500 | Train loss: 0.46444 | validation loss: 0.53491 | train accuracy: 81.356% | validation accuracy: 79.809%\n",
            "Epoch 495/500 | Train loss: 0.46315 | validation loss: 0.53595 | train accuracy: 81.478% | validation accuracy: 79.809%\n",
            "Epoch 496/500 | Train loss: 0.46252 | validation loss: 0.53350 | train accuracy: 81.402% | validation accuracy: 79.991%\n",
            "Epoch 497/500 | Train loss: 0.46335 | validation loss: 0.53592 | train accuracy: 81.326% | validation accuracy: 79.719%\n",
            "Epoch 498/500 | Train loss: 0.46440 | validation loss: 0.53371 | train accuracy: 81.371% | validation accuracy: 79.9%\n",
            "Epoch 499/500 | Train loss: 0.46340 | validation loss: 0.53918 | train accuracy: 81.462% | validation accuracy: 79.855%\n",
            "Epoch 500/500 | Train loss: 0.46413 | validation loss: 0.53458 | train accuracy: 81.387% | validation accuracy: 79.991%\n"
          ],
          "name": "stdout"
        }
      ]
    },
    {
      "cell_type": "code",
      "metadata": {
        "colab": {
          "base_uri": "https://localhost:8080/",
          "height": 265
        },
        "id": "Sdkt6Dyi6Ir1",
        "outputId": "36cb53aa-26a8-44e8-f6bc-2498182b94cd"
      },
      "source": [
        "plt.plot(train_losses, label='Training loss')\n",
        "plt.plot(validation_losses, label='Validation loss')\n",
        "plt.legend(frameon=False)\n",
        "plt.show()"
      ],
      "execution_count": null,
      "outputs": [
        {
          "output_type": "display_data",
          "data": {
            "image/png": "[encoded data removed]",
            "text/plain": [
              "<Figure size 432x288 with 1 Axes>"
            ]
          },
          "metadata": {
            "tags": [],
            "needs_background": "light"
          }
        }
      ]
    },
    {
      "cell_type": "code",
      "metadata": {
        "colab": {
          "base_uri": "https://localhost:8080/",
          "height": 265
        },
        "id": "PVu2Qee2dwXD",
        "outputId": "e3427e91-fb7e-467c-9f87-91e6e610e5d9"
      },
      "source": [
        "plt.plot(train_accuracies, label='train_accuracy')\n",
        "plt.plot(valid_accuracies, label='validation_accuracy')\n",
        "plt.legend(frameon=False)\n",
        "plt.show()"
      ],
      "execution_count": null,
      "outputs": [
        {
          "output_type": "display_data",
          "data": {
            "image/png": "[encoded data removed]",
            "text/plain": [
              "<Figure size 432x288 with 1 Axes>"
            ]
          },
          "metadata": {
            "tags": [],
            "needs_background": "light"
          }
        }
      ]
    },
    {
      "cell_type": "code",
      "metadata": {
        "colab": {
          "base_uri": "https://localhost:8080/"
        },
        "id": "LR-mOCXt6m9t",
        "outputId": "a1d4d99d-11c5-4e6a-bce7-c856cfc721b4"
      },
      "source": [
        "predictions = [] # instead of correct\n",
        "targets = [] # instead of total\n",
        "for inputs, labels in dataloader_test:\n",
        "    inputs, labels = inputs.to(device), labels.to(device)\n",
        "    preds = model.eval()(inputs.float())\n",
        "    predictions.extend(torch.argmax(preds, 1).tolist())\n",
        "    targets.extend(torch.argmax(labels, 1).tolist())\n",
        "print(classification_report(targets, predictions, labels=list(set(targets))))"
      ],
      "execution_count": null,
      "outputs": [
        {
          "output_type": "stream",
          "text": [
            "              precision    recall  f1-score   support\n",
            "\n",
            "           0       0.81      0.97      0.88      1631\n",
            "           1       0.73      0.15      0.25       286\n",
            "           2       0.79      0.57      0.67       287\n",
            "\n",
            "    accuracy                           0.81      2204\n",
            "   macro avg       0.78      0.57      0.60      2204\n",
            "weighted avg       0.80      0.81      0.77      2204\n",
            "\n"
          ],
          "name": "stdout"
        }
      ]
    },
    {
      "cell_type": "code",
      "metadata": {
        "colab": {
          "base_uri": "https://localhost:8080/",
          "height": 282
        },
        "id": "Ju7rP__r6zRK",
        "outputId": "08e13b7f-4390-4fe8-b64b-859ff24c927e"
      },
      "source": [
        "confusion_matrix_df = pd.DataFrame(confusion_matrix(targets, predictions))\n",
        "\n",
        "sns.heatmap(confusion_matrix_df, annot=True)"
      ],
      "execution_count": null,
      "outputs": [
        {
          "output_type": "execute_result",
          "data": {
            "text/plain": [
              "<matplotlib.axes._subplots.AxesSubplot at 0x7f0299591f50>"
            ]
          },
          "metadata": {
            "tags": []
          },
          "execution_count": 27
        },
        {
          "output_type": "display_data",
          "data": {
            "image/png": "[encoded data removed]",
            "text/plain": [
              "<Figure size 432x288 with 2 Axes>"
            ]
          },
          "metadata": {
            "tags": [],
            "needs_background": "light"
          }
        }
      ]
    },
    {
      "cell_type": "code",
      "metadata": {
        "colab": {
          "base_uri": "https://localhost:8080/"
        },
        "id": "v8werw0LWlcb",
        "outputId": "0d7c84ad-4ecc-43d1-d438-4eea315da828"
      },
      "source": [
        "model_test =torch.load(\"/content/drive/MyDrive/d3_data/model.pth\")\n",
        "model_test.eval()\n"
      ],
      "execution_count": null,
      "outputs": [
        {
          "output_type": "execute_result",
          "data": {
            "text/plain": [
              "mlp_classifier(\n",
              "  (layers): Sequential(\n",
              "    (0): Sequential(\n",
              "      (0): Linear(in_features=685, out_features=16, bias=True)\n",
              "      (1): LeakyReLU(negative_slope=True)\n",
              "    )\n",
              "    (1): Sequential(\n",
              "      (0): Linear(in_features=16, out_features=16, bias=True)\n",
              "      (1): LeakyReLU(negative_slope=True)\n",
              "    )\n",
              "    (2): Sequential(\n",
              "      (0): Linear(in_features=16, out_features=17, bias=True)\n",
              "    )\n",
              "  )\n",
              ")"
            ]
          },
          "metadata": {
            "tags": []
          },
          "execution_count": 19
        }
      ]
    },
    {
      "cell_type": "code",
      "metadata": {
        "id": "AkyP6RvxXDbI"
      },
      "source": [
        "dataiter = iter(dataloader_test)\n",
        "sequences, labels = dataiter.next()"
      ],
      "execution_count": null,
      "outputs": []
    },
    {
      "cell_type": "code",
      "metadata": {
        "id": "epP3Bb9dh2Cr"
      },
      "source": [
        "_, predicted = torch.max(outputs, 1)\n",
        "\n",
        "print('Predicted: ', ' '.join('%5s' % classes[predicted[j]]\n",
        "                              for j in range(17)))"
      ],
      "execution_count": null,
      "outputs": []
    },
    {
      "cell_type": "code",
      "metadata": {
        "id": "Q7GjVGOSh_JU"
      },
      "source": [
        "correct = 0\n",
        "total = 0\n",
        "with torch.no_grad():\n",
        "    for data in testloader:\n",
        "        images, labels = data\n",
        "        outputs = net(images)\n",
        "        _, predicted = torch.max(outputs.data, 1)\n",
        "        total += labels.size(0)\n",
        "        correct += (predicted == labels).sum().item()\n",
        "\n",
        "print('Accuracy of the network on the 10000 test images: %d %%' % (\n",
        "    100 * correct / total))"
      ],
      "execution_count": null,
      "outputs": []
    },
    {
      "cell_type": "markdown",
      "metadata": {
        "id": "np8Vjdo01ovT"
      },
      "source": [
        "## Ignore all below, old code!"
      ]
    },
    {
      "cell_type": "code",
      "metadata": {
        "id": "YLuI4dOc1ovT"
      },
      "source": [
        "nb_epochs = args.nb_epochs\n",
        "def train(epoch):\n",
        "    n = 0\n",
        "    for epoch in range(nb_epochs):\n",
        "        for seqs, labels in iter(dataloader_train):\n",
        "            print(\"step 1\")\n",
        "            zs = model(seqs.float())\n",
        "            print(\"completed  model\")\n",
        "            loss = criterion(zs, labels) # computes total loss\n",
        "            print(\"computed loss\")\n",
        "            loss.backward() # compute updates for each parameter\n",
        "            print(\"updated\")\n",
        "            optimizer.step() # make the updates for each param.\n",
        "            optimizer.zero_grad() # clean up step \n",
        "            print(epoch)\n",
        "        \n",
        "            n += 1 \n",
        "    \n",
        "    return model"
      ],
      "execution_count": null,
      "outputs": []
    },
    {
      "cell_type": "code",
      "metadata": {
        "id": "gBIW1JUD1ovU"
      },
      "source": [
        "test = train(10)"
      ],
      "execution_count": null,
      "outputs": []
    },
    {
      "cell_type": "code",
      "metadata": {
        "id": "oJvvCVNI1ovV"
      },
      "source": [
        "seqs, labels = next(iter(dataloader_train))"
      ],
      "execution_count": null,
      "outputs": []
    },
    {
      "cell_type": "code",
      "metadata": {
        "id": "JSVZsO7l1ovV"
      },
      "source": [
        "print(seqs.shape)\n",
        "print(labels.shape)"
      ],
      "execution_count": null,
      "outputs": []
    },
    {
      "cell_type": "markdown",
      "metadata": {
        "id": "I0SU3PbV1ovW"
      },
      "source": [
        "## Disregard the code under (old stuff):"
      ]
    },
    {
      "cell_type": "code",
      "metadata": {
        "id": "wEIZzSVs1ovW"
      },
      "source": [
        "seqs, labels = next(iter(dataloader_train))"
      ],
      "execution_count": null,
      "outputs": []
    },
    {
      "cell_type": "code",
      "metadata": {
        "id": "paKkLZbH1ovW"
      },
      "source": [
        "print(labels.shape)"
      ],
      "execution_count": null,
      "outputs": []
    },
    {
      "cell_type": "code",
      "metadata": {
        "id": "xSxPO6w51ovX"
      },
      "source": [
        "class Generator(nn.Module):\n",
        "    def __init__(self, z_dim=685, im_dim=685, hidden_dim=128):\n",
        "        super(Generator, self).__init__()\n",
        "        # Build the neural network\n",
        "        self.gen = nn.Sequential(\n",
        "            get_generator_block(z_dim, hidden_dim),\n",
        "            get_generator_block(hidden_dim, hidden_dim * 2),\n",
        "            get_generator_block(hidden_dim * 2, hidden_dim * 4),\n",
        "            get_generator_block(hidden_dim * 4, hidden_dim * 8),\n",
        "            nn.Linear(hidden_dim * 8, im_dim),\n",
        "            nn.Sigmoid()\n",
        "        )\n",
        "    def forward(self, noise):\n",
        "        return self.gen(noise)\n",
        "    \n",
        "class Discriminator(nn.Module):\n",
        "    def __init__(self, im_dim=685, hidden_dim=128):\n",
        "        super(Discriminator, self).__init__()\n",
        "        self.disc = nn.Sequential(\n",
        "            get_discriminator_block(im_dim, hidden_dim * 4),\n",
        "            get_discriminator_block(hidden_dim * 4, hidden_dim * 2),\n",
        "            get_discriminator_block(hidden_dim * 2, hidden_dim),\n",
        "            nn.Linear(hidden_dim, 1)\n",
        "        )\n",
        "\n",
        "    def forward(self, image):\n",
        "        return self.disc(image)\n",
        "    "
      ],
      "execution_count": null,
      "outputs": []
    },
    {
      "cell_type": "code",
      "metadata": {
        "id": "KVUlszNC1ovX"
      },
      "source": [
        "gen = Generator(z_dim).to(device)\n",
        "gen_opt = torch.optim.Adam(gen.parameters(), lr=args.learning_rate)\n",
        "disc = Discriminator().to(device) \n",
        "disc_opt = torch.optim.Adam(disc.parameters(), lr=args.learning_rate)"
      ],
      "execution_count": null,
      "outputs": []
    },
    {
      "cell_type": "code",
      "metadata": {
        "id": "8ChtGp4y1ovX"
      },
      "source": [
        "cur_step = 0\n",
        "mean_generator_loss = 0\n",
        "mean_discriminator_loss = 0\n",
        "test_generator = True # Whether the generator should be tested\n",
        "gen_loss = False\n",
        "for epoch in range(args.nb_epochs):\n",
        "  \n",
        "    # Dataloader returns the batches\n",
        "    for real in dataloader_train:\n",
        "        cur_batch_size = len(real)\n",
        "        print(real.shape)\n",
        "\n",
        "        # Flatten the batch of real images from the dataset\n",
        "        real = real.view(cur_batch_size, -1).to(device)\n",
        "\n",
        "        # Zero out the gradients before backpropagation\n",
        "        disc_opt.zero_grad()\n",
        "\n",
        "        # Calculate discriminator loss\n",
        "        disc_loss = get_disc_loss(gen, disc, criterion, real, cur_batch_size, z_dim, device)\n",
        "\n",
        "        # Update gradients\n",
        "        disc_loss.backward(retain_graph=True)\n",
        "\n",
        "        # Update optimizer\n",
        "        disc_opt.step()\n",
        "\n",
        "        # For testing purposes, to keep track of the generator weights\n",
        "        if test_generator:\n",
        "            old_generator_weights = gen.gen[0][0].weight.detach().clone()\n",
        "\n",
        "        gen_opt.zero_grad()\n",
        "        gen_loss = get_gen_loss(gen, disc, criterion, cur_batch_size, z_dim, device)\n",
        "        gen_loss.backward()\n",
        "        gen_opt.step()\n",
        "        # For testing purposes, to check that your code changes the generator weights\n",
        "        if test_generator:\n",
        "            assert torch.any(gen.gen[0][0].weight.detach().clone() != old_generator_weights)\n",
        "\n",
        "        # Keep track of the average discriminator loss\n",
        "        mean_discriminator_loss += disc_loss.item() / display_step\n",
        "\n",
        "        # Keep track of the average generator loss\n",
        "        mean_generator_loss += gen_loss.item() / display_step\n",
        "        \n",
        "        print(epoch)\n",
        "        \n",
        "        ### Visualization code ###\n",
        "        if cur_step % display_step == 0 and cur_step > 0:\n",
        "            print(f\"Step {cur_step}: Generator loss: {mean_generator_loss}, discriminator loss: {mean_discriminator_loss}\")\n",
        "            fake_noise = get_noise(cur_batch_size, z_dim, device=device)\n",
        "            fake = gen(fake_noise)\n",
        "            show_tensor_images(fake)\n",
        "            show_tensor_images(real)\n",
        "            mean_generator_loss = 0\n",
        "            mean_discriminator_loss = 0\n",
        "        cur_step += 1"
      ],
      "execution_count": null,
      "outputs": []
    },
    {
      "cell_type": "code",
      "metadata": {
        "id": "T8ukefS21ovY"
      },
      "source": [
        "print(args.nb_epochs)"
      ],
      "execution_count": null,
      "outputs": []
    },
    {
      "cell_type": "code",
      "metadata": {
        "id": "jRK1YFHA1ovY"
      },
      "source": [
        "class mlp_generator(nn.Module):\n",
        "    \"\"\" Multi-Layer Perceptron for generating sequences.\n",
        "\n",
        "    Parameters:\n",
        "        inputs (tensor):Batch of noises inputed to the network.\n",
        "        dim (int):Generator dimension parameter (in each middle layer).\n",
        "        input_size (int):Size of latent space (i.e., the first layer dimension).\n",
        "        output_size (int):Size of the last layer (=max_seq_len*vocab_size).\n",
        "        num_layers (int):How many middle or hidden layers for generator.\n",
        "\n",
        "    Returns:\n",
        "        outputs (tensor):Batch of lists of values (each `vocab_size` interval represents one nucleotide).   \n",
        "\n",
        "    \"\"\"\n",
        "    def __init__(self, dim=200, input_size=100, output_size=10, num_layers=4):\n",
        "        super(mlp_generator, self).__init__()\n",
        "\n",
        "        num_layers = num_layers + 2  # add 2 for the 1st and the last layers\n",
        "        modules = []\n",
        "        for layer in range(num_layers): \n",
        "            in_size = input_size if layer == 0 else dim\n",
        "            out_size = output_size if layer == num_layers - 1 else dim\n",
        "            if layer < num_layers - 1:\n",
        "                modules.append(\n",
        "                    nn.Sequential(\n",
        "                        nn.Linear(in_size, out_size),\n",
        "                        nn.ReLU(True),\n",
        "                    )\n",
        "                )\n",
        "            else:\n",
        "                modules.append(\n",
        "                    nn.Sequential(\n",
        "                        nn.Linear(in_size, out_size),\n",
        "                        nn.Sigmoid()\n",
        "                    )\n",
        "                )\n",
        "        self.layers = nn.Sequential(*modules)\n",
        "        \n",
        "    def forward(self, x):\n",
        "        x = x.view(x.size(0), -1)\n",
        "        x = self.layers(x)\n",
        "        return x\n",
        "\n",
        "\n",
        "class mlp_discriminator(nn.Module):\n",
        "    \"\"\" Multi-Layer Perceptron for discriminating real vs generated sequences.\n",
        "\n",
        "    Parameters:\n",
        "        inputs (tensor):Tensor of size (batch_size, vocab_size*max_seq_len) containing real or generated sequences.\n",
        "        dim (int):Discriminator dimension parameter (in each middle layer).\n",
        "        input_size (int):Size of the first layer (vocab_size*max_seq_len).\n",
        "        num_layers (int):How many middle or hidden layers for discriminator.\n",
        "\n",
        "    Returns:\n",
        "        outputs (tensor):Batch of (single) values for real or generated inputs.   \n",
        "\n",
        "    \"\"\"\n",
        "    def __init__(self, dim, input_size, num_layers=4):\n",
        "        super(mlp_discriminator, self).__init__()\n",
        "        \n",
        "        num_layers = num_layers + 2  # add 2 for the 1st and the last layers\n",
        "        modules = []\n",
        "        for layer in range(num_layers):\n",
        "            in_size = input_size if layer == 0 else dim\n",
        "            out_size = 1 if layer == num_layers - 1 else dim\n",
        "            if layer < num_layers - 1:\n",
        "                modules.append(\n",
        "                    nn.Sequential(\n",
        "                        nn.Linear(in_size, out_size),\n",
        "                        nn.LeakyReLU(0.2, inplace=True),\n",
        "                    )\n",
        "                )\n",
        "            else:\n",
        "                modules.append(\n",
        "                    nn.Sequential(\n",
        "                        nn.Linear(in_size, out_size),\n",
        "                    )\n",
        "                )\n",
        "        self.layers = nn.Sequential(*modules)\n",
        "        \n",
        "    def forward(self, inputs):\n",
        "        inputs = inputs.view(inputs.size(0), -1)\n",
        "        outputs = self.layers(inputs)\n",
        "        return outputs\n"
      ],
      "execution_count": null,
      "outputs": []
    },
    {
      "cell_type": "code",
      "metadata": {
        "id": "SV-C_UPn1ovZ"
      },
      "source": [
        "# instantiate models\n",
        "if args.model_type==\"mlp\":\n",
        "    netG = mlp_generator(args.gen_dim, args.latent_dim, args.max_seq_len*vocab_size, args.gen_layers).to(device)\n",
        "    netD = mlp_discriminator(args.disc_dim, args.max_seq_len*vocab_size, args.disc_layers).to(device)\n",
        "elif args.model_type==\"resnet1d\":\n",
        "    netG = resnet_generator_1d(args.gen_dim, args.latent_dim, vocab_size, args.max_seq_len, args.gen_layers).to(device)\n",
        "    netD = resnet_discriminator_1d(args.disc_dim, vocab_size, args.max_seq_len, args.disc_layers).to(device)\n",
        "elif args.model_type==\"resnet2d\":\n",
        "    netG = resnet_generator_2d(args.gen_dim, args.latent_dim, vocab_size, args.max_seq_len, args.gen_layers).to(device)\n",
        "    netD = resnet_discriminator_2d(args.disc_dim, vocab_size, args.max_seq_len, args.disc_layers).to(device)\n",
        "\n",
        "print(\"{}\\nGenerator Network Architecture:\\n{}\\n{}\\n\".format(\"=\"*31, \"~\"*31, netG))\n",
        "print(\"{}\\nDiscriminator Network Architecture:\\n{}\\n{}\\n\".format(\"=\"*35, \"~\"*35, netD))\n",
        "\n",
        "# cost function (for discriminator prediction)\n",
        "criterion = nn.BCEWithLogitsLoss()\n",
        "\n",
        "# setup optimizer\n",
        "optimizerG = optim.Adam(list(netG.parameters()), lr=args.learning_rate, betas=(args.beta1, 0.999))\n",
        "optimizerD = optim.Adam(list(netD.parameters()), lr=args.learning_rate, betas=(args.beta1, 0.999))\n",
        "\n",
        "# use an exponentially decaying learning rate\n",
        "schedulerG = optim.lr_scheduler.ExponentialLR(optimizerG, gamma=0.99)\n",
        "schedulerD= optim.lr_scheduler.ExponentialLR(optimizerD, gamma=0.99)"
      ],
      "execution_count": null,
      "outputs": []
    }
  ]
}