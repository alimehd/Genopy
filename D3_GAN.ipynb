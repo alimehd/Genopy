{
  "nbformat": 4,
  "nbformat_minor": 0,
  "metadata": {
    "kernelspec": {
      "display_name": "Python 3",
      "language": "python",
      "name": "python3"
    },
    "language_info": {
      "codemirror_mode": {
        "name": "ipython",
        "version": 3
      },
      "file_extension": ".py",
      "mimetype": "text/x-python",
      "name": "python",
      "nbconvert_exporter": "python",
      "pygments_lexer": "ipython3",
      "version": "3.8.5"
    },
    "colab": {
      "name": "D3 GAN.ipynb",
      "provenance": [],
      "collapsed_sections": [
        "np8Vjdo01ovT",
        "I0SU3PbV1ovW"
      ],
      "toc_visible": true
    }
  },
  "cells": [
    {
      "cell_type": "code",
      "metadata": {
        "colab": {
          "base_uri": "https://localhost:8080/"
        },
        "id": "lFjyQ_rU2FpG",
        "outputId": "d69d8cfa-c95b-41b5-dc56-8555a6e22a94"
      },
      "source": [
        "from google.colab import drive\n",
        "drive.mount('/content/drive')"
      ],
      "execution_count": null,
      "outputs": [
        {
          "output_type": "stream",
          "text": [
            "Drive already mounted at /content/drive; to attempt to forcibly remount, call drive.mount(\"/content/drive\", force_remount=True).\n"
          ],
          "name": "stdout"
        }
      ]
    },
    {
      "cell_type": "code",
      "metadata": {
        "id": "PYUwtBMH1ou0"
      },
      "source": [
        "import os\n",
        "from os import path\n",
        "import numpy as np\n",
        "import torch\n",
        "import torch.nn as nn\n",
        "import torch.optim as optim\n",
        "import torch.autograd as autograd\n",
        "from torch.autograd import Variable\n",
        "from torch.utils.data import Dataset, DataLoader\n",
        "from torchvision import datasets, transforms, models\n",
        "import datetime\n",
        "import socket\n",
        "import random\n",
        "import easydict\n",
        "from pytz import timezone\n",
        "import operator\n",
        "import pandas as pd\n",
        "\n",
        "import matplotlib\n",
        "matplotlib.use('Agg')\n",
        "import matplotlib.pyplot as plt\n",
        "from IPython.display import Image\n",
        "\n",
        "import seaborn as sns\n",
        "from tqdm.notebook import tqdm\n",
        "import matplotlib.pyplot as plt\n",
        "from sklearn import preprocessing\n",
        "from sklearn.preprocessing import MinMaxScaler    \n",
        "from sklearn.model_selection import train_test_split\n",
        "from sklearn.metrics import confusion_matrix, classification_report\n",
        "\n",
        "%matplotlib inline\n"
      ],
      "execution_count": null,
      "outputs": []
    },
    {
      "cell_type": "code",
      "metadata": {
        "id": "WUC9LOxQ1ovA"
      },
      "source": [
        "tz = timezone('US/Eastern')\n",
        "\n",
        "path = \"/content/drive/MyDrive/d3_data/\" # data directory\n",
        "\n",
        "# train data\n",
        "train_wo_file = \"train_without_missing.txt\"\n",
        "train_w_file = \"train_with_missing.txt\"\n",
        "train_meta = \"train.meta\"\n",
        "\n",
        "# validation data\n",
        "validation_wo_file = \"validation_without_missing.txt\"\n",
        "validation_w_file = \"validation_with_missing.txt\"\n",
        "validation_meta = \"validation.meta\"\n",
        "\n",
        "# test data\n",
        "test_wo_file = \"test_without_missing.txt\"\n",
        "test_w_file = \"test_with_missing.txt\"\n",
        "test_meta = \"test.meta\"\n",
        "\n",
        "# checkpoint_epoch = 10\n",
        "checkpoint = None\n",
        "\n",
        "args = easydict.EasyDict({\n",
        "    \"log_name\": \"imputation_model\",\n",
        "    \"model_type\": \"mlp\",\n",
        "    \"nb_epochs\":500,\n",
        "    \"bottleneck_dim\":1024,\n",
        "    \"encoder_dim\":6,\n",
        "    \"dencoder_dim\":6,\n",
        "    \"encoder_dim\":0,\n",
        "    \"dencoder_dim\":0,\n",
        "    \"batch_size\":64,\n",
        "    \"seq_len\":137,\n",
        "    \"learning_rate\":0.0001,\n",
        "    \"betal\":0.5,\n",
        "    \"seed\":1,\n",
        "    \"missing_char\":\".\",\n",
        "    \"resnet_mix\":0.5,\n",
        "    \"optimizer\":\"adam\",\n",
        "    \"haplotype_cutoff\":1.0,\n",
        "    \"filter_size\":7,\n",
        "    \"with_region_metadata\":True,\n",
        "    \"continent\": False,\n",
        "    \"save_model\": True,\n",
        "    \"vocab\": \"dna\",\n",
        "    \"log_dir\": \"log/\",\n",
        "    \"annotate\": False,\n",
        "    \"latent_dim\":64,\n",
        "    \"gan_loss\":\"vanilla\",\n",
        "    \"adapt_lr_iters\": 100,\n",
        "    \"gen_dim\": 16,\n",
        "    \"disc_dim\": 16,\n",
        "    \"gen_layers\":1,\n",
        "    \"disc_layers\": 1,\n",
        "    \"beta1\": 0.5,\n",
        "    \"lmbda\": 10,\n",
        "    \"save_embedded_haplotypes\": True,\n",
        "    \"vocab_order\": None,\n",
        "    \"train_iters\": 8000,\n",
        "    \"disc_iters\":1,\n",
        "    \"checkpoint_iters\": 250,\n",
        "    \"vocab_size\": 5,\n",
        "    \"train\": True\n",
        "})\n",
        "\n",
        "os.environ[\"CUDA_VISIBLE_DEVICES\"]=\"0\"\n",
        "device = torch.device(\"cuda\" if torch.cuda.is_available() else \"cpu\")\n",
        "\n",
        "seed = args.seed\n",
        "torch.backends.cudnn.deterministic = True\n",
        "torch.manual_seed(seed)\n",
        "np.random.seed(seed)\n",
        "random.seed(seed)\n",
        "\n",
        "charmap = {\"A\":0, \"C\":1, \"G\":2, \"T\":3, args.missing_char:4}\n",
        "charmap_rev = {0:\"A\", 1:\"C\", 2:\"G\", 3:\"T\"}\n",
        "\n",
        "dna_vocab = {\"A\":0,\n",
        "             \"C\":1,\n",
        "             \"G\":2,\n",
        "             \"T\":3,\n",
        "             \".\":4}\n",
        "\n",
        "vocab_size = len(charmap)\n",
        "\n",
        "\n",
        "\n"
      ],
      "execution_count": null,
      "outputs": []
    },
    {
      "cell_type": "markdown",
      "metadata": {
        "id": "tNumWwCp1ovC"
      },
      "source": [
        "Collect metadata info"
      ]
    },
    {
      "cell_type": "code",
      "metadata": {
        "id": "g2eJBMnZ1ovC"
      },
      "source": [
        "df_train = pd.read_csv(path + train_meta, sep = '\\t',header=None)\n",
        "df_validation = pd.read_csv(path +validation_meta, sep='\\t', header=None)\n",
        "df_test = pd.read_csv(path+ test_meta, sep='\\t', header=None)"
      ],
      "execution_count": null,
      "outputs": []
    },
    {
      "cell_type": "code",
      "metadata": {
        "id": "JfVZS4nr1ovD"
      },
      "source": [
        "df_train=df_train.fillna(\"NaN\")\n",
        "df_validation=df_validation.fillna(\"NaN\")\n",
        "df_test=df_test.fillna(\"NaN\")"
      ],
      "execution_count": null,
      "outputs": []
    },
    {
      "cell_type": "code",
      "metadata": {
        "colab": {
          "base_uri": "https://localhost:8080/",
          "height": 204
        },
        "id": "RsNHyEC-YBXQ",
        "outputId": "0e9d647e-2a7b-4905-8c81-8049b6dbde1b"
      },
      "source": [
        "df_validation.head()"
      ],
      "execution_count": null,
      "outputs": [
        {
          "output_type": "execute_result",
          "data": {
            "text/html": [
              "<div>\n",
              "<style scoped>\n",
              "    .dataframe tbody tr th:only-of-type {\n",
              "        vertical-align: middle;\n",
              "    }\n",
              "\n",
              "    .dataframe tbody tr th {\n",
              "        vertical-align: top;\n",
              "    }\n",
              "\n",
              "    .dataframe thead th {\n",
              "        text-align: right;\n",
              "    }\n",
              "</style>\n",
              "<table border=\"1\" class=\"dataframe\">\n",
              "  <thead>\n",
              "    <tr style=\"text-align: right;\">\n",
              "      <th></th>\n",
              "      <th>0</th>\n",
              "      <th>1</th>\n",
              "      <th>2</th>\n",
              "    </tr>\n",
              "  </thead>\n",
              "  <tbody>\n",
              "    <tr>\n",
              "      <th>0</th>\n",
              "      <td>SRR11578295</td>\n",
              "      <td>Oceania</td>\n",
              "      <td>Australia</td>\n",
              "    </tr>\n",
              "    <tr>\n",
              "      <th>1</th>\n",
              "      <td>SRR12188714</td>\n",
              "      <td>North America</td>\n",
              "      <td>USA</td>\n",
              "    </tr>\n",
              "    <tr>\n",
              "      <th>2</th>\n",
              "      <td>ERR4238223</td>\n",
              "      <td>Europe</td>\n",
              "      <td>United Kingdom</td>\n",
              "    </tr>\n",
              "    <tr>\n",
              "      <th>3</th>\n",
              "      <td>ERR4305391</td>\n",
              "      <td>Europe</td>\n",
              "      <td>United Kingdom</td>\n",
              "    </tr>\n",
              "    <tr>\n",
              "      <th>4</th>\n",
              "      <td>ERR4306402</td>\n",
              "      <td>Europe</td>\n",
              "      <td>United Kingdom</td>\n",
              "    </tr>\n",
              "  </tbody>\n",
              "</table>\n",
              "</div>"
            ],
            "text/plain": [
              "             0              1               2\n",
              "0  SRR11578295        Oceania       Australia\n",
              "1  SRR12188714  North America             USA\n",
              "2   ERR4238223         Europe  United Kingdom\n",
              "3   ERR4305391         Europe  United Kingdom\n",
              "4   ERR4306402         Europe  United Kingdom"
            ]
          },
          "metadata": {
            "tags": []
          },
          "execution_count": 6
        }
      ]
    },
    {
      "cell_type": "code",
      "metadata": {
        "colab": {
          "base_uri": "https://localhost:8080/"
        },
        "id": "1rijN1iphV4s",
        "outputId": "03142b68-7fc8-4ef3-f336-bfed60cac84d"
      },
      "source": [
        "df_train[1].value_counts()"
      ],
      "execution_count": null,
      "outputs": [
        {
          "output_type": "execute_result",
          "data": {
            "text/plain": [
              "Europe           4798\n",
              "Oceania           915\n",
              "North America     898\n",
              "Name: 1, dtype: int64"
            ]
          },
          "metadata": {
            "tags": []
          },
          "execution_count": 7
        }
      ]
    },
    {
      "cell_type": "code",
      "metadata": {
        "colab": {
          "base_uri": "https://localhost:8080/"
        },
        "id": "n8_g10_uhcs3",
        "outputId": "b4d2cc2e-99dc-483d-dab6-1e16cc79a8f6"
      },
      "source": [
        "df_validation[1].value_counts()"
      ],
      "execution_count": null,
      "outputs": [
        {
          "output_type": "execute_result",
          "data": {
            "text/plain": [
              "Europe           1592\n",
              "Oceania           319\n",
              "North America     293\n",
              "Name: 1, dtype: int64"
            ]
          },
          "metadata": {
            "tags": []
          },
          "execution_count": 8
        }
      ]
    },
    {
      "cell_type": "code",
      "metadata": {
        "colab": {
          "base_uri": "https://localhost:8080/"
        },
        "id": "qfOS7VcbhdNq",
        "outputId": "067da9a4-49a2-459d-dd66-f4d38bf63ee7"
      },
      "source": [
        "df_test[1].value_counts()"
      ],
      "execution_count": null,
      "outputs": [
        {
          "output_type": "execute_result",
          "data": {
            "text/plain": [
              "Europe           1631\n",
              "Oceania           287\n",
              "North America     286\n",
              "Name: 1, dtype: int64"
            ]
          },
          "metadata": {
            "tags": []
          },
          "execution_count": 9
        }
      ]
    },
    {
      "cell_type": "code",
      "metadata": {
        "colab": {
          "base_uri": "https://localhost:8080/"
        },
        "id": "bGfVxx6s1ovE",
        "outputId": "ad51c9a3-e245-40f4-de9c-6eb05690d15a"
      },
      "source": [
        "countries = {region:i for i, region in enumerate(sorted(set(df_train[1])|set(df_validation[1])|set(df_test[1])))}\n",
        "countries['NaN'] = len(countries) \n",
        "print(countries)"
      ],
      "execution_count": null,
      "outputs": [
        {
          "output_type": "stream",
          "text": [
            "{'Europe': 0, 'North America': 1, 'Oceania': 2, 'NaN': 3}\n"
          ],
          "name": "stdout"
        }
      ]
    },
    {
      "cell_type": "code",
      "metadata": {
        "id": "PsQzRHIY1ovG"
      },
      "source": [
        "if args.continent:\n",
        "    meta_region = continents\n",
        "else:\n",
        "    meta_region = countries"
      ],
      "execution_count": null,
      "outputs": []
    },
    {
      "cell_type": "code",
      "metadata": {
        "id": "zw4VsTQP1ovG"
      },
      "source": [
        "def charmap_to_onehots(chars, charmap, model_type=\"resnet2d\"):\n",
        "    onehots = np.int_(np.zeros([len(chars),len(charmap)]))\n",
        "    I = np.eye(len(charmap))\n",
        "    for i, char in enumerate(chars):\n",
        "        onehots[i] = I[charmap[char]]\n",
        "        \n",
        "    if model_type == \"mlp\":\n",
        "        onehots = np.reshape(onehots, [-1])\n",
        "    if model_type == \"resnet1d\" or model_type == \"resnet2d\":\n",
        "        onehots = onehots.T\n",
        "    return onehots\n",
        "\n",
        "def metadata_to_one_hot(data, nb_classes, model_type = \"resnet2d\"):\n",
        "    targets = np.array(data).reshape(-1)\n",
        "    return np.eye(nb_classes)[targets].astype(int)[0]\n",
        "\n",
        "def listToDict(lst):\n",
        "    op = {lst[i].strip(): lst[i+1].strip() for i in range(0,len(lst), 2)}\n",
        "    return op\n",
        "        \n",
        "def get_vocab(vocab_name, vocab_order=None):\n",
        "    if vocab_name==\"dna\":\n",
        "        charmap = dna_vocab\n",
        "    elif vocab_name==\"rna\":\n",
        "        charmap = rna_vocab\n",
        "    elif vocab_name==\"dna_nt_only\":\n",
        "        charmap = dna_nt_only_vocab\n",
        "    elif vocab_name==\"rna_nt_only\":\n",
        "        charmap = rna_nt_only_vocab\n",
        "    else:\n",
        "        raise Exception(\"Unknown vocabulary name.\")\n",
        "\n",
        "    if vocab_order:\n",
        "        if set(vocab_order) != set(charmap):\n",
        "            raise ValueError(\"Provided `vocab` and `vocab_order` arguments are not compatible\")\n",
        "        else:\n",
        "            charmap = {c: idx for idx, c in enumerate(vocab_order)}\n",
        "\n",
        "    rev_charmap = {v: k for k, v in charmap.items()}\n",
        "    return charmap, rev_charmap\n",
        "\n",
        "# for GANs\n",
        "\n",
        "def get_generator_block(input_dim, output_dim):\n",
        "    return nn.Sequential(\n",
        "        nn.Linear(input_dim, output_dim),\n",
        "        nn.BatchNorm1d(output_dim),\n",
        "        nn.ReLU(inplace=True)\n",
        "    )\n",
        "\n",
        "def get_noise(n_samples, z_dim, device='cpu'):\n",
        "    return torch.randn(n_samples, z_dim, device=device)\n",
        "\n",
        "def z_sampler(batch_size, latent_dim):\n",
        "    \"\"\"Function to provide noise that will be fed to the generator\"\"\"\n",
        "    return Variable(torch.randn(batch_size, latent_dim)).to(device)\n",
        "\n",
        "\n",
        "def get_discriminator_block(input_dim, output_dim):\n",
        "    return nn.Sequential(\n",
        "        nn.Linear(input_dim, output_dim),\n",
        "        nn.LeakyReLU(0.2, inplace=True)\n",
        "    )\n",
        "\n",
        "def get_disc_loss(gen, disc, criterion, real, num_images, z_dim, device):\n",
        "    fake_noise = get_noise(num_images, z_dim, device=device)\n",
        "    fake = gen(fake_noise)\n",
        "    disc_fake_pred = disc(fake.detach())\n",
        "    disc_fake_loss = criterion(disc_fake_pred, torch.zeros_like(disc_fake_pred))\n",
        "    disc_real_pred = disc(real)\n",
        "    disc_real_loss = criterion(disc_real_pred, torch.ones_like(disc_real_pred))\n",
        "    disc_loss = (disc_fake_loss + disc_real_loss) / 2\n",
        "    return disc_loss\n",
        "\n",
        "def get_gen_loss(gen, disc, criterion, num_images, z_dim, device):\n",
        "    fake_noise = get_noise(num_images, z_dim, device=device)\n",
        "    fake = gen(fake_noise)\n",
        "    disc_fake_pred = disc(fake)\n",
        "    gen_loss = criterion(disc_fake_pred, torch.ones_like(disc_fake_pred))\n",
        "    return gen_loss\n",
        "\n",
        "def ones_or_zeros_like(tensor, disc_exp):\n",
        "    if disc_exp==\"real\":\n",
        "        return Variable(torch.FloatTensor(tensor.size()).fill_(1.), requires_grad=False).to(device)\n",
        "    elif disc_exp==\"fake\":\n",
        "        return Variable(torch.FloatTensor(tensor.size()).fill_(0.), requires_grad=False).to(device)\n",
        "\n",
        "def log(args, samples_dir=False):\n",
        "    \"\"\"Create logging directory structure according to args.\"\"\"\n",
        "    if hasattr(args, \"checkpoint\") and args.checkpoint:\n",
        "        return _log_from_checkpoint(args)\n",
        "    else:\n",
        "        stamp = datetime.date.strftime(datetime.datetime.now(), \"%Y.%m.%d-%Hh%Mm%Ss\") + \"_{}\".format(socket.gethostname())\n",
        "        full_logdir = os.path.join(args.log_dir, args.log_name, stamp)\n",
        "        os.makedirs(full_logdir, exist_ok=True)\n",
        "        if samples_dir: os.makedirs(os.path.join(full_logdir, \"samples\"), exist_ok=True)\n",
        "        args.log_dir = \"{}:{}\".format(socket.gethostname(), full_logdir)\n",
        "        _log_args(full_logdir, args)\n",
        "    return full_logdir, 0\n",
        "\n",
        "def _log_from_checkpoint(args):\n",
        "    \"\"\"Infer logging directory from checkpoint file.\"\"\"\n",
        "    int_dir, checkpoint_name = os.path.split(args.checkpoint)\n",
        "    logdir = os.path.dirname(int_dir)\n",
        "    checkpoint_num = int(checkpoint_name.split('_')[1])\n",
        "    _log_args(logdir, args, modified_iter=checkpoint_num)\n",
        "    return logdir, checkpoint_num\n",
        "\n",
        "def _log_args(logdir, args, modified_iter=0):\n",
        "    \"\"\"Write log of current arguments to text.\"\"\"\n",
        "    keys = sorted(arg for arg in dir(args) if not arg.startswith(\"_\"))\n",
        "    args_dict = {key: getattr(args, key) for key in keys}\n",
        "    with open(os.path.join(logdir, \"config.txt\"), \"a\") as f:\n",
        "        f.write(\"Values at iteration {}\\n\".format(modified_iter))\n",
        "        for k in keys:\n",
        "            s = \": \".join([k,str(args_dict[k])]) + \"\\n\"\n",
        "            f.write(s)\n",
        "        vocab_order = args.vocab_order if hasattr(args, \"vocab_order\") else None\n",
        "        charmap, _ = get_vocab(args.vocab, vocab_order)\n",
        "        charmap_strs = []\n",
        "        for k,v in charmap.items():\n",
        "            charmap_strs.append(\"'{}':{}\".format(k,v))\n",
        "        f.write(\"charmap: \" + \", \".join(charmap_strs))\n",
        "        f.write(\"\\n\")\n",
        "\n",
        "def log_training_results(logdir, train_iters, true_count, train_scores_mean, valid_scores_mean, \n",
        "                         current_iteration_elapsed, online_print=True):\n",
        "    \"\"\"Write log of the results to text.\"\"\"\n",
        "\n",
        "    res_to_have = (\"Iteration {}/{}: train_diff={:.5f}, valid_diff={:.5f} ({}sec)\".format(\n",
        "              train_iters, true_count, train_scores_mean, valid_scores_mean, current_iteration_elapsed))\n",
        "    \n",
        "    if online_print: \n",
        "        print(res_to_have)\n",
        "\n",
        "    with open(os.path.join(logdir, \"results.txt\"), \"a\") as f: \n",
        "        f.write(\"{}\\n\".format(res_to_have))\n",
        "\n",
        "def save_samples(logdir, samples, iteration, rev_charmap, annotated=False):\n",
        "    \"\"\"Convert samples to strings and save to log directory.\"\"\"\n",
        "    if annotated:\n",
        "        char_probs = samples[:,:-1,:]\n",
        "        ann = samples[:,-1,:]\n",
        "    else:\n",
        "        char_probs = samples\n",
        "    argmax = np.argmax(char_probs, 1)\n",
        "    with open(os.path.join(logdir, \"samples\", \"samples_{}\".format(iteration)), \"w\") as f:\n",
        "        for line in argmax:\n",
        "            s = \"\".join(rev_charmap[d] for d in line) + \"\\n\"\n",
        "            f.write(s)\n",
        "    if annotated:\n",
        "        np.savetxt(os.path.join(logdir, \"samples\", \"samples_ann_{}\".format(iteration)), ann)\n",
        "\n",
        "def plot(y, x, logdir, name, xlabel=None, ylabel=None, title=None, save=True):\n",
        "    \"\"\"Make plot of training curves\"\"\"\n",
        "    plt.close()\n",
        "    plt.plot(y,x)\n",
        "    if xlabel:\n",
        "        plt.xlabel(xlabel)\n",
        "    if ylabel:\n",
        "        plt.ylabel(ylabel)\n",
        "    if title:\n",
        "        plt.title = title\n",
        "    if save:\n",
        "        plt.savefig(os.path.join(logdir, \"{}\".format(name) + \".png\"))\n",
        "        plt.close()\n",
        "\n",
        "def feed(data, batch_size, reuse=True):\n",
        "    \"\"\"Feed data in batches\"\"\"\n",
        "    if type(data)==list or type(data)==tuple and len(data)==2:\n",
        "        data_seqs, data_vals = data\n",
        "        yield_vals = True\n",
        "    else:\n",
        "        data_seqs = data\n",
        "        yield_vals = False\n",
        "    num_batches = len(data_seqs) // batch_size\n",
        "    if num_batches == 0:\n",
        "        raise Exception(\"Dataset not large enough to accomodate batch size\")\n",
        "    while True:\n",
        "        for ctr in range(num_batches):\n",
        "            out = data_seqs[ctr * batch_size : (ctr + 1) * batch_size]\n",
        "            if yield_vals:\n",
        "                out = (out, data_vals[ctr * batch_size : (ctr + 1) * batch_size])\n",
        "            yield out\n",
        "        if not reuse and ctr == num_batches - 1:\n",
        "            yield None\n",
        "\n",
        "def save_models(logdir, generator, discriminator, true_count):\n",
        "    \"\"\"Function to save Denerator and Discriminator models (checkpointing)\"\"\"\n",
        "    ckpt_dir = os.path.join(logdir, \"checkpoints\", \"checkpoint_{}\".format(true_count))\n",
        "    os.makedirs(ckpt_dir, exist_ok=True)\n",
        "    torch.save(generator.state_dict(), '{}/netG'.format(ckpt_dir))\n",
        "    torch.save(discriminator.state_dict(), '{}/netD'.format(ckpt_dir))\n",
        "    \n",
        "def cal_time(former_iteration_endpoint ,tz):\n",
        "    \"\"\"Calculating 'Computation Time' for this round of iteration\"\"\"\n",
        "    current_iteration_endpoint = datetime.datetime.now(tz)\n",
        "    current_iteration_elapsed = str(current_iteration_endpoint - former_iteration_endpoint).split(\".\")[0]\n",
        "    temp = current_iteration_elapsed.split(\":\")\n",
        "    if int(temp[0])==0 and int(temp[1])==0: current_iteration_elapsed = temp[2]\n",
        "    elif int(temp[0])==0: current_iteration_elapsed = temp[1]+\":\"+temp[2]\n",
        "    former_iteration_endpoint = current_iteration_endpoint\n",
        "    return former_iteration_endpoint, current_iteration_elapsed\n",
        "\n",
        "def save_samples(logdir, samples, iteration, rev_charmap, annotated=False):\n",
        "    \"\"\"Convert samples to strings and save to log directory.\"\"\"\n",
        "    if annotated:\n",
        "        char_probs = samples[:,:-1,:]\n",
        "        ann = samples[:,-1,:]\n",
        "    else:\n",
        "        char_probs = samples\n",
        "    argmax = np.argmax(char_probs, 1)\n",
        "    with open(os.path.join(logdir, \"samples\", \"samples_{}\".format(iteration)), \"w\") as f:\n",
        "        for line in argmax:\n",
        "            s = \"\".join(rev_charmap[d] for d in line) + \"\\n\"\n",
        "            f.write(s)\n",
        "    if annotated:\n",
        "        np.savetxt(os.path.join(logdir, \"samples\", \"samples_ann_{}\".format(iteration)), ann)\n",
        "\n"
      ],
      "execution_count": null,
      "outputs": []
    },
    {
      "cell_type": "markdown",
      "metadata": {
        "id": "6I70XejI1ovH"
      },
      "source": [
        "## Initiate the Dataset Class:"
      ]
    },
    {
      "cell_type": "code",
      "metadata": {
        "id": "4XvOiCYe1ovI"
      },
      "source": [
        "class CovidDataset(Dataset):\n",
        "    def __init__(self, path, files, model, split=\"train\", \n",
        "                 charmap=charmap, haplotype_cutoff=args.haplotype_cutoff, \n",
        "                 meta_continent=args.continent, meta_region=meta_region):\n",
        "        \"\"\"\n",
        "        Args:\n",
        "            :param path: path to dataset file\n",
        "            :param file: dataset file name\n",
        "            :param model: model of interest to work with\n",
        "            :charmap: dict that maps nucleotides into digits which represet indexes of vectors in one-hot matrix\n",
        "            ...\n",
        "        \"\"\"        \n",
        "        self.dataset = {}\n",
        "        for file in files[0]:\n",
        "            with open(os.path.join(path, file), 'r') as f:\n",
        "                content = f.readlines()\n",
        "                templist = []\n",
        "                for line in content:\n",
        "                    seq_id, seq = line.strip().split(\"\\t\",1)\n",
        "                    templist.append(seq_id)\n",
        "                    templist.append(seq.replace(\"\\t\", \"\"))\n",
        "                self.dataset = {**self.dataset, **listToDict(templist)}\n",
        "                print(\"number of samples with duplication:\", len(list(self.dataset.values())))\n",
        "                print(\"number of samples without duplication:\", len(set(list(self.dataset.values()))))\n",
        "                #self.dataset = {**self.dataset, **listToDict(content)}\n",
        "        self.dataset_new = {}\n",
        "        for k, v in self.dataset.items(): # not including seq. with many miss. val. (based on haplotype_cutoff)\n",
        "            if '.' in v:\n",
        "                if v.count('.')/len(v) <= args.haplotype_cutoff: \n",
        "                    self.dataset_new[k] = v\n",
        "            else:\n",
        "                self.dataset_new[k] = v\n",
        "        self.dataset = self.dataset_new\n",
        "        #print(self.dataset)\n",
        "        \n",
        "        self.sequences = [charmap_to_onehots(sequence, charmap, model) for sequence in list(self.dataset.values())]\n",
        "        self.ids = list(range(len(list(self.dataset))))\n",
        "        \n",
        "        index = 0\n",
        "        if args.continent: index = 2 # for continent\n",
        "        else: index = 1 # for country\n",
        "           \n",
        "#        meta_place = {}        \n",
        "#        for file in files[1]:\n",
        "#            df = pd.read_csv(path + file, sep='\\t', lineterminator='\\n', header=None)\n",
        "#            df = df.fillna(\"NaN\")\n",
        "#            meta_temp = {name:place for name, place in zip(list(df[0]), list(df[index]))}\n",
        "#            meta_place = {**meta_place, **meta_temp}\n",
        "            \n",
        "#        self.meta_place = {}\n",
        "#        for i, name in enumerate(self.dataset):\n",
        "#            self.meta_place[i] = metadata_to_one_hot(meta_region[meta_place[name]], len(meta_region)+1)\n",
        "          \n",
        "    def __getitem__(self, i):\n",
        "        id = self.ids[i]\n",
        "        return self.sequences[id]#, self.meta_place[id]\n",
        "    \n",
        "    def __len__(self):\n",
        "        return len(self.ids)"
      ],
      "execution_count": null,
      "outputs": []
    },
    {
      "cell_type": "code",
      "metadata": {
        "id": "e7d-j_qW1ovJ",
        "colab": {
          "base_uri": "https://localhost:8080/"
        },
        "outputId": "7f0e4d6f-a8a1-440b-cdd7-28c573ceab4e"
      },
      "source": [
        "dataset_train = CovidDataset(path, [[train_w_file], [train_meta]], args.model_type)\n",
        "dataset_validation = CovidDataset(path, [[validation_w_file], [validation_meta]], args.model_type)\n",
        "dataset_test = CovidDataset(path, [[test_w_file], [test_meta]], args.model_type)"
      ],
      "execution_count": null,
      "outputs": [
        {
          "output_type": "stream",
          "text": [
            "number of samples with duplication: 6611\n",
            "number of samples without duplication: 1779\n",
            "number of samples with duplication: 2204\n",
            "number of samples without duplication: 697\n",
            "number of samples with duplication: 2204\n",
            "number of samples without duplication: 710\n"
          ],
          "name": "stdout"
        }
      ]
    },
    {
      "cell_type": "code",
      "metadata": {
        "id": "WY-LVDHA1ovK"
      },
      "source": [
        "dataloader_train = DataLoader(dataset_train, args.batch_size, drop_last = True, shuffle = True)\n",
        "dataloader_validation = DataLoader(dataset_validation, args.batch_size,drop_last=False,shuffle= False)\n",
        "dataloader_test = DataLoader(dataset_test, args.batch_size,drop_last=False,shuffle= False)"
      ],
      "execution_count": null,
      "outputs": []
    },
    {
      "cell_type": "code",
      "metadata": {
        "colab": {
          "base_uri": "https://localhost:8080/"
        },
        "id": "k7XvbT7qLxOX",
        "outputId": "60bd0710-4d41-45fc-d9e6-876771d9eebc"
      },
      "source": [
        "dataset_train_gan = CovidDataset(path, [[train_w_file]], args.model_type)\n",
        "dataset_validation_gan = CovidDataset(path, [[validation_w_file]], args.model_type)\n",
        "dataset_test_gan = CovidDataset(path, [[test_w_file]], args.model_type)"
      ],
      "execution_count": null,
      "outputs": [
        {
          "output_type": "stream",
          "text": [
            "number of samples with duplication: 6611\n",
            "number of samples without duplication: 1779\n",
            "number of samples with duplication: 2204\n",
            "number of samples without duplication: 697\n",
            "number of samples with duplication: 2204\n",
            "number of samples without duplication: 710\n"
          ],
          "name": "stdout"
        }
      ]
    },
    {
      "cell_type": "code",
      "metadata": {
        "id": "rc5-Rck5RMa6"
      },
      "source": [
        "dataloader_train_gan = DataLoader(dataset_train_gan, args.batch_size, drop_last = True, shuffle = True)\n",
        "dataloader_validation_gan = DataLoader(dataset_validation_gan, args.batch_size,drop_last=False,shuffle= False)\n",
        "dataloader_test_gan = DataLoader(dataset_test_gan, args.batch_size,drop_last=False,shuffle= False)"
      ],
      "execution_count": null,
      "outputs": []
    },
    {
      "cell_type": "code",
      "metadata": {
        "id": "i4MAybuIu_i0"
      },
      "source": [
        "# fix vocab\n",
        "\n",
        "charmap, rev_charmap = get_vocab(args.vocab, args.vocab_order)"
      ],
      "execution_count": null,
      "outputs": []
    },
    {
      "cell_type": "code",
      "metadata": {
        "id": "WehICR0XbpQ3"
      },
      "source": [
        "# organize model logs/checkpoints\n",
        "logdir, checkpoint_baseline = log(args, samples_dir=True)\n",
        "    \n",
        "if args.annotate:\n",
        "    data_enc_dim = vocab_size + 1\n",
        "else:\n",
        "    data_enc_dim = vocab_size\n",
        "data_size = args.seq_len * data_enc_dim"
      ],
      "execution_count": null,
      "outputs": []
    },
    {
      "cell_type": "code",
      "metadata": {
        "colab": {
          "base_uri": "https://localhost:8080/"
        },
        "id": "KlqRtMzS1ovK",
        "outputId": "5220357c-c286-4b89-b506-b15ed48a96b1"
      },
      "source": [
        "len(dataloader_train)\n",
        "# dataloader -> model -> criterion -> optimizer -> training loop"
      ],
      "execution_count": null,
      "outputs": [
        {
          "output_type": "execute_result",
          "data": {
            "text/plain": [
              "103"
            ]
          },
          "metadata": {
            "tags": []
          },
          "execution_count": 20
        }
      ]
    },
    {
      "cell_type": "code",
      "metadata": {
        "colab": {
          "base_uri": "https://localhost:8080/"
        },
        "id": "s5fIRqk61ovL",
        "outputId": "c778b076-7583-43fe-cdbb-96257f9a6d69"
      },
      "source": [
        "len(dataloader_validation)"
      ],
      "execution_count": null,
      "outputs": [
        {
          "output_type": "execute_result",
          "data": {
            "text/plain": [
              "35"
            ]
          },
          "metadata": {
            "tags": []
          },
          "execution_count": 21
        }
      ]
    },
    {
      "cell_type": "code",
      "metadata": {
        "colab": {
          "base_uri": "https://localhost:8080/",
          "height": 198
        },
        "id": "SGYFB6iy1ovM",
        "outputId": "2ff3f0f2-b264-4687-c5b9-f90687e4e388"
      },
      "source": [
        "examples = iter(dataloader_train)\n",
        "samples, labels = examples.next()\n",
        "print(samples.shape, labels.shape)"
      ],
      "execution_count": null,
      "outputs": [
        {
          "output_type": "error",
          "ename": "ValueError",
          "evalue": "ignored",
          "traceback": [
            "\u001b[0;31m---------------------------------------------------------------------------\u001b[0m",
            "\u001b[0;31mValueError\u001b[0m                                Traceback (most recent call last)",
            "\u001b[0;32m<ipython-input-22-88ed7f61f7d0>\u001b[0m in \u001b[0;36m<module>\u001b[0;34m()\u001b[0m\n\u001b[1;32m      1\u001b[0m \u001b[0mexamples\u001b[0m \u001b[0;34m=\u001b[0m \u001b[0miter\u001b[0m\u001b[0;34m(\u001b[0m\u001b[0mdataloader_train\u001b[0m\u001b[0;34m)\u001b[0m\u001b[0;34m\u001b[0m\u001b[0;34m\u001b[0m\u001b[0m\n\u001b[0;32m----> 2\u001b[0;31m \u001b[0msamples\u001b[0m\u001b[0;34m,\u001b[0m \u001b[0mlabels\u001b[0m \u001b[0;34m=\u001b[0m \u001b[0mexamples\u001b[0m\u001b[0;34m.\u001b[0m\u001b[0mnext\u001b[0m\u001b[0;34m(\u001b[0m\u001b[0;34m)\u001b[0m\u001b[0;34m\u001b[0m\u001b[0;34m\u001b[0m\u001b[0m\n\u001b[0m\u001b[1;32m      3\u001b[0m \u001b[0mprint\u001b[0m\u001b[0;34m(\u001b[0m\u001b[0msamples\u001b[0m\u001b[0;34m.\u001b[0m\u001b[0mshape\u001b[0m\u001b[0;34m,\u001b[0m \u001b[0mlabels\u001b[0m\u001b[0;34m.\u001b[0m\u001b[0mshape\u001b[0m\u001b[0;34m)\u001b[0m\u001b[0;34m\u001b[0m\u001b[0;34m\u001b[0m\u001b[0m\n",
            "\u001b[0;31mValueError\u001b[0m: too many values to unpack (expected 2)"
          ]
        }
      ]
    },
    {
      "cell_type": "markdown",
      "metadata": {
        "id": "YMTTJdxfP_8z"
      },
      "source": [
        "Early stopping"
      ]
    },
    {
      "cell_type": "code",
      "metadata": {
        "id": "Z_NvPcw0MDBA"
      },
      "source": [
        "class EarlyStopping(object):\n",
        "    def __init__(self, mode='min', min_delta=0, patience=10, percentage=False):\n",
        "        self.mode = mode\n",
        "        self.min_delta = min_delta\n",
        "        self.patience = patience\n",
        "        self.best = None\n",
        "        self.num_bad_epochs = 0\n",
        "        self.is_better = None\n",
        "        self._init_is_better(mode, min_delta, percentage)\n",
        "\n",
        "        if patience == 0:\n",
        "            self.is_better = lambda a, b: True\n",
        "            self.step = lambda a: False\n",
        "\n",
        "    def step(self, metrics):\n",
        "        if self.best is None:\n",
        "            self.best = metrics\n",
        "            return False\n",
        "\n",
        "        if torch.isnan(metrics):\n",
        "            return True\n",
        "\n",
        "        if self.is_better(metrics, self.best):\n",
        "            self.num_bad_epochs = 0\n",
        "            self.best = metrics\n",
        "        else:\n",
        "            self.num_bad_epochs += 1\n",
        "\n",
        "        if self.num_bad_epochs >= self.patience:\n",
        "            return True\n",
        "\n",
        "        return False\n",
        "\n",
        "    def _init_is_better(self, mode, min_delta, percentage):\n",
        "        if mode not in {'min', 'max'}:\n",
        "            raise ValueError('mode ' + mode + ' is unknown!')\n",
        "        if not percentage:\n",
        "            if mode == 'min':\n",
        "                self.is_better = lambda a, best: a < best - min_delta\n",
        "            if mode == 'max':\n",
        "                self.is_better = lambda a, best: a > best + min_delta\n",
        "        else:\n",
        "            if mode == 'min':\n",
        "                self.is_better = lambda a, best: a < best - (\n",
        "                            best * min_delta / 100)\n",
        "            if mode == 'max':\n",
        "                self.is_better = lambda a, best: a > best + (\n",
        "                            best * min_delta / 100)\n"
      ],
      "execution_count": null,
      "outputs": []
    },
    {
      "cell_type": "markdown",
      "metadata": {
        "id": "eiqrizBo1ovN"
      },
      "source": [
        "# Model: Multi-Layer Perceptron"
      ]
    },
    {
      "cell_type": "code",
      "metadata": {
        "id": "QNytn8p81ovO"
      },
      "source": [
        "class mlp_generator(nn.Module):\n",
        "    \"\"\" Multi-Layer Perceptron for generating sequences.\n",
        "\n",
        "    Parameters:\n",
        "        inputs (tensor):Batch of noises inputed to the network.\n",
        "        dim (int):Generator dimension parameter (in each middle layer).\n",
        "        input_size (int):Size of latent space (i.e., the first layer dimension).\n",
        "        output_size (int):Size of the last layer (=max_seq_len*vocab_size).\n",
        "        num_layers (int):How many middle or hidden layers for generator.\n",
        "\n",
        "    Returns:\n",
        "        outputs (tensor):Batch of lists of values (each `vocab_size` interval represents one nucleotide).   \n",
        "\n",
        "    \"\"\"\n",
        "    def __init__(self, dim=64, input_size=685, output_size=3, num_layers=4): # 5 x 137\n",
        "        super(mlp_generator, self).__init__()\n",
        "\n",
        "        num_layers = num_layers + 2  # add 2 for the 1st and the last layers\n",
        "        modules = []\n",
        "        for layer in range(num_layers): \n",
        "            in_size = input_size if layer == 0 else dim\n",
        "            out_size = output_size if layer == num_layers - 1 else dim\n",
        "            if layer < num_layers - 1:\n",
        "                modules.append(\n",
        "                    nn.Sequential(\n",
        "                        nn.Linear(in_size, out_size),\n",
        "                        nn.ReLU(True),\n",
        "                    )\n",
        "                )\n",
        "            else:\n",
        "                modules.append(\n",
        "                    nn.Sequential(\n",
        "                        nn.Linear(in_size, out_size),\n",
        "                        nn.Sigmoid()\n",
        "                    )\n",
        "                )\n",
        "        self.layers = nn.Sequential(*modules)\n",
        "        \n",
        "    def forward(self, x):\n",
        "        x = x.view(x.size(0), -1)\n",
        "        x = self.layers(x)\n",
        "        return x\n",
        "\n",
        "# rename to mlp_classifier\n",
        "# outsize of disc = 17 (for countries)\n",
        "class mlp_discriminator(nn.Module):\n",
        "    \"\"\" Multi-Layer Perceptron for discriminating real vs generated sequences.\n",
        "\n",
        "    Parameters:\n",
        "        inputs (tensor):Tensor of size (batch_size, vocab_size*max_seq_len) containing real or generated sequences.\n",
        "        dim (int):Discriminator dimension parameter (in each middle layer).\n",
        "        input_size (int):Size of the first layer (vocab_size*max_seq_len).\n",
        "        num_layers (int):How many middle or hidden layers for discriminator.\n",
        "\n",
        "    Returns:\n",
        "        outputs (tensor):Batch of (single) values for real or generated inputs.   \n",
        "\n",
        "    \"\"\"\n",
        "    def __init__(self, dim, input_size, num_layers=4):\n",
        "        super(mlp_discriminator, self).__init__()\n",
        "        \n",
        "        num_layers = num_layers + 2  # add 2 for the 1st and the last layers\n",
        "        modules = []\n",
        "        for layer in range(num_layers):\n",
        "            in_size = input_size if layer == 0 else dim\n",
        "            out_size = 4 if layer == num_layers - 1 else dim # if not last layer then uses dim size\n",
        "            if layer < num_layers - 1:\n",
        "                modules.append(\n",
        "                    nn.Sequential(\n",
        "                        nn.Linear(in_size, out_size),\n",
        "                        nn.LeakyReLU(True),\n",
        "                    )\n",
        "                )\n",
        "            else:\n",
        "                modules.append(\n",
        "                    nn.Sequential(\n",
        "                        nn.Linear(in_size, out_size),\n",
        "                    )\n",
        "                )\n",
        "        self.layers = nn.Sequential(*modules)\n",
        "        \n",
        "    def forward(self, inputs):\n",
        "        inputs = inputs.view(inputs.size(0), -1)\n",
        "        outputs = self.layers(inputs)\n",
        "        return outputs"
      ],
      "execution_count": null,
      "outputs": []
    },
    {
      "cell_type": "markdown",
      "metadata": {
        "id": "tVapHZhR1ovP"
      },
      "source": [
        "# Criterion + Optimizer:"
      ]
    },
    {
      "cell_type": "code",
      "metadata": {
        "colab": {
          "base_uri": "https://localhost:8080/"
        },
        "id": "lY6AXMce1ovQ",
        "outputId": "3811d76d-4e20-434e-cfc3-f19af128c4e0"
      },
      "source": [
        "vocab_size = 5# instantiate models\n",
        "if args.model_type==\"mlp\":\n",
        "    netG = mlp_generator(args.gen_dim, args.latent_dim, args.seq_len*args.vocab_size, args.gen_layers).to(device)\n",
        "    netD = mlp_discriminator(args.disc_dim, args.seq_len*vocab_size, args.disc_layers).to(device) #fix max_seq_len\n",
        "   # model = mlp_classifier(args.disc_dim, args.seq_len*vocab_size, args.disc_layers).to(device)\n",
        "print(\"{}\\nGenerator Network Architecture:\\n{}\\n{}\\n\".format(\"=\"*31, \"~\"*31, netG))\n",
        "print(\"{}\\nDiscriminator Network Architecture:\\n{}\\n{}\\n\".format(\"=\"*35, \"~\"*35, netD))\n",
        "\n",
        "# cost function (for discriminator prediction)\n",
        "# criterion = nn.BCEWithLogitsLoss() # use CE loss for classifier\n",
        "criterion = nn.BCEWithLogitsLoss()\n",
        "\n",
        "# setup optimizer\n",
        "optimizerG = optim.Adam(list(netG.parameters()), lr=args.learning_rate)\n",
        "optimizerD = optim.Adam(list(netD.parameters()), lr=args.learning_rate)\n",
        "# optimizerM = optim.Adam(list(model.parameters()), lr=args.learning_rate, betas=(args.beta1, 0.999))\n",
        "\n",
        "schedulerG = optim.lr_scheduler.ExponentialLR(optimizerG, gamma=0.99)\n",
        "schedulerD= optim.lr_scheduler.ExponentialLR(optimizerD, gamma=0.99)"
      ],
      "execution_count": null,
      "outputs": [
        {
          "output_type": "stream",
          "text": [
            "===============================\n",
            "Generator Network Architecture:\n",
            "~~~~~~~~~~~~~~~~~~~~~~~~~~~~~~~\n",
            "mlp_generator(\n",
            "  (layers): Sequential(\n",
            "    (0): Sequential(\n",
            "      (0): Linear(in_features=64, out_features=16, bias=True)\n",
            "      (1): ReLU(inplace=True)\n",
            "    )\n",
            "    (1): Sequential(\n",
            "      (0): Linear(in_features=16, out_features=16, bias=True)\n",
            "      (1): ReLU(inplace=True)\n",
            "    )\n",
            "    (2): Sequential(\n",
            "      (0): Linear(in_features=16, out_features=685, bias=True)\n",
            "      (1): Sigmoid()\n",
            "    )\n",
            "  )\n",
            ")\n",
            "\n",
            "===================================\n",
            "Discriminator Network Architecture:\n",
            "~~~~~~~~~~~~~~~~~~~~~~~~~~~~~~~~~~~\n",
            "mlp_discriminator(\n",
            "  (layers): Sequential(\n",
            "    (0): Sequential(\n",
            "      (0): Linear(in_features=685, out_features=16, bias=True)\n",
            "      (1): LeakyReLU(negative_slope=True)\n",
            "    )\n",
            "    (1): Sequential(\n",
            "      (0): Linear(in_features=16, out_features=16, bias=True)\n",
            "      (1): LeakyReLU(negative_slope=True)\n",
            "    )\n",
            "    (2): Sequential(\n",
            "      (0): Linear(in_features=16, out_features=4, bias=True)\n",
            "    )\n",
            "  )\n",
            ")\n",
            "\n"
          ],
          "name": "stdout"
        }
      ]
    },
    {
      "cell_type": "code",
      "metadata": {
        "id": "HORN17PB16Kw"
      },
      "source": [
        "def disc_grad_penalty(disc, real_samples, penalty_amount=10, retain=False):\n",
        "    \"\"\"Function to compute gradient (norm) penalty loss in order to hinder undesirable large changes in gradient computation \n",
        "\n",
        "    Parameters:\n",
        "        disc_network (torch.nn.module):Discriminator object.\n",
        "        real_samples (tensor):'Real' data samples.\n",
        "        penalty_amount (in):'lmbda' or weight of the penalty.\n",
        "        retain (bool):If False, the graph used to compute the grad will be freed (i.e., cannot do another loss.backward)\n",
        "        \n",
        "    Returns:\n",
        "        GP_loss (int):Gradient (norm) penalty loss (ie. of the gradient regularization term in the total loss funtion).\n",
        "\n",
        "    \"\"\"\n",
        "    def _get_gradient(inp, output):\n",
        "        gradient = torch.autograd.grad(outputs=output, inputs=inp,\n",
        "                                 grad_outputs=torch.ones_like(output),\n",
        "                                 create_graph=True, retain_graph=True,\n",
        "                                 only_inputs=True, allow_unused=True)[0]\n",
        "        return gradient\n",
        "    \n",
        "    if not isinstance(real_samples, (list, tuple)):\n",
        "        real_samples = [real_samples]\n",
        "        \n",
        "    real_samples = [inp.detach() for inp in real_samples]\n",
        "    real_samples = [inp.requires_grad_() for inp in real_samples]\n",
        "    with torch.set_grad_enabled(True):\n",
        "        output = disc(*real_samples)\n",
        "    \n",
        "    # compute gradient\n",
        "    gradient = _get_gradient(real_samples, output)\n",
        "    \n",
        "    # get norm square: ||grad||^2\n",
        "    gradient = gradient.view(gradient.size()[0], -1)\n",
        "    penalty = (gradient ** 2).sum(1).mean()\n",
        "    \n",
        "    gp_loss = penalty_amount * penalty\n",
        "    \n",
        "    gp_loss.backward(retain_graph=retain)\n",
        "    \n",
        "    return gp_loss\n",
        "\n",
        "def backprop(disc_network, inputs, disc_exp=None, retain=False, backward=True, criterion=criterion):\n",
        "    outputs = disc_network(inputs)\n",
        "    y = ones_or_zeros_like(outputs, disc_exp)\n",
        "    # In D update: \n",
        "    # for 'real' (y=1) will compute: ylog(outputs)+0*log(1-outputs) using BCEWithLogitsLoss\n",
        "    # for 'fake' (y=0) will compute: 0*log(outputs)+(1-y)*log(1-outputs) using BCEWithLogitsLoss\n",
        "    # In G update:\n",
        "    # for 'fake' (y=1) will compute: y*log(outputs)+0*log(1-outputs) using BCEWithLogitsLoss\n",
        "    loss = criterion(outputs, y)\n",
        "    if backward:\n",
        "        loss.backward(retain_graph=retain)  # accumulating gradients (ie. dloss/dw)  (compute/store gradients, but don't change params)\n",
        "    return loss, outputs"
      ],
      "execution_count": null,
      "outputs": []
    },
    {
      "cell_type": "markdown",
      "metadata": {
        "id": "ldRXDJuV1ovR"
      },
      "source": [
        "# Training Loop + Metrics:"
      ]
    },
    {
      "cell_type": "code",
      "metadata": {
        "colab": {
          "base_uri": "https://localhost:8080/"
        },
        "id": "YfO5_REHYfgs",
        "outputId": "b55feef1-5cfd-4554-b56e-2c9c9a27e4ce"
      },
      "source": [
        "# train GAN\n",
        "start_time = datetime.datetime.now(tz)\n",
        "former_iteration_endpoint = start_time\n",
        "print(\"~~ TIME ~~\")\n",
        "print(\"Time started: {}\".format(start_time.strftime(\"%Y-%m-%d %H:%M:%S\")))\n",
        "print(\"======================================================================\")\n",
        "print(\"Training GAN (using '{}' loss algorithm with '{}' model)\".format(args.gan_loss, args.model_type))\n",
        "print(\"~~~~~~~~~~~~~~~~~~~~~~~~~~~~~~~~~~~~~~~~~~~~~~~~~~~~~~~~~~~~~~~~~~~~~~\")\n",
        "train_counts = []\n",
        "valid_counts = []\n",
        "disc_loss_train = []\n",
        "disc_loss_valid = []\n",
        "gen_loss_train = []\n",
        "train_scores = []\n",
        "for idx in range(args.train_iters):\n",
        "    true_count = idx + 1 + checkpoint_baseline\n",
        "    train_counts.append(true_count)\n",
        "    \n",
        "    ############################\n",
        "    # (1) Update D network: maximize log(D(x)) + log(1 - D(G(z))) + GP(disc_grad_penalty) wanting D(x)=1 & D(G(z))=0\n",
        "    ############################\n",
        "    optimizerG.zero_grad()\n",
        "    optimizerD.zero_grad()\n",
        "    \n",
        "    lossD_iters = 0\n",
        "    for d in range(args.disc_iters):\n",
        "        # 'Real' data\n",
        "        real_seqs = next(iter(dataloader_train_gan)) # next(iter dataloader train...)\n",
        "        real_seqs = Variable(real_seqs.clone().detach().float().to(device))\n",
        "        lossD_real, score_real = backprop(netD, real_seqs, disc_exp=\"real\")\n",
        "        \n",
        "        # 'Fake' data\n",
        "        noise = z_sampler(args.batch_size, args.latent_dim)\n",
        "        fake_seqs = netG(noise)\n",
        "  \n",
        "        \n",
        "        # gradient penalty loss\n",
        "        lossD_GP = disc_grad_penalty(netD, real_seqs, penalty_amount=args.lmbda)\n",
        "        \n",
        "        # Total loss\n",
        "        lossD_fake, score_fake = backprop(netD.eval(), fake_seqs, disc_exp=\"fake\", backward=False)\n",
        "        train_score = score_real.data.mean().item() - score_fake.data.mean().item()\n",
        "        train_scores.append(train_score)\n",
        "        lossD = lossD_real.item() + lossD_fake.item() + lossD_GP.item()\n",
        "        \n",
        "        optimizerD.step()\n",
        "        \n",
        "    disc_loss_train.append((lossD_real + lossD_fake)/2)\n",
        "        \n",
        "    ############################\n",
        "    # (2) Update G network: maximize log(D(G(z))) wanting D(G(z))=1\n",
        "    ############################\n",
        "    optimizerG.zero_grad()\n",
        "    optimizerD.zero_grad()\n",
        "    \n",
        "    noise = z_sampler(args.batch_size, args.latent_dim)\n",
        "    fake_seqs = netG(noise)\n",
        "    lossG, _ = backprop(netD, fake_seqs, disc_exp=\"real\")\n",
        "    gen_loss_train.append(lossG.item())\n",
        "\n",
        "    optimizerG.step()\n",
        "    \n",
        "    if true_count % args.adapt_lr_iters == 0:\n",
        "        schedulerG.step()\n",
        "        schedulerD.step()\n",
        "    \n",
        "    if true_count % args.checkpoint_iters == 0:\n",
        "        # validation\n",
        "        loss_vals = []\n",
        "        valid_scores = []\n",
        "#        data = next(iter(dataloader_validation_gan))\n",
        "        for data in dataloader_validation_gan:\n",
        "            # How discriminator works on the real samples?\n",
        "            real_seqs = Variable(data.clone().detach().float().to(device))\n",
        "            lossD_real, score_real = backprop(netD.eval(), real_seqs, disc_exp=\"real\", backward=False)\n",
        "        \n",
        "            # How discriminator works on the fake samples?\n",
        "            noise = z_sampler(args.batch_size, args.latent_dim)\n",
        "            fake_seqs = netG.eval()(noise)\n",
        "            lossD_fake, score_fake = backprop(netD.eval(), fake_seqs, disc_exp=\"fake\", backward=False)\n",
        "        \n",
        "            # How close the guesses are?\n",
        "            valid_score = score_real.data.mean().item() - score_fake.data.mean().item()\n",
        "            valid_scores.append(valid_score)\n",
        "            loss_vals.append(lossD_real.item() + lossD_fake.item())\n",
        "#            data = next(iter(dataloader_validation_gan))\n",
        "\n",
        "        disc_loss_valid.append(np.mean(loss_vals))\n",
        "        valid_counts.append(true_count)\n",
        "        \n",
        "        # log results and figures\n",
        "        name = \"valid_disc_cost\"\n",
        "        if checkpoint_baseline > 0: name += \"_{}\".format(checkpoint_baseline)\n",
        "        plot(valid_counts, disc_loss_valid, logdir, name, xlabel=\"Iteration\", ylabel=\"Discriminator cost\")\n",
        "        \n",
        "        # Calculating 'Computation Time' for this round of iteration\n",
        "        former_iteration_endpoint, current_iteration_elapsed = cal_time(former_iteration_endpoint, tz)\n",
        "        \n",
        "        \"\"\"print(\"Iteration {}/{}: train_diff={:.5f}, valid_diff={:.5f} ({}sec)\".format(\n",
        "            true_count, args.train_iters, np.mean(train_scores), np.mean(valid_scores), current_iteration_elapsed))\"\"\"\n",
        "        log_training_results(logdir, true_count, args.train_iters, np.mean(train_scores), np.mean(valid_scores), current_iteration_elapsed)\n",
        "\n",
        "        fake_seqs = fake_seqs.reshape([-1, data_enc_dim, args.seq_len])\n",
        "        save_samples(logdir, fake_seqs.cpu().clone().detach().numpy(), true_count, rev_charmap, annotated=args.annotate)\n",
        "        \n",
        "        name = \"train_disc_cost\"\n",
        "        if checkpoint_baseline > 0: name += \"_{}\".format(checkpoint_baseline)\n",
        "        plot(train_counts, disc_loss_train, logdir, name, xlabel=\"Iteration\", ylabel=\"Min-Max discriminator trun loss\")\n",
        "        \n",
        "        name = \"train_gen_cost\"\n",
        "        if checkpoint_baseline > 0: name += \"_{}\".format(checkpoint_baseline)\n",
        "        plot(train_counts, gen_loss_train, logdir, name, xlabel=\"Iteration\", ylabel=\"Min-Max generator turn loss\")\n",
        "        \n",
        "        train_scores = []\n",
        "\n",
        "        print(idx)\n",
        "        \n",
        "    # save checkpoint\n",
        "    if args.checkpoint_iters and true_count % args.checkpoint_iters == 0:\n",
        "        save_models(logdir, netG, netD, true_count)\n",
        "\n",
        "print(\"======================================================================\")\n",
        "current_time = datetime.datetime.now(tz)\n",
        "time_elapsed = current_time - start_time\n",
        "print(\"Time current: {}\".format(current_time.strftime(\"%Y-%m-%d %H:%M:%S\")))\n",
        "print(\"Time elapsed: {}\".format(str(time_elapsed).split(\".\")[0]))"
      ],
      "execution_count": null,
      "outputs": [
        {
          "output_type": "stream",
          "text": [
            "~~ TIME ~~\n",
            "Time started: 2021-04-13 15:45:43\n",
            "======================================================================\n",
            "Training GAN (using 'vanilla' loss algorithm with 'mlp' model)\n",
            "~~~~~~~~~~~~~~~~~~~~~~~~~~~~~~~~~~~~~~~~~~~~~~~~~~~~~~~~~~~~~~~~~~~~~~\n",
            "Iteration 250/8000: train_diff=0.04813, valid_diff=0.08121 (02sec)\n",
            "249\n",
            "Iteration 500/8000: train_diff=0.07746, valid_diff=0.07030 (02sec)\n",
            "499\n",
            "Iteration 750/8000: train_diff=0.05743, valid_diff=0.04243 (02sec)\n",
            "749\n",
            "Iteration 1000/8000: train_diff=0.02882, valid_diff=0.01681 (02sec)\n",
            "999\n",
            "Iteration 1250/8000: train_diff=0.00890, valid_diff=0.00284 (02sec)\n",
            "1249\n",
            "Iteration 1500/8000: train_diff=0.00017, valid_diff=-0.00157 (02sec)\n",
            "1499\n",
            "Iteration 1750/8000: train_diff=-0.00347, valid_diff=-0.00526 (02sec)\n",
            "1749\n",
            "Iteration 2000/8000: train_diff=-0.00473, valid_diff=-0.00528 (02sec)\n",
            "1999\n",
            "Iteration 2250/8000: train_diff=-0.00502, valid_diff=-0.00407 (02sec)\n",
            "2249\n",
            "Iteration 2500/8000: train_diff=-0.00444, valid_diff=-0.00391 (02sec)\n",
            "2499\n",
            "Iteration 2750/8000: train_diff=-0.00367, valid_diff=-0.00409 (02sec)\n",
            "2749\n",
            "Iteration 3000/8000: train_diff=-0.00290, valid_diff=-0.00255 (02sec)\n",
            "2999\n",
            "Iteration 3250/8000: train_diff=-0.00223, valid_diff=-0.00195 (02sec)\n",
            "3249\n",
            "Iteration 3500/8000: train_diff=-0.00160, valid_diff=-0.00163 (02sec)\n",
            "3499\n",
            "Iteration 3750/8000: train_diff=-0.00122, valid_diff=-0.00113 (02sec)\n",
            "3749\n",
            "Iteration 4000/8000: train_diff=-0.00090, valid_diff=-0.00026 (02sec)\n",
            "3999\n",
            "Iteration 4250/8000: train_diff=-0.00069, valid_diff=-0.00023 (02sec)\n",
            "4249\n",
            "Iteration 4500/8000: train_diff=-0.00053, valid_diff=-0.00007 (02sec)\n",
            "4499\n",
            "Iteration 4750/8000: train_diff=-0.00040, valid_diff=-0.00022 (02sec)\n",
            "4749\n",
            "Iteration 5000/8000: train_diff=-0.00033, valid_diff=-0.00009 (02sec)\n",
            "4999\n",
            "Iteration 5250/8000: train_diff=-0.00026, valid_diff=-0.00018 (02sec)\n",
            "5249\n",
            "Iteration 5500/8000: train_diff=-0.00022, valid_diff=0.00072 (02sec)\n",
            "5499\n",
            "Iteration 5750/8000: train_diff=-0.00018, valid_diff=0.00056 (02sec)\n",
            "5749\n",
            "Iteration 6000/8000: train_diff=-0.00015, valid_diff=0.00008 (02sec)\n",
            "5999\n",
            "Iteration 6250/8000: train_diff=-0.00013, valid_diff=-0.00017 (02sec)\n",
            "6249\n",
            "Iteration 6500/8000: train_diff=-0.00011, valid_diff=-0.00033 (02sec)\n",
            "6499\n",
            "Iteration 6750/8000: train_diff=-0.00009, valid_diff=0.00002 (02sec)\n",
            "6749\n",
            "Iteration 7000/8000: train_diff=-0.00008, valid_diff=0.00010 (02sec)\n",
            "6999\n",
            "Iteration 7250/8000: train_diff=-0.00007, valid_diff=-0.00029 (02sec)\n",
            "7249\n",
            "Iteration 7500/8000: train_diff=-0.00006, valid_diff=-0.00012 (02sec)\n",
            "7499\n",
            "Iteration 7750/8000: train_diff=-0.00005, valid_diff=-0.00012 (02sec)\n",
            "7749\n",
            "Iteration 8000/8000: train_diff=-0.00005, valid_diff=-0.00020 (02sec)\n",
            "7999\n",
            "======================================================================\n",
            "Time current: 2021-04-13 15:46:58\n",
            "Time elapsed: 0:01:14\n"
          ],
          "name": "stdout"
        }
      ]
    },
    {
      "cell_type": "code",
      "metadata": {
        "colab": {
          "base_uri": "https://localhost:8080/",
          "height": 279
        },
        "id": "oyOtP0xnvYve",
        "outputId": "fb79f29b-1d12-40c5-d133-2fb202f0e3b6"
      },
      "source": [
        "# Plotting discriminator loss\n",
        "name = \"train_disc_cost\"\n",
        "plot(train_counts, disc_loss_train, logdir, name, xlabel=\"Iteration\", ylabel=\"Min-Max discriminator trun loss\", save=False)"
      ],
      "execution_count": null,
      "outputs": [
        {
          "output_type": "display_data",
          "data": {
            "image/png": "[encoded data removed]",
            "text/plain": [
              "<Figure size 432x288 with 1 Axes>"
            ]
          },
          "metadata": {
            "tags": [],
            "needs_background": "light"
          }
        }
      ]
    },
    {
      "cell_type": "code",
      "metadata": {
        "colab": {
          "base_uri": "https://localhost:8080/",
          "height": 279
        },
        "id": "buJdrBUEvdV4",
        "outputId": "16bc681a-6aa6-47fe-eff2-4294528e002b"
      },
      "source": [
        "# Plotting generator turn loss\n",
        "name = \"train_gen_cost\"\n",
        "plot(train_counts, gen_loss_train, logdir, name, xlabel=\"Iteration\", ylabel=\"Min-Max generator turn loss\", save=False)"
      ],
      "execution_count": null,
      "outputs": [
        {
          "output_type": "display_data",
          "data": {
            "image/png": "[encoded data removed]",
            "text/plain": [
              "<Figure size 432x288 with 1 Axes>"
            ]
          },
          "metadata": {
            "tags": [],
            "needs_background": "light"
          }
        }
      ]
    },
    {
      "cell_type": "code",
      "metadata": {
        "colab": {
          "base_uri": "https://localhost:8080/",
          "height": 265
        },
        "id": "Sdkt6Dyi6Ir1",
        "outputId": "36cb53aa-26a8-44e8-f6bc-2498182b94cd"
      },
      "source": [
        "plt.plot(train_losses, label='Training loss')\n",
        "plt.plot(validation_losses, label='Validation loss')\n",
        "plt.legend(frameon=False)\n",
        "plt.show()"
      ],
      "execution_count": null,
      "outputs": [
        {
          "output_type": "display_data",
          "data": {
            "image/png": "[encoded data removed]",
            "text/plain": [
              "<Figure size 432x288 with 1 Axes>"
            ]
          },
          "metadata": {
            "tags": [],
            "needs_background": "light"
          }
        }
      ]
    },
    {
      "cell_type": "code",
      "metadata": {
        "id": "NQkpf0C030Ck"
      },
      "source": [
        "predictions = [] # instead of correct\n",
        "targets = [] # instead of total\n",
        "for inputs in dataloader_test:\n",
        "    inputs = inputs.to(device)\n",
        "    preds = model.eval()(inputs.float())\n",
        "    predictions.extend(torch.argmax(preds, 1).tolist())\n",
        "print(classification_report(targets, predictions))"
      ],
      "execution_count": null,
      "outputs": []
    },
    {
      "cell_type": "code",
      "metadata": {
        "colab": {
          "base_uri": "https://localhost:8080/",
          "height": 265
        },
        "id": "PVu2Qee2dwXD",
        "outputId": "e3427e91-fb7e-467c-9f87-91e6e610e5d9"
      },
      "source": [
        "plt.plot(train_accuracies, label='train_accuracy')\n",
        "plt.plot(valid_accuracies, label='validation_accuracy')\n",
        "plt.legend(frameon=False)\n",
        "plt.show()"
      ],
      "execution_count": null,
      "outputs": [
        {
          "output_type": "display_data",
          "data": {
            "image/png": "[encoded data removed]",
            "text/plain": [
              "<Figure size 432x288 with 1 Axes>"
            ]
          },
          "metadata": {
            "tags": [],
            "needs_background": "light"
          }
        }
      ]
    },
    {
      "cell_type": "code",
      "metadata": {
        "colab": {
          "base_uri": "https://localhost:8080/"
        },
        "id": "LR-mOCXt6m9t",
        "outputId": "a1d4d99d-11c5-4e6a-bce7-c856cfc721b4"
      },
      "source": [
        "predictions = [] # instead of correct\n",
        "targets = [] # instead of total\n",
        "for inputs, labels in dataloader_test:\n",
        "    inputs, labels = inputs.to(device), labels.to(device)\n",
        "    preds = model.eval()(inputs.float())\n",
        "    predictions.extend(torch.argmax(preds, 1).tolist())\n",
        "    targets.extend(torch.argmax(labels, 1).tolist())\n",
        "print(classification_report(targets, predictions, labels=list(set(targets))))"
      ],
      "execution_count": null,
      "outputs": [
        {
          "output_type": "stream",
          "text": [
            "              precision    recall  f1-score   support\n",
            "\n",
            "           0       0.81      0.97      0.88      1631\n",
            "           1       0.73      0.15      0.25       286\n",
            "           2       0.79      0.57      0.67       287\n",
            "\n",
            "    accuracy                           0.81      2204\n",
            "   macro avg       0.78      0.57      0.60      2204\n",
            "weighted avg       0.80      0.81      0.77      2204\n",
            "\n"
          ],
          "name": "stdout"
        }
      ]
    },
    {
      "cell_type": "code",
      "metadata": {
        "colab": {
          "base_uri": "https://localhost:8080/",
          "height": 282
        },
        "id": "Ju7rP__r6zRK",
        "outputId": "08e13b7f-4390-4fe8-b64b-859ff24c927e"
      },
      "source": [
        "confusion_matrix_df = pd.DataFrame(confusion_matrix(targets, predictions))\n",
        "\n",
        "sns.heatmap(confusion_matrix_df, annot=True)"
      ],
      "execution_count": null,
      "outputs": [
        {
          "output_type": "execute_result",
          "data": {
            "text/plain": [
              "<matplotlib.axes._subplots.AxesSubplot at 0x7f0299591f50>"
            ]
          },
          "metadata": {
            "tags": []
          },
          "execution_count": 27
        },
        {
          "output_type": "display_data",
          "data": {
            "image/png": "[encoded data removed]",
            "text/plain": [
              "<Figure size 432x288 with 2 Axes>"
            ]
          },
          "metadata": {
            "tags": [],
            "needs_background": "light"
          }
        }
      ]
    },
    {
      "cell_type": "code",
      "metadata": {
        "colab": {
          "base_uri": "https://localhost:8080/"
        },
        "id": "v8werw0LWlcb",
        "outputId": "0d7c84ad-4ecc-43d1-d438-4eea315da828"
      },
      "source": [
        "model_test =torch.load(\"/content/drive/MyDrive/d3_data/model.pth\")\n",
        "model_test.eval()\n"
      ],
      "execution_count": null,
      "outputs": [
        {
          "output_type": "execute_result",
          "data": {
            "text/plain": [
              "mlp_classifier(\n",
              "  (layers): Sequential(\n",
              "    (0): Sequential(\n",
              "      (0): Linear(in_features=685, out_features=16, bias=True)\n",
              "      (1): LeakyReLU(negative_slope=True)\n",
              "    )\n",
              "    (1): Sequential(\n",
              "      (0): Linear(in_features=16, out_features=16, bias=True)\n",
              "      (1): LeakyReLU(negative_slope=True)\n",
              "    )\n",
              "    (2): Sequential(\n",
              "      (0): Linear(in_features=16, out_features=17, bias=True)\n",
              "    )\n",
              "  )\n",
              ")"
            ]
          },
          "metadata": {
            "tags": []
          },
          "execution_count": 19
        }
      ]
    },
    {
      "cell_type": "code",
      "metadata": {
        "id": "AkyP6RvxXDbI"
      },
      "source": [
        "dataiter = iter(dataloader_test)\n",
        "sequences, labels = dataiter.next()"
      ],
      "execution_count": null,
      "outputs": []
    },
    {
      "cell_type": "code",
      "metadata": {
        "id": "epP3Bb9dh2Cr"
      },
      "source": [
        "_, predicted = torch.max(outputs, 1)\n",
        "\n",
        "print('Predicted: ', ' '.join('%5s' % classes[predicted[j]]\n",
        "                              for j in range(17)))"
      ],
      "execution_count": null,
      "outputs": []
    },
    {
      "cell_type": "code",
      "metadata": {
        "id": "Q7GjVGOSh_JU"
      },
      "source": [
        "correct = 0\n",
        "total = 0\n",
        "with torch.no_grad():\n",
        "    for data in testloader:\n",
        "        images, labels = data\n",
        "        outputs = net(images)\n",
        "        _, predicted = torch.max(outputs.data, 1)\n",
        "        total += labels.size(0)\n",
        "        correct += (predicted == labels).sum().item()\n",
        "\n",
        "print('Accuracy of the network on the 10000 test images: %d %%' % (\n",
        "    100 * correct / total))"
      ],
      "execution_count": null,
      "outputs": []
    },
    {
      "cell_type": "markdown",
      "metadata": {
        "id": "np8Vjdo01ovT"
      },
      "source": [
        "## Ignore all below, old code!"
      ]
    },
    {
      "cell_type": "code",
      "metadata": {
        "id": "YLuI4dOc1ovT"
      },
      "source": [
        "nb_epochs = args.nb_epochs\n",
        "def train(epoch):\n",
        "    n = 0\n",
        "    for epoch in range(nb_epochs):\n",
        "        for seqs, labels in iter(dataloader_train):\n",
        "            print(\"step 1\")\n",
        "            zs = model(seqs.float())\n",
        "            print(\"completed  model\")\n",
        "            loss = criterion(zs, labels) # computes total loss\n",
        "            print(\"computed loss\")\n",
        "            loss.backward() # compute updates for each parameter\n",
        "            print(\"updated\")\n",
        "            optimizer.step() # make the updates for each param.\n",
        "            optimizer.zero_grad() # clean up step \n",
        "            print(epoch)\n",
        "        \n",
        "            n += 1 \n",
        "    \n",
        "    return model"
      ],
      "execution_count": null,
      "outputs": []
    },
    {
      "cell_type": "code",
      "metadata": {
        "id": "gBIW1JUD1ovU"
      },
      "source": [
        "test = train(10)"
      ],
      "execution_count": null,
      "outputs": []
    },
    {
      "cell_type": "code",
      "metadata": {
        "id": "oJvvCVNI1ovV"
      },
      "source": [
        "seqs, labels = next(iter(dataloader_train))"
      ],
      "execution_count": null,
      "outputs": []
    },
    {
      "cell_type": "code",
      "metadata": {
        "id": "JSVZsO7l1ovV"
      },
      "source": [
        "print(seqs.shape)\n",
        "print(labels.shape)"
      ],
      "execution_count": null,
      "outputs": []
    },
    {
      "cell_type": "markdown",
      "metadata": {
        "id": "I0SU3PbV1ovW"
      },
      "source": [
        "## Disregard the code under (old stuff):"
      ]
    },
    {
      "cell_type": "code",
      "metadata": {
        "id": "wEIZzSVs1ovW"
      },
      "source": [
        "seqs, labels = next(iter(dataloader_train))"
      ],
      "execution_count": null,
      "outputs": []
    },
    {
      "cell_type": "code",
      "metadata": {
        "id": "paKkLZbH1ovW"
      },
      "source": [
        "print(labels.shape)"
      ],
      "execution_count": null,
      "outputs": []
    },
    {
      "cell_type": "code",
      "metadata": {
        "id": "xSxPO6w51ovX"
      },
      "source": [
        "class Generator(nn.Module):\n",
        "    def __init__(self, z_dim=685, im_dim=685, hidden_dim=128):\n",
        "        super(Generator, self).__init__()\n",
        "        # Build the neural network\n",
        "        self.gen = nn.Sequential(\n",
        "            get_generator_block(z_dim, hidden_dim),\n",
        "            get_generator_block(hidden_dim, hidden_dim * 2),\n",
        "            get_generator_block(hidden_dim * 2, hidden_dim * 4),\n",
        "            get_generator_block(hidden_dim * 4, hidden_dim * 8),\n",
        "            nn.Linear(hidden_dim * 8, im_dim),\n",
        "            nn.Sigmoid()\n",
        "        )\n",
        "    def forward(self, noise):\n",
        "        return self.gen(noise)\n",
        "    \n",
        "class Discriminator(nn.Module):\n",
        "    def __init__(self, im_dim=685, hidden_dim=128):\n",
        "        super(Discriminator, self).__init__()\n",
        "        self.disc = nn.Sequential(\n",
        "            get_discriminator_block(im_dim, hidden_dim * 4),\n",
        "            get_discriminator_block(hidden_dim * 4, hidden_dim * 2),\n",
        "            get_discriminator_block(hidden_dim * 2, hidden_dim),\n",
        "            nn.Linear(hidden_dim, 1)\n",
        "        )\n",
        "\n",
        "    def forward(self, image):\n",
        "        return self.disc(image)\n",
        "    "
      ],
      "execution_count": null,
      "outputs": []
    },
    {
      "cell_type": "code",
      "metadata": {
        "id": "KVUlszNC1ovX"
      },
      "source": [
        "gen = Generator(z_dim).to(device)\n",
        "gen_opt = torch.optim.Adam(gen.parameters(), lr=args.learning_rate)\n",
        "disc = Discriminator().to(device) \n",
        "disc_opt = torch.optim.Adam(disc.parameters(), lr=args.learning_rate)"
      ],
      "execution_count": null,
      "outputs": []
    },
    {
      "cell_type": "code",
      "metadata": {
        "id": "8ChtGp4y1ovX"
      },
      "source": [
        "cur_step = 0\n",
        "mean_generator_loss = 0\n",
        "mean_discriminator_loss = 0\n",
        "test_generator = True # Whether the generator should be tested\n",
        "gen_loss = False\n",
        "for epoch in range(args.nb_epochs):\n",
        "  \n",
        "    # Dataloader returns the batches\n",
        "    for real in dataloader_train:\n",
        "        cur_batch_size = len(real)\n",
        "        print(real.shape)\n",
        "\n",
        "        # Flatten the batch of real images from the dataset\n",
        "        real = real.view(cur_batch_size, -1).to(device)\n",
        "\n",
        "        # Zero out the gradients before backpropagation\n",
        "        disc_opt.zero_grad()\n",
        "\n",
        "        # Calculate discriminator loss\n",
        "        disc_loss = get_disc_loss(gen, disc, criterion, real, cur_batch_size, z_dim, device)\n",
        "\n",
        "        # Update gradients\n",
        "        disc_loss.backward(retain_graph=True)\n",
        "\n",
        "        # Update optimizer\n",
        "        disc_opt.step()\n",
        "\n",
        "        # For testing purposes, to keep track of the generator weights\n",
        "        if test_generator:\n",
        "            old_generator_weights = gen.gen[0][0].weight.detach().clone()\n",
        "\n",
        "        gen_opt.zero_grad()\n",
        "        gen_loss = get_gen_loss(gen, disc, criterion, cur_batch_size, z_dim, device)\n",
        "        gen_loss.backward()\n",
        "        gen_opt.step()\n",
        "        # For testing purposes, to check that your code changes the generator weights\n",
        "        if test_generator:\n",
        "            assert torch.any(gen.gen[0][0].weight.detach().clone() != old_generator_weights)\n",
        "\n",
        "        # Keep track of the average discriminator loss\n",
        "        mean_discriminator_loss += disc_loss.item() / display_step\n",
        "\n",
        "        # Keep track of the average generator loss\n",
        "        mean_generator_loss += gen_loss.item() / display_step\n",
        "        \n",
        "        print(epoch)\n",
        "        \n",
        "        ### Visualization code ###\n",
        "        if cur_step % display_step == 0 and cur_step > 0:\n",
        "            print(f\"Step {cur_step}: Generator loss: {mean_generator_loss}, discriminator loss: {mean_discriminator_loss}\")\n",
        "            fake_noise = get_noise(cur_batch_size, z_dim, device=device)\n",
        "            fake = gen(fake_noise)\n",
        "            show_tensor_images(fake)\n",
        "            show_tensor_images(real)\n",
        "            mean_generator_loss = 0\n",
        "            mean_discriminator_loss = 0\n",
        "        cur_step += 1"
      ],
      "execution_count": null,
      "outputs": []
    },
    {
      "cell_type": "code",
      "metadata": {
        "id": "T8ukefS21ovY"
      },
      "source": [
        "print(args.nb_epochs)"
      ],
      "execution_count": null,
      "outputs": []
    },
    {
      "cell_type": "code",
      "metadata": {
        "id": "jRK1YFHA1ovY"
      },
      "source": [
        "class mlp_generator(nn.Module):\n",
        "    \"\"\" Multi-Layer Perceptron for generating sequences.\n",
        "\n",
        "    Parameters:\n",
        "        inputs (tensor):Batch of noises inputed to the network.\n",
        "        dim (int):Generator dimension parameter (in each middle layer).\n",
        "        input_size (int):Size of latent space (i.e., the first layer dimension).\n",
        "        output_size (int):Size of the last layer (=max_seq_len*vocab_size).\n",
        "        num_layers (int):How many middle or hidden layers for generator.\n",
        "\n",
        "    Returns:\n",
        "        outputs (tensor):Batch of lists of values (each `vocab_size` interval represents one nucleotide).   \n",
        "\n",
        "    \"\"\"\n",
        "    def __init__(self, dim=200, input_size=100, output_size=10, num_layers=4):\n",
        "        super(mlp_generator, self).__init__()\n",
        "\n",
        "        num_layers = num_layers + 2  # add 2 for the 1st and the last layers\n",
        "        modules = []\n",
        "        for layer in range(num_layers): \n",
        "            in_size = input_size if layer == 0 else dim\n",
        "            out_size = output_size if layer == num_layers - 1 else dim\n",
        "            if layer < num_layers - 1:\n",
        "                modules.append(\n",
        "                    nn.Sequential(\n",
        "                        nn.Linear(in_size, out_size),\n",
        "                        nn.ReLU(True),\n",
        "                    )\n",
        "                )\n",
        "            else:\n",
        "                modules.append(\n",
        "                    nn.Sequential(\n",
        "                        nn.Linear(in_size, out_size),\n",
        "                        nn.Sigmoid()\n",
        "                    )\n",
        "                )\n",
        "        self.layers = nn.Sequential(*modules)\n",
        "        \n",
        "    def forward(self, x):\n",
        "        x = x.view(x.size(0), -1)\n",
        "        x = self.layers(x)\n",
        "        return x\n",
        "\n",
        "\n",
        "class mlp_discriminator(nn.Module):\n",
        "    \"\"\" Multi-Layer Perceptron for discriminating real vs generated sequences.\n",
        "\n",
        "    Parameters:\n",
        "        inputs (tensor):Tensor of size (batch_size, vocab_size*max_seq_len) containing real or generated sequences.\n",
        "        dim (int):Discriminator dimension parameter (in each middle layer).\n",
        "        input_size (int):Size of the first layer (vocab_size*max_seq_len).\n",
        "        num_layers (int):How many middle or hidden layers for discriminator.\n",
        "\n",
        "    Returns:\n",
        "        outputs (tensor):Batch of (single) values for real or generated inputs.   \n",
        "\n",
        "    \"\"\"\n",
        "    def __init__(self, dim, input_size, num_layers=4):\n",
        "        super(mlp_discriminator, self).__init__()\n",
        "        \n",
        "        num_layers = num_layers + 2  # add 2 for the 1st and the last layers\n",
        "        modules = []\n",
        "        for layer in range(num_layers):\n",
        "            in_size = input_size if layer == 0 else dim\n",
        "            out_size = 1 if layer == num_layers - 1 else dim\n",
        "            if layer < num_layers - 1:\n",
        "                modules.append(\n",
        "                    nn.Sequential(\n",
        "                        nn.Linear(in_size, out_size),\n",
        "                        nn.LeakyReLU(0.2, inplace=True),\n",
        "                    )\n",
        "                )\n",
        "            else:\n",
        "                modules.append(\n",
        "                    nn.Sequential(\n",
        "                        nn.Linear(in_size, out_size),\n",
        "                    )\n",
        "                )\n",
        "        self.layers = nn.Sequential(*modules)\n",
        "        \n",
        "    def forward(self, inputs):\n",
        "        inputs = inputs.view(inputs.size(0), -1)\n",
        "        outputs = self.layers(inputs)\n",
        "        return outputs\n"
      ],
      "execution_count": null,
      "outputs": []
    },
    {
      "cell_type": "code",
      "metadata": {
        "id": "SV-C_UPn1ovZ"
      },
      "source": [
        "# instantiate models\n",
        "if args.model_type==\"mlp\":\n",
        "    netG = mlp_generator(args.gen_dim, args.latent_dim, args.max_seq_len*vocab_size, args.gen_layers).to(device)\n",
        "    netD = mlp_discriminator(args.disc_dim, args.max_seq_len*vocab_size, args.disc_layers).to(device)\n",
        "elif args.model_type==\"resnet1d\":\n",
        "    netG = resnet_generator_1d(args.gen_dim, args.latent_dim, vocab_size, args.max_seq_len, args.gen_layers).to(device)\n",
        "    netD = resnet_discriminator_1d(args.disc_dim, vocab_size, args.max_seq_len, args.disc_layers).to(device)\n",
        "elif args.model_type==\"resnet2d\":\n",
        "    netG = resnet_generator_2d(args.gen_dim, args.latent_dim, vocab_size, args.max_seq_len, args.gen_layers).to(device)\n",
        "    netD = resnet_discriminator_2d(args.disc_dim, vocab_size, args.max_seq_len, args.disc_layers).to(device)\n",
        "\n",
        "print(\"{}\\nGenerator Network Architecture:\\n{}\\n{}\\n\".format(\"=\"*31, \"~\"*31, netG))\n",
        "print(\"{}\\nDiscriminator Network Architecture:\\n{}\\n{}\\n\".format(\"=\"*35, \"~\"*35, netD))\n",
        "\n",
        "# cost function (for discriminator prediction)\n",
        "criterion = nn.BCEWithLogitsLoss()\n",
        "\n",
        "# setup optimizer\n",
        "optimizerG = optim.Adam(list(netG.parameters()), lr=args.learning_rate, betas=(args.beta1, 0.999))\n",
        "optimizerD = optim.Adam(list(netD.parameters()), lr=args.learning_rate, betas=(args.beta1, 0.999))\n",
        "\n",
        "# use an exponentially decaying learning rate\n",
        "schedulerG = optim.lr_scheduler.ExponentialLR(optimizerG, gamma=0.99)\n",
        "schedulerD= optim.lr_scheduler.ExponentialLR(optimizerD, gamma=0.99)"
      ],
      "execution_count": null,
      "outputs": []
    }
  ]
}